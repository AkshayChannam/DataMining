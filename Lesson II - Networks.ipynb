{
 "cells": [
  {
   "cell_type": "markdown",
   "metadata": {},
   "source": [
    "<h1><div align=\"center\">Social Data Mining</div></h1>\n",
    "<h2><div align=\"center\">Lesson II - Networks</div></h2>\n",
    "<div align=\"center\">Bruno Gonçalves</div>\n",
    "<div align=\"center\"><a href=\"http://www.data4sci.com/\">www.data4sci.com</a></div>\n",
    "<div align=\"center\">@bgoncalves, @data4sci</div>"
   ]
  },
  {
   "cell_type": "code",
   "execution_count": 1,
   "metadata": {},
   "outputs": [],
   "source": [
    "from collections import Counter\n",
    "import json\n",
    "\n",
    "import numpy as np\n",
    "import matplotlib.pyplot as plt\n",
    "import networkx as NX\n",
    "import requests\n",
    "\n",
    "import watermark\n",
    "\n",
    "%load_ext watermark\n",
    "%matplotlib inline"
   ]
  },
  {
   "cell_type": "markdown",
   "metadata": {},
   "source": [
    "Let's start by print out the versions of the libraries we're using for future reference"
   ]
  },
  {
   "cell_type": "code",
   "execution_count": 2,
   "metadata": {},
   "outputs": [
    {
     "name": "stdout",
     "output_type": "stream",
     "text": [
      "Thu Sep 05 2019 \n",
      "\n",
      "CPython 3.7.3\n",
      "IPython 6.2.1\n",
      "\n",
      "numpy 1.16.2\n",
      "networkx 2.2\n",
      "requests 2.21.0\n",
      "\n",
      "compiler   : Clang 4.0.1 (tags/RELEASE_401/final)\n",
      "system     : Darwin\n",
      "release    : 18.7.0\n",
      "machine    : x86_64\n",
      "processor  : i386\n",
      "CPU cores  : 8\n",
      "interpreter: 64bit\n"
     ]
    }
   ],
   "source": [
    "%watermark -n -v -m -p numpy,networkx,requests"
   ]
  },
  {
   "cell_type": "markdown",
   "metadata": {},
   "source": [
    "# Network Challenge"
   ]
  },
  {
   "cell_type": "code",
   "execution_count": 3,
   "metadata": {},
   "outputs": [],
   "source": [
    "G = NX.Graph()"
   ]
  },
  {
   "cell_type": "code",
   "execution_count": 4,
   "metadata": {},
   "outputs": [],
   "source": [
    "G.add_edge('A', 'B')\n",
    "G.add_edge('A', 'C')\n",
    "G.add_edge('B', 'C')\n",
    "G.add_edge('D', 'E')\n",
    "G.add_edge('E', 'F')\n",
    "G.add_edge('D', 'F')"
   ]
  },
  {
   "cell_type": "code",
   "execution_count": 5,
   "metadata": {},
   "outputs": [],
   "source": [
    "components = list(NX.connected_components(G))"
   ]
  },
  {
   "cell_type": "code",
   "execution_count": 6,
   "metadata": {},
   "outputs": [
    {
     "name": "stdout",
     "output_type": "stream",
     "text": [
      "The first component has nodes {'A', 'C', 'B'}\n",
      "The second component has nodes {'F', 'D', 'E'}\n"
     ]
    }
   ],
   "source": [
    "print(\"The first component has nodes\", components[0])\n",
    "print(\"The second component has nodes\", components[1])"
   ]
  },
  {
   "cell_type": "markdown",
   "metadata": {},
   "source": [
    "# Directed Graphs"
   ]
  },
  {
   "cell_type": "code",
   "execution_count": 7,
   "metadata": {},
   "outputs": [],
   "source": [
    "url = \"http://www.bgoncalves.com/test.json\""
   ]
  },
  {
   "cell_type": "markdown",
   "metadata": {},
   "source": [
    "In this example, we will load a json file from the internet using requests and extract the edges from there. You can think of this as a simplified version of what you might do while mining graphs from an API"
   ]
  },
  {
   "cell_type": "code",
   "execution_count": 31,
   "metadata": {},
   "outputs": [],
   "source": [
    "request = requests.get(url)\n",
    "data = json.loads(request.text)"
   ]
  },
  {
   "cell_type": "markdown",
   "metadata": {},
   "source": [
    "Now that we have the contents of the JSON file (our API response) we can extract a list of nodes and edges"
   ]
  },
  {
   "cell_type": "code",
   "execution_count": 9,
   "metadata": {},
   "outputs": [],
   "source": [
    "nodes = set()\n",
    "edges = []\n",
    "\n",
    "for user in data:\n",
    "    name = user[\"name\"]\n",
    "    \n",
    "    nodes.add(name)\n",
    "    \n",
    "    for friend in user[\"friends\"]:\n",
    "        nodes.add(friend[\"name\"])\n",
    "        edges.append((name, friend[\"name\"]))"
   ]
  },
  {
   "cell_type": "markdown",
   "metadata": {},
   "source": [
    "And finally create our directed graph"
   ]
  },
  {
   "cell_type": "code",
   "execution_count": 10,
   "metadata": {},
   "outputs": [],
   "source": [
    "G = NX.DiGraph()\n",
    "G.add_nodes_from(nodes)\n",
    "G.add_edges_from(edges)"
   ]
  },
  {
   "cell_type": "markdown",
   "metadata": {},
   "source": [
    "And query some of it's propertie"
   ]
  },
  {
   "cell_type": "code",
   "execution_count": 11,
   "metadata": {},
   "outputs": [
    {
     "name": "stdout",
     "output_type": "stream",
     "text": [
      "Number of nodes: 28\n",
      "Number of edges: 21\n",
      "Is Directed? True\n"
     ]
    }
   ],
   "source": [
    "print(\"Number of nodes:\", G.number_of_nodes())\n",
    "print(\"Number of edges:\", G.number_of_edges())\n",
    "print(\"Is Directed?\", NX.is_directed(G))"
   ]
  },
  {
   "cell_type": "markdown",
   "metadata": {},
   "source": [
    "### In/Out Degree"
   ]
  },
  {
   "cell_type": "markdown",
   "metadata": {},
   "source": [
    "For directed graphs, the in and out degree might differ. In this simple example we have:"
   ]
  },
  {
   "cell_type": "code",
   "execution_count": 12,
   "metadata": {},
   "outputs": [],
   "source": [
    "in_degree = dict(G.in_degree())\n",
    "out_degree = dict(G.out_degree())"
   ]
  },
  {
   "cell_type": "markdown",
   "metadata": {},
   "source": [
    "in_degree and out_degree return a specialized object that represents a view over the graph. Here we convert them to dictionaries for convenience"
   ]
  },
  {
   "cell_type": "code",
   "execution_count": 13,
   "metadata": {},
   "outputs": [
    {
     "name": "stdout",
     "output_type": "stream",
     "text": [
      "Atkinson Cabrera 1 0\n",
      "Consuelo Ratliff 1 0\n",
      "Dorothea Goodman 1 0\n",
      "Sosa Greer 1 0\n",
      "Janette Morton 0 3\n",
      "Sandra Weiss 1 0\n",
      "Laura Becker 1 0\n",
      "Trujillo Valenzuela 1 0\n",
      "Mcintyre Moran 1 0\n",
      "Cecile Perkins 1 0\n",
      "Nadine Weber 1 0\n",
      "Massey Poole 1 0\n",
      "Giles Golden 0 3\n",
      "Jody Rivers 1 0\n",
      "Chase Marshall 1 0\n",
      "Brock Wyatt 1 0\n",
      "Bentley Galloway 0 3\n",
      "Avis Mendez 0 3\n",
      "Meyer Ewing 0 3\n",
      "Alexandria Hancock 0 3\n",
      "Wilma Tyson 0 3\n",
      "Stokes Shaffer 1 0\n",
      "Martin Taylor 1 0\n",
      "Monique Mccall 1 0\n",
      "Agnes Savage 1 0\n",
      "Gay Warren 1 0\n",
      "Cummings Cantrell 1 0\n",
      "Odessa Wells 1 0\n"
     ]
    }
   ],
   "source": [
    "for user in in_degree.keys():\n",
    "    print(user, in_degree[user], out_degree[user])"
   ]
  },
  {
   "cell_type": "markdown",
   "metadata": {},
   "source": [
    "# Model Implementation"
   ]
  },
  {
   "cell_type": "markdown",
   "metadata": {},
   "source": [
    "The Barabasi Albert model is one of the better known network models, as it was the first to introduce the preferential attachment mechanism as a way of explainig the broad tail distributions observed in empirical networks. Here we implement preferential attachment by simply choosing randomly over the previously added edge endpoints:"
   ]
  },
  {
   "cell_type": "code",
   "execution_count": 14,
   "metadata": {},
   "outputs": [],
   "source": [
    "def BarabasiAlbert(N=1000000):\n",
    "        G = NX.Graph()\n",
    "\n",
    "        nodes = range(N)\n",
    "        G.add_nodes_from(nodes)\n",
    "\n",
    "        edges = [0,1,1,2,2,0]\n",
    "\n",
    "        for node_i in range(3, N):\n",
    "                pos = np.random.randint(len(edges))\n",
    "                node_j = edges[pos]\n",
    "\n",
    "                edges.append(node_i)\n",
    "                edges.append(node_j)\n",
    "\n",
    "        edges = zip(nodes, edges[1::2])\n",
    "\n",
    "        G.add_edges_from(edges)\n",
    "\n",
    "        return G"
   ]
  },
  {
   "cell_type": "markdown",
   "metadata": {},
   "source": [
    "To generate an instance of a BA network, we simply do:"
   ]
  },
  {
   "cell_type": "code",
   "execution_count": 15,
   "metadata": {},
   "outputs": [],
   "source": [
    "net = BarabasiAlbert()"
   ]
  },
  {
   "cell_type": "markdown",
   "metadata": {},
   "source": [
    "From where we can extract the degree distribution by counting how many nodes have degree k:"
   ]
  },
  {
   "cell_type": "code",
   "execution_count": 16,
   "metadata": {},
   "outputs": [],
   "source": [
    "degrees = dict(net.degree())\n",
    "Pk = np.array(sorted(Counter(degrees.values()).items(), key=lambda x:x[0]))"
   ]
  },
  {
   "cell_type": "markdown",
   "metadata": {},
   "source": []
  },
  {
   "cell_type": "code",
   "execution_count": 17,
   "metadata": {},
   "outputs": [],
   "source": [
    "x = np.arange(1, 100).astype('float')\n",
    "y = 1e6*np.power(x, -3)"
   ]
  },
  {
   "cell_type": "code",
   "execution_count": 18,
   "metadata": {},
   "outputs": [
    {
     "data": {
      "image/png": "[encoded data removed]",
      "text/plain": [
       "<Figure size 792x576 with 1 Axes>"
      ]
     },
     "metadata": {
      "needs_background": "light"
     },
     "output_type": "display_data"
    }
   ],
   "source": [
    "plt.loglog(Pk.T[0], Pk.T[1], 'b*', label='model')\n",
    "plt.loglog(x, y, 'r-', label='$P(k)\\sim k^{-3}$')\n",
    "plt.legend()\n",
    "plt.xlabel('$k$')\n",
    "plt.ylabel('$P[k]$')\n",
    "plt.title('Degree distribution')\n",
    "plt.gcf().set_size_inches(11, 8)"
   ]
  },
  {
   "cell_type": "code",
   "execution_count": 19,
   "metadata": {},
   "outputs": [
    {
     "name": "stdout",
     "output_type": "stream",
     "text": [
      "Number of nodes: 1000000\n",
      "Number of edges: 1000000\n",
      "Is Connected? True\n",
      "Is Directed? False\n"
     ]
    }
   ],
   "source": [
    "print(\"Number of nodes:\", net.number_of_nodes())\n",
    "print(\"Number of edges:\", net.number_of_edges())\n",
    "print(\"Is Connected?\", NX.is_connected(net))\n",
    "print(\"Is Directed?\", NX.is_directed(net))"
   ]
  },
  {
   "cell_type": "markdown",
   "metadata": {},
   "source": [
    "# Network models\n",
    "Fortunately, NetworkX is able to generate a large number of differnet kinds of graphs so we don't always have to implement them by hand. Typically, the graph generator method name end with \"\\_graph\":"
   ]
  },
  {
   "cell_type": "code",
   "execution_count": 20,
   "metadata": {
    "scrolled": false
   },
   "outputs": [
    {
     "name": "stdout",
     "output_type": "stream",
     "text": [
      "  0 NX.to_networkx_graph() -- Make a NetworkX graph from a known data structure.\n",
      "  1 NX.barbell_graph() -- Return the Barbell Graph: two complete graphs connected by a path.\n",
      "  2 NX.complete_graph() -- Return the complete graph `K_n` with n nodes.\n",
      "  3 NX.complete_multipartite_graph() -- Returns the complete multipartite graph with the specified subset sizes.\n",
      "  4 NX.circular_ladder_graph() -- Return the circular ladder graph $CL_n$ of length n.\n",
      "  5 NX.circulant_graph() -- Generates the circulant graph $Ci_n(x_1, x_2, ..., x_m)$ with $n$ vertices.\n",
      "  6 NX.cycle_graph() -- Return the cycle graph $C_n$ of cyclically connected nodes.\n",
      "  7 NX.dorogovtsev_goltsev_mendes_graph() -- Return the hierarchically constructed Dorogovtsev-Goltsev-Mendes graph.\n",
      "  8 NX.empty_graph() -- Return the empty graph with n nodes and zero edges.\n",
      "  9 NX.ladder_graph() -- Return the Ladder graph of length n.\n",
      " 10 NX.lollipop_graph() -- Return the Lollipop Graph; `K_m` connected to `P_n`.\n",
      " 11 NX.null_graph() -- Return the Null graph with no nodes or edges.\n",
      " 12 NX.path_graph() -- Return the Path graph `P_n` of linearly connected nodes.\n",
      " 13 NX.star_graph() -- Return the star graph\n",
      " 14 NX.trivial_graph() -- Return the Trivial graph with one node (with label 0) and no edges.\n",
      " 15 NX.turan_graph() -- Return the Turan Graph\n",
      " 16 NX.wheel_graph() -- Return the wheel graph\n",
      " 17 NX.caveman_graph() -- Returns a caveman graph of `l` cliques of size `k`.\n",
      " 18 NX.connected_caveman_graph() -- Returns a connected caveman graph of `l` cliques of size `k`.\n",
      " 19 NX.relaxed_caveman_graph() -- Return a relaxed caveman graph.\n",
      " 20 NX.random_partition_graph() -- Return the random partition graph with a partition of sizes.\n",
      " 21 NX.planted_partition_graph() -- Return the planted l-partition graph.\n",
      " 22 NX.gaussian_random_partition_graph() -- Generate a Gaussian random partition graph.\n",
      " 23 NX.windmill_graph() -- Generate a windmill graph.\n",
      " 24 NX.expected_degree_graph() -- Return a random graph with given expected degrees.\n",
      " 25 NX.havel_hakimi_graph() -- Return a simple graph with given degree sequence constructed\n",
      " 26 NX.directed_havel_hakimi_graph() -- Return a directed graph with the given degree sequences.\n",
      " 27 NX.random_degree_sequence_graph() -- Return a simple random graph with the given degree sequence.\n",
      " 28 NX.gn_graph() -- Return the growing network (GN) digraph with `n` nodes.\n",
      " 29 NX.gnc_graph() -- Return the growing network with copying (GNC) digraph with `n` nodes.\n",
      " 30 NX.gnr_graph() -- Return the growing network with redirection (GNR) digraph with `n`\n",
      " 31 NX.random_k_out_graph() -- Returns a random `k`-out graph with preferential attachment.\n",
      " 32 NX.scale_free_graph() -- Returns a scale-free directed graph.\n",
      " 33 NX.partial_duplication_graph() -- Return a random graph using the partial duplication model.\n",
      " 34 NX.duplication_divergence_graph() -- Returns an undirected graph using the duplication-divergence model.\n",
      " 35 NX.ego_graph() -- Returns induced subgraph of neighbors centered at node n within\n",
      " 36 NX.margulis_gabber_galil_graph() -- Return the Margulis-Gabber-Galil undirected MultiGraph on `n^2` nodes.\n",
      " 37 NX.chordal_cycle_graph() -- Return the chordal cycle graph on `p` nodes.\n",
      " 38 NX.geographical_threshold_graph() -- Returns a geographical threshold graph.\n",
      " 39 NX.waxman_graph() -- Return a Waxman random graph.\n",
      " 40 NX.navigable_small_world_graph() -- Return a navigable small-world graph.\n",
      " 41 NX.random_geometric_graph() -- Returns a random geometric graph in the unit cube of dimensions `dim`.\n",
      " 42 NX.soft_random_geometric_graph() -- Returns a soft random geometric graph in the unit cube.\n",
      " 43 NX.thresholded_random_geometric_graph() -- Returns a thresholded random geometric graph in the unit cube.\n",
      " 44 NX.uniform_random_intersection_graph() -- Return a uniform random intersection graph.\n",
      " 45 NX.k_random_intersection_graph() -- Return a intersection graph with randomly chosen attribute sets for\n",
      " 46 NX.general_random_intersection_graph() -- Return a random intersection graph with independent probabilities\n",
      " 47 NX.joint_degree_graph() -- Generates a random simple graph with the given joint degree dictionary.\n",
      " 48 NX.grid_2d_graph() -- Returns the two-dimensional grid graph.\n",
      " 49 NX.grid_graph() -- Returns the *n*-dimensional grid graph.\n",
      " 50 NX.hypercube_graph() -- Returns the *n*-dimensional hypercube graph.\n",
      " 51 NX.triangular_lattice_graph() -- Returns the $m$ by $n$ triangular lattice graph.\n",
      " 52 NX.hexagonal_lattice_graph() -- Returns an `m` by `n` hexagonal lattice graph.\n",
      " 53 NX.line_graph() -- Returns the line graph of the graph or digraph `G`.\n",
      " 54 NX.inverse_line_graph() -- Returns the inverse line graph of graph G.\n",
      " 55 NX.mycielski_graph() -- Generator for the n_th Mycielski Graph.\n",
      " 56 NX.random_clustered_graph() -- Generate a random graph with the given joint independent edge degree and\n",
      " 57 NX.fast_gnp_random_graph() -- Returns a $G_{n,p}$ random graph, also known as an Erdős-Rényi graph or\n",
      " 58 NX.gnp_random_graph() -- Returns a $G_{n,p}$ random graph, also known as an Erdős-Rényi graph\n",
      " 59 NX.dense_gnm_random_graph() -- Returns a $G_{n,m}$ random graph.\n",
      " 60 NX.gnm_random_graph() -- Returns a $G_{n,m}$ random graph.\n",
      " 61 NX.erdos_renyi_graph() -- Returns a $G_{n,p}$ random graph, also known as an Erdős-Rényi graph\n",
      " 62 NX.binomial_graph() -- Returns a $G_{n,p}$ random graph, also known as an Erdős-Rényi graph\n",
      " 63 NX.newman_watts_strogatz_graph() -- Return a Newman–Watts–Strogatz small-world graph.\n",
      " 64 NX.watts_strogatz_graph() -- Return a Watts–Strogatz small-world graph.\n",
      " 65 NX.connected_watts_strogatz_graph() -- Returns a connected Watts–Strogatz small-world graph.\n",
      " 66 NX.random_regular_graph() -- Returns a random $d$-regular graph on $n$ nodes.\n",
      " 67 NX.barabasi_albert_graph() -- Returns a random graph according to the Barabási–Albert preferential\n",
      " 68 NX.extended_barabasi_albert_graph() -- Returns an extended Barabási–Albert model graph.\n",
      " 69 NX.powerlaw_cluster_graph() -- Holme and Kim algorithm for growing graphs with powerlaw\n",
      " 70 NX.random_shell_graph() -- Returns a random shell graph for the constructor given.\n",
      " 71 NX.random_kernel_graph() -- Return an random graph based on the specified kernel.\n",
      " 72 NX.make_small_graph() -- Return the small graph described by graph_description.\n",
      " 73 NX.LCF_graph() -- Return the cubic graph specified in LCF notation.\n",
      " 74 NX.bull_graph() -- Return the Bull graph.\n",
      " 75 NX.chvatal_graph() -- Return the Chvátal graph.\n",
      " 76 NX.cubical_graph() -- Return the 3-regular Platonic Cubical graph.\n",
      " 77 NX.desargues_graph() -- Return the Desargues graph.\n",
      " 78 NX.diamond_graph() -- Return the Diamond graph.\n",
      " 79 NX.dodecahedral_graph() -- Return the Platonic Dodecahedral graph.\n",
      " 80 NX.frucht_graph() -- Return the Frucht Graph.\n",
      " 81 NX.heawood_graph() -- Return the Heawood graph, a (3,6) cage.\n",
      " 82 NX.hoffman_singleton_graph() -- Return the Hoffman-Singleton Graph.\n",
      " 83 NX.house_graph() -- Return the House graph (square with triangle on top).\n",
      " 84 NX.house_x_graph() -- Return the House graph with a cross inside the house square.\n",
      " 85 NX.icosahedral_graph() -- Return the Platonic Icosahedral graph.\n",
      " 86 NX.krackhardt_kite_graph() -- Return the Krackhardt Kite Social Network.\n",
      " 87 NX.moebius_kantor_graph() -- Return the Moebius-Kantor graph.\n",
      " 88 NX.octahedral_graph() -- Return the Platonic Octahedral graph.\n",
      " 89 NX.pappus_graph() -- Return the Pappus graph.\n",
      " 90 NX.petersen_graph() -- Return the Petersen graph.\n",
      " 91 NX.sedgewick_maze_graph() -- Return a small maze with a cycle.\n",
      " 92 NX.tetrahedral_graph() -- Return the 3-regular Platonic Tetrahedral graph.\n",
      " 93 NX.truncated_cube_graph() -- Return the skeleton of the truncated cube.\n",
      " 94 NX.truncated_tetrahedron_graph() -- Return the skeleton of the truncated Platonic tetrahedron.\n",
      " 95 NX.tutte_graph() -- Return the Tutte graph.\n",
      " 96 NX.karate_club_graph() -- Return Zachary's Karate Club graph.\n",
      " 97 NX.davis_southern_women_graph() -- Return Davis Southern women social network.\n",
      " 98 NX.florentine_families_graph() -- Return Florentine families graph.\n",
      " 99 NX.stochastic_graph() -- Returns a right-stochastic representation of directed graph `G`.\n",
      "100 NX.triad_graph() -- Returns the triad graph with the given name.\n",
      "101 NX.relabel_gexf_graph() -- Relabel graph using \"label\" node keyword for node label.\n",
      "102 NX.json_graph() -- *********\n",
      "103 NX.node_link_graph() -- Return graph from node-link data format.\n",
      "104 NX.adjacency_graph() -- Return graph from adjacency data format.\n",
      "105 NX.tree_graph() -- Return graph from tree data format.\n",
      "106 NX.jit_graph() -- Read a graph from JIT JSON.\n",
      "107 NX.cytoscape_graph() -- None\n",
      "108 NX.make_max_clique_graph() -- Returns the maximal clique graph of the given graph.\n",
      "109 NX.is_directed_acyclic_graph() -- Return True if the graph `G` is a directed acyclic graph (DAG) or\n",
      "110 NX.quotient_graph() -- Returns the quotient graph of `G` under the specified equivalence\n",
      "111 NX.complete_bipartite_graph() -- Return the complete bipartite graph `K_{n_1,n_2}`.\n",
      "112 NX.projected_graph() -- Returns the projection of B onto one of its node sets.\n"
     ]
    }
   ],
   "source": [
    "count = 0\n",
    "\n",
    "for func in NX.__dict__.keys():\n",
    "    if func.endswith('_graph'):\n",
    "        doc_string = NX.__dict__[func].__doc__\n",
    "        \n",
    "        if doc_string is not None:\n",
    "            print('%3u NX.%s() -- %s' % (count, func, doc_string.strip().split('\\n')[0]))\n",
    "        else:\n",
    "            print('%3u NX.%s() -- None' % (count, func))\n",
    "            \n",
    "        count += 1"
   ]
  },
  {
   "cell_type": "markdown",
   "metadata": {},
   "source": [
    "These can be used easily by simply passing the proper parameters. To get further information about how to use any of them, we can just check out the documentation. For a, say, Watts-Strogats graph, using **NX.connected_watts_strogatz_graph** we have:"
   ]
  },
  {
   "cell_type": "code",
   "execution_count": 21,
   "metadata": {},
   "outputs": [
    {
     "name": "stdout",
     "output_type": "stream",
     "text": [
      "Help on function connected_watts_strogatz_graph in module networkx.generators.random_graphs:\n",
      "\n",
      "connected_watts_strogatz_graph(n, k, p, tries=100, seed=None)\n",
      "    Returns a connected Watts–Strogatz small-world graph.\n",
      "    \n",
      "    Attempts to generate a connected graph by repeated generation of\n",
      "    Watts–Strogatz small-world graphs.  An exception is raised if the maximum\n",
      "    number of tries is exceeded.\n",
      "    \n",
      "    Parameters\n",
      "    ----------\n",
      "    n : int\n",
      "        The number of nodes\n",
      "    k : int\n",
      "        Each node is joined with its `k` nearest neighbors in a ring\n",
      "        topology.\n",
      "    p : float\n",
      "        The probability of rewiring each edge\n",
      "    tries : int\n",
      "        Number of attempts to generate a connected graph.\n",
      "    seed : integer, random_state, or None (default)\n",
      "        Indicator of random number generation state.\n",
      "        See :ref:`Randomness<randomness>`.\n",
      "    \n",
      "    Notes\n",
      "    -----\n",
      "    First create a ring over $n$ nodes [1]_.  Then each node in the ring is joined\n",
      "    to its $k$ nearest neighbors (or $k - 1$ neighbors if $k$ is odd).\n",
      "    Then shortcuts are created by replacing some edges as follows: for each\n",
      "    edge $(u, v)$ in the underlying \"$n$-ring with $k$ nearest neighbors\"\n",
      "    with probability $p$ replace it with a new edge $(u, w)$ with uniformly\n",
      "    random choice of existing node $w$.\n",
      "    The entire process is repeated until a connected graph results.\n",
      "    \n",
      "    See Also\n",
      "    --------\n",
      "    newman_watts_strogatz_graph()\n",
      "    watts_strogatz_graph()\n",
      "    \n",
      "    References\n",
      "    ----------\n",
      "    .. [1] Duncan J. Watts and Steven H. Strogatz,\n",
      "       Collective dynamics of small-world networks,\n",
      "       Nature, 393, pp. 440--442, 1998.\n",
      "\n"
     ]
    }
   ],
   "source": [
    "help(NX.connected_watts_strogatz_graph)"
   ]
  },
  {
   "cell_type": "code",
   "execution_count": 22,
   "metadata": {},
   "outputs": [],
   "source": [
    "net = NX.connected_watts_strogatz_graph(100, 4, 0.1)"
   ]
  },
  {
   "cell_type": "markdown",
   "metadata": {},
   "source": [
    "*NetworkX* also has a wide range of layout algorithms for visualization. For example:"
   ]
  },
  {
   "cell_type": "code",
   "execution_count": 23,
   "metadata": {},
   "outputs": [
    {
     "name": "stderr",
     "output_type": "stream",
     "text": [
      "/Users/bgoncalves/anaconda3/lib/python3.7/site-packages/networkx/drawing/nx_pylab.py:563: MatplotlibDeprecationWarning: \n",
      "The iterable function was deprecated in Matplotlib 3.1 and will be removed in 3.3. Use np.iterable instead.\n",
      "  if not cb.iterable(width):\n",
      "/Users/bgoncalves/anaconda3/lib/python3.7/site-packages/networkx/drawing/nx_pylab.py:611: MatplotlibDeprecationWarning: \n",
      "The is_numlike function was deprecated in Matplotlib 3.0 and will be removed in 3.2. Use isinstance(..., numbers.Number) instead.\n",
      "  if cb.is_numlike(alpha):\n"
     ]
    },
    {
     "data": {
      "image/png": "[encoded data removed]",
      "text/plain": [
       "<Figure size 432x288 with 1 Axes>"
      ]
     },
     "metadata": {},
     "output_type": "display_data"
    }
   ],
   "source": [
    "NX.draw_circular(net)"
   ]
  },
  {
   "cell_type": "markdown",
   "metadata": {},
   "source": [
    "# Snowball Sampling"
   ]
  },
  {
   "cell_type": "code",
   "execution_count": 24,
   "metadata": {},
   "outputs": [],
   "source": [
    "def snowball(net, seed, max_depth = 3, maxnodes=1000):\n",
    "    seen = set()\n",
    "    queue = set()\n",
    "\n",
    "    queue.add(seed)\n",
    "    queue2 = set()\n",
    "\n",
    "    for _ in range(max_depth+1):\n",
    "        while queue:\n",
    "            user_id = queue.pop()\n",
    "            seen.add(user_id)\n",
    "\n",
    "            NN = net.neighbors(user_id)\n",
    "\n",
    "            for node in NN:\n",
    "                if node not in seen:\n",
    "                    queue2.add(node)\n",
    "\n",
    "        queue.update(queue2)\n",
    "        queue2 = set()\n",
    "\n",
    "    return seen"
   ]
  },
  {
   "cell_type": "code",
   "execution_count": 25,
   "metadata": {},
   "outputs": [],
   "source": [
    "net = NX.connected_watts_strogatz_graph(100, 4, 0.1)"
   ]
  },
  {
   "cell_type": "code",
   "execution_count": 26,
   "metadata": {},
   "outputs": [],
   "source": [
    "neve = snowball(net, 0)"
   ]
  },
  {
   "cell_type": "code",
   "execution_count": 27,
   "metadata": {},
   "outputs": [
    {
     "name": "stdout",
     "output_type": "stream",
     "text": [
      "{0, 1, 2, 3, 4, 5, 26, 27, 28, 29, 30, 91, 93, 94, 95, 96, 97, 98, 99}\n"
     ]
    }
   ],
   "source": [
    "print(neve)"
   ]
  },
  {
   "cell_type": "markdown",
   "metadata": {},
   "source": [
    "# Challenge Random Walk"
   ]
  },
  {
   "cell_type": "markdown",
   "metadata": {},
   "source": [
    "To perform a random walk we must just select a neighbor a random at each step"
   ]
  },
  {
   "cell_type": "code",
   "execution_count": 28,
   "metadata": {},
   "outputs": [],
   "source": [
    "def RandomWalk(net, seed, maxsteps=1000):\n",
    "    seen = []\n",
    "    queue = seed\n",
    "    \n",
    "    for _ in range(maxsteps+1):\n",
    "        user_id = queue\n",
    "        seen.append(user_id)\n",
    "\n",
    "        NN = list(net.neighbors(user_id))\n",
    "        \n",
    "        # Randomly select one of the neighbors\n",
    "        queue = NN[np.random.randint(len(NN))]\n",
    "\n",
    "    return seen"
   ]
  },
  {
   "cell_type": "code",
   "execution_count": 29,
   "metadata": {},
   "outputs": [],
   "source": [
    "random = RandomWalk(net, 0)"
   ]
  },
  {
   "cell_type": "markdown",
   "metadata": {},
   "source": [
    "We can visualize the path by looking at the position of the \"walker\" at each timestep"
   ]
  },
  {
   "cell_type": "code",
   "execution_count": 30,
   "metadata": {},
   "outputs": [
    {
     "data": {
      "image/png": "[encoded data removed]",
      "text/plain": [
       "<Figure size 792x576 with 1 Axes>"
      ]
     },
     "metadata": {
      "needs_background": "light"
     },
     "output_type": "display_data"
    }
   ],
   "source": [
    "plt.plot(random)\n",
    "plt.xlabel('step')\n",
    "plt.ylabel('position')\n",
    "plt.gcf().set_size_inches(11, 8)"
   ]
  },
  {
   "cell_type": "markdown",
   "metadata": {},
   "source": [
    "As we cna see, the walker will be \"stuck\" in a region for a while and then jump to a very differnet location. This happens when it chooses to take one of the long distance jumps that make the Watts Strogatz model famous. It should also be clear that in the random sampling approach there is no limit to the number of times a given node can be visited."
   ]
  }
 ],
 "metadata": {
  "kernelspec": {
   "display_name": "Python 3",
   "language": "python",
   "name": "python3"
  },
  "language_info": {
   "codemirror_mode": {
    "name": "ipython",
    "version": 3
   },
   "file_extension": ".py",
   "mimetype": "text/x-python",
   "name": "python",
   "nbconvert_exporter": "python",
   "pygments_lexer": "ipython3",
   "version": "3.7.3"
  }
 },
 "nbformat": 4,
 "nbformat_minor": 2
}
