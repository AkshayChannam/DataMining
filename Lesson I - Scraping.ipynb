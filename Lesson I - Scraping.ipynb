{
 "cells": [
  {
   "cell_type": "markdown",
   "metadata": {},
   "source": [
    "<h1><div align=\"center\">Social Data Mining</div></h1>\n",
    "<h2><div align=\"center\">Lesson I - Web Scraping</div></h2>\n",
    "<div align=\"center\">Bruno Gonçalves</div>\n",
    "<div align=\"center\"><a href=\"http://www.data4sci.com/\">www.data4sci.com</a></div>\n",
    "<div align=\"center\">@bgoncalves, @data4sci</div>"
   ]
  },
  {
   "cell_type": "code",
   "execution_count": 1,
   "metadata": {},
   "outputs": [],
   "source": [
    "import string\n",
    "from collections import Counter\n",
    "from pprint import pprint\n",
    "import json\n",
    "\n",
    "import numpy as np\n",
    "import matplotlib.pyplot as plt \n",
    "\n",
    "import requests\n",
    "from bs4 import BeautifulSoup\n",
    "from pyquery import PyQuery as pq\n",
    "\n",
    "import watermark\n",
    "\n",
    "%load_ext watermark\n",
    "%matplotlib inline"
   ]
  },
  {
   "cell_type": "markdown",
   "metadata": {},
   "source": [
    "Let's start by print out the versions of the libraries we're using for future reference"
   ]
  },
  {
   "cell_type": "code",
   "execution_count": 2,
   "metadata": {},
   "outputs": [
    {
     "name": "stdout",
     "output_type": "stream",
     "text": [
      "Thu Sep 05 2019 \n",
      "\n",
      "CPython 3.7.3\n",
      "IPython 6.2.1\n",
      "\n",
      "numpy 1.16.2\n",
      "matplotlib 3.1.0\n",
      "requests 2.21.0\n",
      "bs4 4.7.1\n",
      "pyquery unknown\n",
      "\n",
      "compiler   : Clang 4.0.1 (tags/RELEASE_401/final)\n",
      "system     : Darwin\n",
      "release    : 18.7.0\n",
      "machine    : x86_64\n",
      "processor  : i386\n",
      "CPU cores  : 8\n",
      "interpreter: 64bit\n"
     ]
    }
   ],
   "source": [
    "%watermark -n -v -m -p numpy,matplotlib,requests,bs4,pyquery"
   ]
  },
  {
   "cell_type": "markdown",
   "metadata": {},
   "source": [
    "# JSON Challenge"
   ]
  },
  {
   "cell_type": "code",
   "execution_count": 3,
   "metadata": {},
   "outputs": [],
   "source": [
    "url = \"http://www.bgoncalves.com/test.json\""
   ]
  },
  {
   "cell_type": "code",
   "execution_count": 4,
   "metadata": {},
   "outputs": [],
   "source": [
    "request = requests.get(url)\n",
    "data = json.loads(request.text)"
   ]
  },
  {
   "cell_type": "code",
   "execution_count": 5,
   "metadata": {},
   "outputs": [
    {
     "name": "stdout",
     "output_type": "stream",
     "text": [
      "Alexandria Hancock -> Massey Poole\n",
      "Alexandria Hancock -> Cummings Cantrell\n",
      "Alexandria Hancock -> Gay Warren\n",
      "Bentley Galloway -> Consuelo Ratliff\n",
      "Bentley Galloway -> Stokes Shaffer\n",
      "Bentley Galloway -> Mcintyre Moran\n",
      "Meyer Ewing -> Martin Taylor\n",
      "Meyer Ewing -> Jody Rivers\n",
      "Meyer Ewing -> Odessa Wells\n",
      "Janette Morton -> Sandra Weiss\n",
      "Janette Morton -> Chase Marshall\n",
      "Janette Morton -> Cecile Perkins\n",
      "Avis Mendez -> Laura Becker\n",
      "Avis Mendez -> Agnes Savage\n",
      "Avis Mendez -> Trujillo Valenzuela\n",
      "Giles Golden -> Atkinson Cabrera\n",
      "Giles Golden -> Sosa Greer\n",
      "Giles Golden -> Dorothea Goodman\n",
      "Wilma Tyson -> Monique Mccall\n",
      "Wilma Tyson -> Brock Wyatt\n",
      "Wilma Tyson -> Nadine Weber\n"
     ]
    }
   ],
   "source": [
    "for user in data:\n",
    "    name = user[\"name\"]\n",
    "\n",
    "    for friend in user[\"friends\"]:\n",
    "        print(name, \"->\", friend[\"name\"])"
   ]
  },
  {
   "cell_type": "markdown",
   "metadata": {},
   "source": [
    "# BeautifulSoup"
   ]
  },
  {
   "cell_type": "markdown",
   "metadata": {},
   "source": [
    "### Simple parsing"
   ]
  },
  {
   "cell_type": "code",
   "execution_count": 6,
   "metadata": {},
   "outputs": [],
   "source": [
    "url = \"http://www.bgoncalves.com/page.html\"\n",
    "request = requests.get(url)"
   ]
  },
  {
   "cell_type": "code",
   "execution_count": 7,
   "metadata": {},
   "outputs": [],
   "source": [
    "soup = BeautifulSoup(request.text, \"lxml\")"
   ]
  },
  {
   "cell_type": "code",
   "execution_count": 8,
   "metadata": {},
   "outputs": [
    {
     "name": "stdout",
     "output_type": "stream",
     "text": [
      "The title tag is <title>CSS Basics: A Cool Button</title>\n",
      "The id of the div is container\n"
     ]
    }
   ],
   "source": [
    "print(\"The title tag is\", soup.title)\n",
    "print(\"The id of the div is\", soup.div[\"id\"])"
   ]
  },
  {
   "cell_type": "code",
   "execution_count": 9,
   "metadata": {},
   "outputs": [],
   "source": [
    "soup.div[\"id\"] = \"new_id\" "
   ]
  },
  {
   "cell_type": "code",
   "execution_count": 10,
   "metadata": {},
   "outputs": [
    {
     "name": "stdout",
     "output_type": "stream",
     "text": [
      "And now it's new_id\n"
     ]
    }
   ],
   "source": [
    "print(\"And now it's\", soup.body.div[\"id\"])"
   ]
  },
  {
   "cell_type": "markdown",
   "metadata": {},
   "source": [
    "### Header Spoofing"
   ]
  },
  {
   "cell_type": "code",
   "execution_count": 11,
   "metadata": {},
   "outputs": [],
   "source": [
    "url = \"http://www.whoishostingthis.com/tools/user-agent/\""
   ]
  },
  {
   "cell_type": "code",
   "execution_count": 12,
   "metadata": {},
   "outputs": [],
   "source": [
    "headers = {\"User-agent\" : \"Mozilla/5.0 (Windows NT 6.1; Win64; x64; rv:25.0) Gecko/20100101 Firefox/25.0\"}"
   ]
  },
  {
   "cell_type": "code",
   "execution_count": 13,
   "metadata": {},
   "outputs": [],
   "source": [
    "request_default = requests.get(url)\n",
    "request_spoofed = requests.get(url, headers=headers)"
   ]
  },
  {
   "cell_type": "code",
   "execution_count": 14,
   "metadata": {},
   "outputs": [],
   "source": [
    "soup_default = BeautifulSoup(request_default.text, \"lxml\")\n",
    "soup_spoofed = BeautifulSoup(request_spoofed.text, \"lxml\")"
   ]
  },
  {
   "cell_type": "code",
   "execution_count": 15,
   "metadata": {},
   "outputs": [
    {
     "name": "stdout",
     "output_type": "stream",
     "text": [
      "Default: python-requests/2.21.0\n",
      "Spoofed: Mozilla/5.0 (Windows NT 6.1; Win64; x64; rv:25.0) Gecko/20100101 Firefox/25.0\n"
     ]
    }
   ],
   "source": [
    "print(\"Default:\", soup_default.find(name=\"div\", attrs={\"class\":\"info-box user-agent\"}).text)\n",
    "print(\"Spoofed:\", soup_spoofed.find(name=\"div\", attrs={\"class\":\"info-box user-agent\"}).text)"
   ]
  },
  {
   "cell_type": "markdown",
   "metadata": {},
   "source": [
    "# Feynman Challenge"
   ]
  },
  {
   "cell_type": "code",
   "execution_count": 16,
   "metadata": {},
   "outputs": [],
   "source": [
    "url = \"http://scholar.google.com/citations?hl=en&user=B7vSqZsAAAAJ&view_op=list_works&pagesize=100\""
   ]
  },
  {
   "cell_type": "code",
   "execution_count": 17,
   "metadata": {},
   "outputs": [],
   "source": [
    "request = requests.get(url)\n",
    "soup = BeautifulSoup(request.text, 'lxml')"
   ]
  },
  {
   "cell_type": "code",
   "execution_count": 18,
   "metadata": {},
   "outputs": [],
   "source": [
    "table = soup.find(\"table\", attrs={\"id\" : \"gsc_a_t\"})"
   ]
  },
  {
   "cell_type": "code",
   "execution_count": 19,
   "metadata": {},
   "outputs": [
    {
     "name": "stdout",
     "output_type": "stream",
     "text": [
      "0 Quantum mechanics and path integration\n",
      "1 TheFeynman lectures on physics\n",
      "2 The Feynman lectures on physics\n",
      "3 Mainly mechanics, radiation, and heat\n",
      "4 Simulating physics with computers\n",
      "5 Space-time approach to non-relativistic quantum mechanics\n",
      "6 There's plenty of room at the bottom\n",
      "7 Forces in molecules\n",
      "8 Very high-energy collisions of hadrons\n",
      "9 The character of physical law\n",
      "10 Theory of the Fermi interaction\n",
      "11 The theory of a general quantum system interacting with a linear dissipative system\n",
      "12 QED: The strange theory of light and matter\n",
      "13 Photon--hadron interactions\n",
      "14 Space-time approach to quantum electrodynamics\n",
      "15 The theory of positrons\n",
      "16 Interaction with the absorber as the mechanism of radiation\n",
      "17 Surely You are Joking Mr Feynmanl: Adventures of a Curious Character\n",
      "18 Quantum-mechanical computers, Suc\n",
      "19 An operator calculus having applications in quantum electrodynamics\n",
      "20 Slow electrons in a polar crystal\n",
      "21 Mathematical formulation of the quantum theory of electromagnetic interaction\n",
      "22 Geometrical representation of the Schrödinger equation for solving maser problems\n",
      "23 Quark elastic scattering as a source of high-transverse-momentum mesons\n",
      "24 Classical electrodynamics in terms of direct interparticle action\n",
      "25 Lectures on computation\n",
      "26 Quantum theory of gravitation\n",
      "27 Feynman lectures on computation\n",
      "28 Feynman lectures on gravitation\n",
      "29 \" What do you care what other people think?\": further adventures of a curious character\n",
      "30 The pleasure of finding things out: The best short works of Richard P. Feynman\n",
      "31 Effective classical partition functions\n",
      "32 Quantum-chromodynamic approach for the large-transverse-momentum production of particles and jets\n",
      "33 The meaning of it all: Thoughts of a citizen-scientist\n",
      "34 Six Easy Pieces: Essentials of Physics by Its Most Brilliant Teacher\n",
      "35 Mobility of slow electrons in a polar crystal\n",
      "36 Cargo cult science\n",
      "37 The theory of fundamental processes\n",
      "38 A relativistic cut-off for classical electrodynamics\n",
      "39 Radiative corrections to Compton scattering\n",
      "40 Correlations among particles and jets produced with large transverse momenta\n",
      "41 Relativistic cut-off for quantum electrodynamics\n",
      "42 The development of the space-time view of quantum electrodynamics\n",
      "43 The principle of least action in quantum mechanics.\n",
      "44 Infinitesimal machinery\n",
      "45 Group U (6)⊗ U (6) Generated by Current Components\n",
      "46 What is science\n",
      "47 Theory of inelastic scattering of cold neutrons from liquid helium\n",
      "48 Comportamiento cuántico\n",
      "49 Miniaturization\n",
      "50 Personal observations on the reliability of the shuttle\n",
      "51 Appendix F: Personal observations on the reliability of the shuttle\n",
      "52 Six not-so-easy pieces\n",
      "53 Feynman Vorlesungen über Physik, Band III: Quantenmechanik\n",
      "54 The λ-transition in liquid helium\n",
      "55 Feynman's thesis: a new approach to quantum theory\n",
      "56 The concept of probability in quantum mechanics\n",
      "57 no. 2: Electromagnétisme 2: traitant surtout de l'électromagnétisme et de la matière\n",
      "58 Feynman's Lost Lecture: The Motion of Planets Around the Sun\n",
      "59 E SANDS, M\n",
      "60 Le cours de physique de Feynman\n",
      "61 Feynmanovy přednášky z fyziky s řešenými příklady 2/3\n",
      "62 Feynman física\n",
      "63 Feynmana wykłady z fizyki\n",
      "64 The value of science\n",
      "65 QED: Seltsame Theorie des Lichts und der Materie\n",
      "66 Vom Wesen physikalischer Gesetze: mit 33 Abbildungen\n",
      "67 Mr. Feynman goes to Washington\n",
      "68 Feynmanove prednášky z fyziky./Zv./1\n",
      "69 El carácter de la ley física\n",
      "70 Closed loop and tree diagrams\n",
      "71 New textbooks for the\" new\" mathematics\n",
      "72 Symmetries in elementary particle physics\n",
      "73 La fisica di Feynman\n",
      "74 Lumière et matière: une étrange histoire\n",
      "75 \" Sie belieben wohl zu scherzen, Mr. Feynman!\": Abenteuer eines neugierigen Physikers\n",
      "76 Leighton, RB, and Sands, M.(1963)\n",
      "77 No ordinary genius: the illustrated Richard Feynman\n",
      "78 Los principios de la mecánica estadística\n",
      "79 Los Alamos from below\n",
      "80 Feĭnmanovskie lekt︠s︡ii po fizike\n",
      "81 Fejnmanovskie lekcii po fizike: Zadači i upražneniâ s otvetami i rešeniâmi\n",
      "82 Fejnmanovskije lekcii po fizike. 2. Prostranstvo-vremja-dviženije\n",
      "83 Selected papers of Richard Feynman: with commentary\n",
      "84 Está Ud. De broma Sr. Feynman?\n",
      "85 Most of the good stuff. Memories of Richard Feynman\n",
      "86 Kümmert Sie, was andere Leute denken?\n",
      "87 Probability & Uncertainty: The Quantum Mechanical View of Nature\n",
      "88 Sechs physikalische Fingerübungen: Physikalische fingerübungen für fortgeschrittene, zwei bestseller in einem band\n",
      "89 The present situation in fundamental theoretical physics\n",
      "90 Classic Feynman: all the adventures of a curious character\n",
      "91 Dirac Memorial Lecture,‘\n",
      "92 Mécanique quantique\n",
      "93 The present status of quantum electrodynamics\n",
      "94 Don't you have time to think?\n",
      "95 Was soll das alles?\n",
      "96 The dignified professor\n",
      "97 Problems in quantizing the gravitational field, and the massless Yang-Mills field\n",
      "98 La Nature des lois physiques\n",
      "99 The relation of science and religion\n"
     ]
    }
   ],
   "source": [
    "for i, paper in enumerate(table.findAll(\"td\", attrs={\"class\": \"gsc_a_t\"})):\n",
    "    print(i, paper.a.string)"
   ]
  },
  {
   "cell_type": "markdown",
   "metadata": {},
   "source": [
    "## And using pyQuery"
   ]
  },
  {
   "cell_type": "code",
   "execution_count": 20,
   "metadata": {},
   "outputs": [],
   "source": [
    "doc = pq(url=url)"
   ]
  },
  {
   "cell_type": "code",
   "execution_count": 21,
   "metadata": {},
   "outputs": [],
   "source": [
    "table = doc(\"table#gsc_a_t\")"
   ]
  },
  {
   "cell_type": "code",
   "execution_count": 22,
   "metadata": {},
   "outputs": [
    {
     "name": "stdout",
     "output_type": "stream",
     "text": [
      "0 Quantum mechanics and path integration\n",
      "1 TheFeynman lectures on physics\n",
      "2 The Feynman lectures on physics\n",
      "3 Mainly mechanics, radiation, and heat\n",
      "4 Simulating physics with computers\n",
      "5 Space-time approach to non-relativistic quantum mechanics\n",
      "6 There's plenty of room at the bottom\n",
      "7 Forces in molecules\n",
      "8 Very high-energy collisions of hadrons\n",
      "9 The character of physical law\n",
      "10 Theory of the Fermi interaction\n",
      "11 The theory of a general quantum system interacting with a linear dissipative system\n",
      "12 QED: The strange theory of light and matter\n",
      "13 Photon--hadron interactions\n",
      "14 Space-time approach to quantum electrodynamics\n",
      "15 The theory of positrons\n",
      "16 Interaction with the absorber as the mechanism of radiation\n",
      "17 Surely You are Joking Mr Feynmanl: Adventures of a Curious Character\n",
      "18 Quantum-mechanical computers, Suc\n",
      "19 An operator calculus having applications in quantum electrodynamics\n",
      "20 Slow electrons in a polar crystal\n",
      "21 Mathematical formulation of the quantum theory of electromagnetic interaction\n",
      "22 Geometrical representation of the Schrödinger equation for solving maser problems\n",
      "23 Quark elastic scattering as a source of high-transverse-momentum mesons\n",
      "24 Classical electrodynamics in terms of direct interparticle action\n",
      "25 Lectures on computation\n",
      "26 Quantum theory of gravitation\n",
      "27 Feynman lectures on computation\n",
      "28 Feynman lectures on gravitation\n",
      "29 \" What do you care what other people think?\": further adventures of a curious character\n",
      "30 The pleasure of finding things out: The best short works of Richard P. Feynman\n",
      "31 Effective classical partition functions\n",
      "32 Quantum-chromodynamic approach for the large-transverse-momentum production of particles and jets\n",
      "33 The meaning of it all: Thoughts of a citizen-scientist\n",
      "34 Six Easy Pieces: Essentials of Physics by Its Most Brilliant Teacher\n",
      "35 Mobility of slow electrons in a polar crystal\n",
      "36 Cargo cult science\n",
      "37 The theory of fundamental processes\n",
      "38 A relativistic cut-off for classical electrodynamics\n",
      "39 Radiative corrections to Compton scattering\n",
      "40 Correlations among particles and jets produced with large transverse momenta\n",
      "41 Relativistic cut-off for quantum electrodynamics\n",
      "42 The development of the space-time view of quantum electrodynamics\n",
      "43 The principle of least action in quantum mechanics.\n",
      "44 Infinitesimal machinery\n",
      "45 Group U (6)⊗ U (6) Generated by Current Components\n",
      "46 What is science\n",
      "47 Theory of inelastic scattering of cold neutrons from liquid helium\n",
      "48 Comportamiento cuántico\n",
      "49 Miniaturization\n",
      "50 Personal observations on the reliability of the shuttle\n",
      "51 Appendix F: Personal observations on the reliability of the shuttle\n",
      "52 Six not-so-easy pieces\n",
      "53 Feynman Vorlesungen über Physik, Band III: Quantenmechanik\n",
      "54 The λ-transition in liquid helium\n",
      "55 Feynman's thesis: a new approach to quantum theory\n",
      "56 The concept of probability in quantum mechanics\n",
      "57 no. 2: Electromagnétisme 2: traitant surtout de l'électromagnétisme et de la matière\n",
      "58 Feynman's Lost Lecture: The Motion of Planets Around the Sun\n",
      "59 E SANDS, M\n",
      "60 Le cours de physique de Feynman\n",
      "61 Feynmanovy přednášky z fyziky s řešenými příklady 2/3\n",
      "62 Feynman física\n",
      "63 Feynmana wykłady z fizyki\n",
      "64 The value of science\n",
      "65 QED: Seltsame Theorie des Lichts und der Materie\n",
      "66 Vom Wesen physikalischer Gesetze: mit 33 Abbildungen\n",
      "67 Mr. Feynman goes to Washington\n",
      "68 Feynmanove prednášky z fyziky./Zv./1\n",
      "69 El carácter de la ley física\n",
      "70 Closed loop and tree diagrams\n",
      "71 New textbooks for the\" new\" mathematics\n",
      "72 Symmetries in elementary particle physics\n",
      "73 La fisica di Feynman\n",
      "74 Lumière et matière: une étrange histoire\n",
      "75 \" Sie belieben wohl zu scherzen, Mr. Feynman!\": Abenteuer eines neugierigen Physikers\n",
      "76 Leighton, RB, and Sands, M.(1963)\n",
      "77 No ordinary genius: the illustrated Richard Feynman\n",
      "78 Los principios de la mecánica estadística\n",
      "79 Los Alamos from below\n",
      "80 Feĭnmanovskie lekt︠s︡ii po fizike\n",
      "81 Fejnmanovskie lekcii po fizike: Zadači i upražneniâ s otvetami i rešeniâmi\n",
      "82 Fejnmanovskije lekcii po fizike. 2. Prostranstvo-vremja-dviženije\n",
      "83 Selected papers of Richard Feynman: with commentary\n",
      "84 Está Ud. De broma Sr. Feynman?\n",
      "85 Most of the good stuff. Memories of Richard Feynman\n",
      "86 Kümmert Sie, was andere Leute denken?\n",
      "87 Probability & Uncertainty: The Quantum Mechanical View of Nature\n",
      "88 Sechs physikalische Fingerübungen: Physikalische fingerübungen für fortgeschrittene, zwei bestseller in einem band\n",
      "89 The present situation in fundamental theoretical physics\n",
      "90 Classic Feynman: all the adventures of a curious character\n",
      "91 Dirac Memorial Lecture,‘\n",
      "92 Mécanique quantique\n",
      "93 The present status of quantum electrodynamics\n",
      "94 Don't you have time to think?\n",
      "95 Was soll das alles?\n",
      "96 The dignified professor\n",
      "97 Problems in quantizing the gravitational field, and the massless Yang-Mills field\n",
      "98 La Nature des lois physiques\n",
      "99 The relation of science and religion\n"
     ]
    }
   ],
   "source": [
    "for i, row in enumerate(table(\"td.gsc_a_t\").items()):\n",
    "    print(i, row(\"a\").text())"
   ]
  },
  {
   "cell_type": "markdown",
   "metadata": {},
   "source": [
    "# Basic Authentication"
   ]
  },
  {
   "cell_type": "code",
   "execution_count": 23,
   "metadata": {},
   "outputs": [],
   "source": [
    "url = \"http://httpbin.org/basic-auth/user/passwd\""
   ]
  },
  {
   "cell_type": "code",
   "execution_count": 24,
   "metadata": {},
   "outputs": [],
   "source": [
    "request = requests.get(url, auth=(\"user\", \"passwd\"))"
   ]
  },
  {
   "cell_type": "code",
   "execution_count": 25,
   "metadata": {},
   "outputs": [],
   "source": [
    "if request.status_code != 200:\n",
    "    print(\"Error found\", request.get_code(), file=sys.stderr)"
   ]
  },
  {
   "cell_type": "code",
   "execution_count": 26,
   "metadata": {},
   "outputs": [
    {
     "name": "stdout",
     "output_type": "stream",
     "text": [
      "application/json\n"
     ]
    }
   ],
   "source": [
    "content_type = request.headers[\"content-type\"]\n",
    "print(content_type)"
   ]
  },
  {
   "cell_type": "code",
   "execution_count": 27,
   "metadata": {},
   "outputs": [],
   "source": [
    "response = request.json()"
   ]
  },
  {
   "cell_type": "code",
   "execution_count": 28,
   "metadata": {},
   "outputs": [
    {
     "name": "stdout",
     "output_type": "stream",
     "text": [
      "{'authenticated': True, 'user': 'user'}\n"
     ]
    }
   ],
   "source": [
    "pprint(response)"
   ]
  },
  {
   "cell_type": "code",
   "execution_count": 29,
   "metadata": {},
   "outputs": [
    {
     "name": "stdout",
     "output_type": "stream",
     "text": [
      "Authentication Successful\n"
     ]
    }
   ],
   "source": [
    "if response[\"authenticated\"]:\n",
    "    print(\"Authentication Successful\")"
   ]
  },
  {
   "cell_type": "code",
   "execution_count": null,
   "metadata": {},
   "outputs": [],
   "source": []
  }
 ],
 "metadata": {
  "kernelspec": {
   "display_name": "Python 3",
   "language": "python",
   "name": "python3"
  },
  "language_info": {
   "codemirror_mode": {
    "name": "ipython",
    "version": 3
   },
   "file_extension": ".py",
   "mimetype": "text/x-python",
   "name": "python",
   "nbconvert_exporter": "python",
   "pygments_lexer": "ipython3",
   "version": "3.7.3"
  }
 },
 "nbformat": 4,
 "nbformat_minor": 2
}
