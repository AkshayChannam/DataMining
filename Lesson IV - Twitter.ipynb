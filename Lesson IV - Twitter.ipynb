{
 "cells": [
  {
   "cell_type": "markdown",
   "metadata": {},
   "source": [
    "<h1><div align=\"center\">Social Data Mining</div></h1>\n",
    "<h2><div align=\"center\">Lesson IV - Twitter with Tweepy</div></h2>\n",
    "<div align=\"center\">Bruno Gonçalves</div>\n",
    "<div align=\"center\"><a href=\"http://www.data4sci.com/\">www.data4sci.com</a></div>\n",
    "<div align=\"center\">@bgoncalves, @data4sci</div>"
   ]
  },
  {
   "cell_type": "code",
   "execution_count": 1,
   "metadata": {},
   "outputs": [],
   "source": [
    "import json\n",
    "import numpy as np\n",
    "import matplotlib.pyplot as plt \n",
    "import tweepy\n",
    "\n",
    "import watermark\n",
    "\n",
    "%load_ext watermark\n",
    "%matplotlib inline"
   ]
  },
  {
   "cell_type": "markdown",
   "metadata": {},
   "source": [
    "Let's start by print out the versions of the libraries we're using for future reference"
   ]
  },
  {
   "cell_type": "code",
   "execution_count": 2,
   "metadata": {},
   "outputs": [
    {
     "name": "stdout",
     "output_type": "stream",
     "text": [
      "Thu Sep 05 2019 \n",
      "\n",
      "CPython 3.7.3\n",
      "IPython 6.2.1\n",
      "\n",
      "numpy 1.16.2\n",
      "tweepy 3.8.0\n",
      "matplotlib 3.1.0\n",
      "\n",
      "compiler   : Clang 4.0.1 (tags/RELEASE_401/final)\n",
      "system     : Darwin\n",
      "release    : 18.7.0\n",
      "machine    : x86_64\n",
      "processor  : i386\n",
      "CPU cores  : 8\n",
      "interpreter: 64bit\n"
     ]
    }
   ],
   "source": [
    "%watermark -n -v -m -p numpy,tweepy,matplotlib"
   ]
  },
  {
   "cell_type": "markdown",
   "metadata": {},
   "source": [
    "The first step is to load up the account information. I recommend that you keep all your account credentials in a dictionary like this one to make it easier to switch between accounts. You can find this stup in **twitter_accounts_STUB.py**"
   ]
  },
  {
   "cell_type": "code",
   "execution_count": 3,
   "metadata": {},
   "outputs": [],
   "source": [
    "accounts = {\n",
    "    \"social\" : { 'api_key' : 'API_KEY',\n",
    "                 'api_secret' : 'API_SECRET',\n",
    "                 'token' : 'TOKEN',\n",
    "                 'token_secret' : 'TOKEN_SECRET'\n",
    "                },               \n",
    "    }"
   ]
  },
  {
   "cell_type": "markdown",
   "metadata": {},
   "source": [
    "All my credentials are listed in **twitter_accounts.py**. You can find a stub version of this file in the github repository. You can just fill in your own credentials and then proceed to doing:"
   ]
  },
  {
   "cell_type": "code",
   "execution_count": 4,
   "metadata": {},
   "outputs": [],
   "source": [
    "from twitter_accounts import accounts"
   ]
  },
  {
   "cell_type": "markdown",
   "metadata": {},
   "source": [
    "You load the credentials for a specific account using its dictionary key:"
   ]
  },
  {
   "cell_type": "code",
   "execution_count": 5,
   "metadata": {},
   "outputs": [],
   "source": [
    "app = accounts[\"bgoncalves\"]"
   ]
  },
  {
   "cell_type": "markdown",
   "metadata": {},
   "source": [
    "Which contains all the information you need to create an OAuth Handler"
   ]
  },
  {
   "cell_type": "code",
   "execution_count": 6,
   "metadata": {},
   "outputs": [],
   "source": [
    "auth = tweepy.OAuthHandler(app[\"api_key\"], app[\"api_secret\"])\n",
    "auth.set_access_token(app[\"token\"], app[\"token_secret\"])"
   ]
  },
  {
   "cell_type": "markdown",
   "metadata": {},
   "source": [
    "That you can finally pass to the tweepy module"
   ]
  },
  {
   "cell_type": "code",
   "execution_count": 7,
   "metadata": {},
   "outputs": [],
   "source": [
    "twitter_api = tweepy.API(auth)"
   ]
  },
  {
   "cell_type": "markdown",
   "metadata": {},
   "source": [
    "This object will be your main way of interacting with the twitter API. "
   ]
  },
  {
   "cell_type": "markdown",
   "metadata": {},
   "source": [
    "# Searching Tweets"
   ]
  },
  {
   "cell_type": "code",
   "execution_count": 8,
   "metadata": {},
   "outputs": [],
   "source": [
    "query = \"instagram\"\n",
    "count = 200"
   ]
  },
  {
   "cell_type": "markdown",
   "metadata": {},
   "source": [
    "To search for tweets matching a specific query we simply use the **search** method"
   ]
  },
  {
   "cell_type": "code",
   "execution_count": 9,
   "metadata": {},
   "outputs": [],
   "source": [
    "statuses = twitter_api.search(q=query, count=count)"
   ]
  },
  {
   "cell_type": "markdown",
   "metadata": {},
   "source": [
    "The count parameter specifies the number of results we want. 200 is the maximum per call. The **search** method returns a *SearchResults* object"
   ]
  },
  {
   "cell_type": "code",
   "execution_count": 10,
   "metadata": {},
   "outputs": [
    {
     "data": {
      "text/plain": [
       "tweepy.models.SearchResults"
      ]
     },
     "execution_count": 10,
     "metadata": {},
     "output_type": "execute_result"
    }
   ],
   "source": [
    "type(statuses)"
   ]
  },
  {
   "cell_type": "markdown",
   "metadata": {},
   "source": [
    "That contains a lot of metadata in addition to just the list of results"
   ]
  },
  {
   "cell_type": "code",
   "execution_count": 11,
   "metadata": {},
   "outputs": [
    {
     "name": "stdout",
     "output_type": "stream",
     "text": [
      "max_id: 1169562026936586239\n",
      "since_id: 1169562053771554817\n",
      "refresh_url: ?since_id=1169562053771554817&q=instagram&include_entities=1\n",
      "completed_in: 0.122\n",
      "query: instagram\n",
      "count: 100\n",
      "next_results: ?max_id=1169562026936586239&q=instagram&count=100&include_entities=1\n"
     ]
    }
   ],
   "source": [
    "print(\"max_id:\", statuses.max_id)\n",
    "print(\"since_id:\", statuses.since_id)\n",
    "print(\"refresh_url:\", statuses.refresh_url)\n",
    "print(\"completed_in:\", statuses.completed_in)\n",
    "print(\"query:\", statuses.query)\n",
    "print(\"count:\", statuses.count)\n",
    "print(\"next_results:\", statuses.next_results)"
   ]
  },
  {
   "cell_type": "markdown",
   "metadata": {},
   "source": [
    "We can also access the results as if the *SearchResults* was a list"
   ]
  },
  {
   "cell_type": "code",
   "execution_count": 13,
   "metadata": {},
   "outputs": [],
   "source": [
    "tweet = statuses[0]"
   ]
  },
  {
   "cell_type": "code",
   "execution_count": 15,
   "metadata": {},
   "outputs": [
    {
     "name": "stdout",
     "output_type": "stream",
     "text": [
      "RT @suhocompany522: ☁면스타 135번째 게시물☁ \n",
      "\n",
      "찬열아 선물 고맙다 사랑한다🥰\n",
      "\n",
      "https://t.co/YenW61WBKC\n",
      "#김준면 #수호 #SUHO #준면 #金俊勉 #スホ #EXO @weareoneEXO https://t.co/…\n"
     ]
    }
   ],
   "source": [
    "print(tweet.text)"
   ]
  },
  {
   "cell_type": "markdown",
   "metadata": {},
   "source": [
    "To request the next page of results we pass the *next_results* field to the next call to **search**"
   ]
  },
  {
   "cell_type": "code",
   "execution_count": 19,
   "metadata": {
    "scrolled": false
   },
   "outputs": [
    {
     "name": "stdout",
     "output_type": "stream",
     "text": [
      "RT @suhocompany522: ☁면스타 135번째 게시물☁ \n",
      "\n",
      "찬열아 선물 고맙다 사랑한다🥰\n",
      "\n",
      "https://t.co/YenW61WBKC\n",
      "#김준면 #수호 #SUHO #준면 #金俊勉 #スホ #EXO @weareoneEXO https://t.co/…\n",
      "RT @playboilauren: Instagram enferma a las personas\n",
      "えっ北ちゃん😂騙されたよー😂\n",
      "https://t.co/2CcHGYZbeo https://t.co/Z9m7jimO2c\n",
      "RT @geminids_night: &lt;(ㅍ▽ㅍ💙✨\n",
      "\n",
      "\" 필승!! 일병 최민호\n",
      "슈퍼스타 이태민 응원을 명 받았습니다!\n",
      "이에 신고 합니다 필승!!!\n",
      "막내 탬 보여줘라!\n",
      "슈퍼엠 빌보드 대박내자!! 다 응원한다! \"\n",
      "https://t.co/CLhkg0rc7…\n",
      "RT @LILITEAMTH327: [IG UPDATE]\n",
      "\n",
      "🗓️ 05.09.2019\n",
      "\n",
      "Shoot Film\n",
      "Sis : lalalalisa_m\n",
      "Camera : Lomo Lubitel 166+\n",
      "Film : Portra 400 \n",
      "\n",
      "📸 Tongsouthernf…\n",
      "RT @syoungstagram: [INSTAGRAM] sooyoungchoi: 조만간🎁있을듯....#뭘까 https://t.co/qR5pldgBLr https://t.co/dLdTrMr0RS\n",
      "#thursdaymood😎 https://t.co/utlKRycez8\n",
      "RT @iaiastyx_: My piece for Rozenberry's draw this in your style on instagram! Hope you like it~💓\n",
      "\n",
      "#art #draw #drawthisinyourstyle #dtiys #…\n",
      "RT @taemin_comeback: 190905 탬스타\n",
      "https://t.co/cpcHBCVSSp https://t.co/q13yijsXwd\n",
      "RT @YoccieYoccie: うどんコレクションスタンプラリーの、分かりにくいと言われる所をまとめてみました。\n",
      "\n",
      "#repost… https://t.co/BZ0M1S2nEo\n",
      "RT @lottedfs_global: [💜 Let’s Do something Fun! – 스트레이키즈 💜]\n",
      "\n",
      "세상에 없던 FUN ! #스트레이키즈 와 만나봤다면!\n",
      "#L et’s #D o something #F un! 한 메이킹 필름까지🙉\n",
      "\n",
      "👇EVEN…\n",
      "RT @mp4_pjh: JTBC 드라마 인스타그램 이름점 궁합 EVENT 🌺 #박지훈 #고영수 #꽃파당 \n",
      "\n",
      "https://t.co/RHL6Z3rN2S https://t.co/JajTWWfHoF\n",
      "RT @58fabiola58: 190905 dono_tattooer IG\n",
      "잘생기신 최시원님께서 리버스잉크 살짝쿵 방문해주셨습니다. 타투하러 오신 거 아니예요 .\n",
      "https://t.co/1zh16dQHH4\n",
      "동해&amp;은혁-땡겨 https://t.co/Tlk…\n",
      "RT @GELLIFYgroup: 🚀Chi rivoluzionerà il mondo di #Instagram ed #InfluencerMarketing? @_Virality_ è una delle #startup nella Community EXPLO…\n",
      "RT @Hardik72409421: Do You Want to Instagram Followers and likes ??\n",
      "Just Download Below app and follow step\n",
      "#Followers #InstagramFollowers…\n",
      "RT @CagliariCalcio: We ❤️💙 @VioBebe! 🥰\n",
      "\n",
      "📸: https://t.co/bLwN7Dgwgt https://t.co/leyxI303ai\n",
      "RT @TVXQ_INFO_: jtbc_food 양식의 양식 ig 최강창민 영상\n",
      "#동방신기 #東方神起 #양식의양식 #최강창민\n",
      "\n",
      "비가 오니 어쩐지 더 간절해지는 치느님.🍗🍻 6월 어느날 잠실 야구장\n",
      "두사람의 브로맨스 현장에도 치맥은 함께였습니다. 아~…\n",
      "— Quem quiser me acompanhar não pode ser meu seguidor se não me amar mais do que ama o seu pai, a sua mãe, a sua es… https://t.co/6D9GKnmz6B\n",
      "RT @VascodaGama: O nosso muito obrigado aos vascaínos que prestigiam o trabalho do clube nas mídias sociais.\n",
      "\n",
      "JUNTOS SOMOS MAIS FORTES!\n",
      "\n",
      "ht…\n",
      "RT @imaneboonouh: Coucou Twitter et coucou les étudiants. J’ai créée une page Instagram où je postes plein de recettes faciles, pas chères,…\n",
      "RT @FabYGs7MbtQKuH2: 新たに積極的にチャレンジして頑張れかすみん✊\n",
      "#勝手に討論会 の森永卓郎さんが、かすみんはアンドロイドと思ってたけどと実在良いね（笑）🤗\n",
      "#渡辺美優紀ガールズユニットオーディション\n",
      "  #mysta   #小野華純 （かすみん）\n",
      "@ka…\n",
      "Az önce bir fotoğraf paylaştı @ Kai Beach Club https://t.co/BxUAGvE4b0\n",
      "A day off at Blackpool pleasure Beach. #pepsimax #themepark #screamlikeasinger https://t.co/XzGCY8t53R\n",
      "🖤💙 https://t.co/skipU2NB2u https://t.co/eVEzsGdQlX\n",
      ".\n",
      "BENI\n",
      "#benibooo https://t.co/HdeFJavvye\n",
      "kids sneakers 1500\n",
      "from size 25to 35\n",
      "call/whatsapp 0710842269\n",
      "We deliver country wide https://t.co/y2hLtzHYWS\n",
      "RT @camparimoetrose: 🥰酒パンダさんのインスタ載せてもろた！🥰\n",
      "\n",
      "いつも美味しいお酒とお魚とご飯で幸せ頂いてます！！！\n",
      "\n",
      "ありがとうございます！！！😍\n",
      "\n",
      "#work_from_tomorrow\n",
      "#2nd_EP\n",
      "#デイドリームパレード https://t.co…\n",
      "@kawaiimonortaka ご参加ありがとうございます！ \n",
      "当選結果は、動画をチェック👀\n",
      "当選された方には、後日DMが届きます。\n",
      "キャンペーンサイトではJTB旅行券💴10万円分💴など、８週連続で豪華プレゼントが当たる！\n",
      "In… https://t.co/lNdJx40eMC\n",
      "RT @Angel_Saenz_: Mujeres en Instagram https://t.co/RXpO8XHWxZ\n",
      "RT @ZELO96: Do you think this is the right size for me?... hell nah \n",
      "Anyway, I like the view ✔️ https://t.co/fVjaeuzRop\n",
      "9月に入ったのでチーズフォンデュ再開しました。チーズ好きな皆さまお待たせしました～🎵1200円です。 場所: Chubby's Kitchen -チャビーズキッチン- https://t.co/QXIy9qt9nq\n",
      "The chain reaction to impulsive behavior stretches FAR BEYOND the eyes of the aggressor. It is so sad when they don… https://t.co/rwwZ8Y97Tk\n",
      "Backstage schlosseinstein #schlosseinstein #erfurt #kika #internat #schüler #students #liz #lizbaffoe #actors… https://t.co/vlBGOBREZc\n",
      "RT @D0LLV0MIT: porn bots on instagram ask me how i'm doing more than anyone else\n",
      "Yang tanah ya mblo... #ambilkacacepat https://t.co/kTNcGDdSmD\n",
      "丘の上の向日葵。(^-^)#淡路花さじき #淡路 #ひまわり畑 #淡路島 場所: あわじ花さじき https://t.co/QE22NGcfRW\n",
      "If you want to succeed, you have to do something that makes you uncomfortable. Yesterday, we recorded our first pod… https://t.co/6OkC1ExPMB\n",
      "Nunca vi tanto atleticano no Instagram\n",
      "RT @beauty0815: 하늘팟 시즌4에서 만나요\n",
      "URL: https://t.co/8quPBAP0ar \n",
      "\n",
      "이제 인스타에서도~\n",
      "https://t.co/F3201ZfOuI \n",
      "\n",
      "#7월1일 #하늘팟시즌4 #SCJ공식팟캐스트\n",
      "https://t.co/C8n…\n",
      "RT @ichigoyhcm: I’m crying 😭😭😭😭😭😭\n",
      "#TVXQCIRCLEWITHinJKT \n",
      "\n",
      "(src: smtown_idn IG https://t.co/Oc0fCo65jH)\n",
      "\n",
      "🎈🎈\n",
      "#동방신기 #Yunho #Changmin #ONLY http…\n",
      "7月のあたまに種から育てた向日葵がやっと咲いた～🌻 https://t.co/Uicy1M9mu9\n",
      "Igual que lloem unes coses, en critiquem d’altres...  Trobo a faltar una notícia d’handbol 🤷🏻‍♀️ a la secció d’espo… https://t.co/vXQyr54DYX\n",
      "RT @BESTFRIEND__92: [TRANS] 190905 #SUHO IG Story :\n",
      "\n",
      "@ real__pcy ชานยอลสุดยอด👍\n",
      "\n",
      "https://t.co/9k632x6eL4\n",
      "\n",
      "#찬열 #CHANYEOL #EXO\n",
      "@weareoneEXO ht…\n",
      "RT @Ryo0710h: 成長して強くなって帰ってきます❗️\n",
      "頑張ってきます❗️ https://t.co/IvV85wMLJs\n",
      "本日グラビア撮影日でした！彼シャツや下着など、ドキドキシーン満載！☆グラビアアップをおたのしみに(*´꒳`*)\n",
      "#グラビア #撮影 #シーメールスタイル #shemalestyle #ニューハーフ https://t.co/3r14Vv9dPC\n",
      "fui verificado no Instagram, grande dia\n",
      ":::: MAGMA-VAR ::::\n",
      ":: Volcanic Activity Report ::\n",
      "\n",
      "LAPORAN AKTIVITAS GUNUNGAPI\n",
      "\n",
      "PERIODE PENGAMATAN\n",
      "04-09-2019 18:0… https://t.co/fGV5ZILcqu\n",
      "Just posted a photo https://t.co/5p8599lRfU\n",
      "RT @_kdofficiall: New face of AFRO-POP.\n",
      "\n",
      "“GET DOWN” video out! Link in bio. https://t.co/6wjHZYlUH6\n",
      "Let YOUR fruit be accomplished in us/me today with Holy Spurit's help and conviction. @ Floyd County, Georgia https://t.co/uRT4Cp8xcY\n",
      "Another clean sweep . Do not keep logs to close to the stove 🚨#windelsham #chimney #chimneysweepprofessionals… https://t.co/7t8ykt3Xox\n",
      "¿Que está feo lo que hizo la hija de Blanca Fernández Ochoa con el Instagram? Sí.\n",
      "¿Que lo está también hacer del dr… https://t.co/gPbpm5LbPr\n",
      "RT @KohshuOkamine: 昨日はヤクルト山田のサヨナラ弾を白目で見送った、4勝3敗男、神宮3日目であります。\n",
      "ハンバーガーとビールで嫁さんはご満悦です。#shakeshack #福山城築城400年記念 #水野勝成とカープ坊やコラボ 場所: 明治神宮野球場 https…\n",
      "RT @NUE5T_instagram: [ 190905 nuest_official ]\n",
      "안녕 난 뉴이스트 민현이야🖐\n",
      "#뉴이스트_JR_Aron_백호_민현_렌\n",
      "#NULOΛEstagram #뉴이스트 #NUEST\n",
      "\n",
      "https://t.co/7Y9BK4M9Tx h…\n",
      "RT @theblackwendy: If you couldn’t attend the protest in Cape Town today, I’m live on Instagram [for the stories of survival and the handov…\n",
      "Happy birthday big bro! You’re, like, so cool. https://t.co/Krf1nITjCj\n",
      "RT @huffpuffshelb: I saw this on Instagram and I can’t stop cracking up about it https://t.co/OU4WcnCJnV\n",
      "RT @SOMITH_: 190905.🔥💘 nuovo_korea  IG  update      SOMI  × GLEE 👞👟\n",
      "\n",
      "🖇 https://t.co/r19EdE5qVs\n",
      "\n",
      "#전소미 #소미 #SOMI #โซมี https://t.co/YVe7prBtfW\n",
      "RT @produce101jp: 【#キムユンドン( #kimyoundong )】\n",
      "\n",
      "#PRODUCE101JAPAN 練習生を紹介します！\n",
      "\n",
      "自己紹介１分PR動画はこちら\n",
      "▶ https://t.co/57P6hFVVre\n",
      "その他ショットは\n",
      "＜Instagram＞\n",
      "＜pr…\n",
      "My Queens 😍😍😍\n",
      "Wont You Rather Complete Your looks\n",
      "With this ???\n",
      "Slay with that outfit❤️❤️❤️❤️\n",
      "\n",
      "Price 7500\n",
      "Size 37-4… https://t.co/g3swK6p8bg\n",
      "Getting together with 2 great jazz cats. Drummer John Engels and jesusjimmy777 saxophonist Jimmy Halperin https://t.co/3g1L7BX69M\n",
      "RT @functionlove: [TRANS] 190905 f(Sulli) = Instagram Update: \"Is it the first time I wrote a letter? Thank you for remembering me❤️\" https…\n",
      "RT @kimbobby_th: #🐰💄✨\n",
      "\n",
      "คุณ kkimji0216 สไตลิสต์ของ iKON อัพเดตสตอรี่ เป็นโพสต์ของเธอเอง ที่เคยโปรโมททีเซอร์อัลบั้ม LOVE and FALL ของบ๊อบบี้…\n",
      "Davido Unfollows South African Rapper, AKA On Instagram https://t.co/iTkAtvZ8ln https://t.co/TlQpqhn89e\n",
      "Ontem tivemos um testemunho tremendo da querida deabreuisadora . Parabéns por mais essa vitória. https://t.co/RnfSK7FW46\n",
      "At DeVolbuilders we love our stonework! This stone is a Tennessee field stone laid in an ashlar pattern. The window… https://t.co/8LsI1vJhr5\n",
      "RT @_mehire: Uno de Tinder me dijo “pensé que estabas buena pero te stalkeé en Instagram y sos gordita”.\n",
      "Mi respuesta: https://t.co/evzMRSy…\n",
      "(Quando duas louças pegam no celular) kk\n",
      "Rafaaaaaaaaaaa, parabéeeeeens 👏🏼\n",
      "Feliz aniversário meu bem, que Deus conti… https://t.co/wM9Ftu5ZbC\n",
      "#DiaDosIrmãos\n",
      "\n",
      "Pra mim, eu tenho os melhores ❤❤ https://t.co/IlCTQGWH6i\n",
      "Just posted a photo https://t.co/8B3JWIwq0W\n",
      "That has to hurt lol!!!!! @ El Segundo, California https://t.co/n7YHnsVkv8\n",
      "RT @tubbirfess: nanti kalo aku meninggal, jgn sekali-kali klean tag aku di instagram bilang bela sungkawa ya. dah meninggal gabisa aku repo…\n",
      "RT @Angel_Saenz_: Mujeres en Instagram https://t.co/RXpO8XHWxZ\n",
      "(╹-╹){思ってたよりバカっぽい。\n",
      "\n",
      "#gibsonguitars #fenderguitars #prsguitars #acoustic #seymourduncan #wood #black #rockabilly… https://t.co/lsAtWpZU0W\n",
      "ニュー新橋ビルの破天荒で。\n",
      "お刺身3点盛り。んんん？ https://t.co/d0QUo1uMQu https://t.co/eRutfmAwNL\n",
      "RT @chartslalisa: #LALISA Instagram followers update:\n",
      "💜24,667,696\n",
      "+33,862 in the past 24 hours\n",
      "360 posts\n",
      "https://t.co/1eiRApwMNi https://t.…\n",
      "RT @malik_bmz: Je suis mort le comte insta de Twitter officiel ils ont posté un tweet qui dit \" Instagram c’est juste des screen de Twitter…\n",
      "RT @N751rins: 【ご報告】\n",
      "この度Vithmic° という事務所に所属することになりました✩.*˚\n",
      "\n",
      "【柴崎なお】という名前で活動していきます！！違和感アリアリかもやけど変わらず応援よろしくお願いします✩.*˚\n",
      "\n",
      "お仕事のことは主にキラキラInstagramへ🤞\n",
      "T…\n",
      "Concienciar a través de la literatura y de la música sobre igualdad, Dº humanos, solidaridad, etc es el ambicioso o… https://t.co/0z4z3l5kln\n",
      "RT @plus_audition: PLUS GLOBAL AUDITION #INVITATION\n",
      "\n",
      "▶https://t.co/9gbnzDBkqY\n",
      "▶https://t.co/Ksma35DqLQ\n",
      "\n",
      "#PLAYFUL #LOVELY #UNIQUE #SASSY #Bi…\n",
      "RT @NediraKL: Knitted Top or Floral Top? 😍🎉\n",
      "\n",
      "Releasing our beautiful collections today on our instagram @ nedira.kl\n",
      "\n",
      "Dont miss out! 😉🌼 http…\n",
      "#loveyourself ❤️ #behappy 🙂 #instadaily 📸#fittingroom 😂 #enjoylife 🤷🏻‍♂️ @ Sm North Edsa https://t.co/GMNO6BgUdx\n",
      "Thank you and how to support #WHTT #womenhoteltraveltech \n",
      "This selfie-Real life women video is ablut how to support… https://t.co/ltj5CkxWsH\n",
      "私の秋は始まったばかりだ！！ https://t.co/mfibaE4ZsX\n",
      "RT @qtpiebyunbaek: 190905 JUNMYEON INSTAGRAM\n",
      "\n",
      "(Post) Junmyeon: Chanyeol-ah, thank you for the present. I love you 🥰\n",
      "\n",
      "(Story) Chanyeollie, j…\n",
      "Davido Unfollows South African Rapper, AKA On Instagram https://t.co/eU3SvCeWI0 https://t.co/munvIGx86J\n",
      "RT @virtual_kaf: 夏祭りが終わったらすぐ冬になってほしい。\n",
      "https://t.co/bNxbYS2rZI https://t.co/1nXQOzKF7r\n",
      "RT @BustedBearProd: #ComingSoon from Busted Bear Productions the new hit #realityshow starring @jake_katzman \n",
      "#JustJake \n",
      "#streaming on your…\n",
      "RT @SussuLeVrai: 🚨 GIVEAWAY ECRAN @PredatorGaming 🚨\n",
      "\n",
      "▶️RT + Follow @SussuLeVrai\n",
      "▶️Follow Insta ( https://t.co/0FWsh5eRPo )\n",
      "▶️Abonne toi sur…\n",
      "RT @CervezaTipo: Habilitaron la música de Instagram Stories en Venezuela 😮\n",
      "Too bad this doesn't include #hurricanedorian 🤔 it's starting to come through South Carolina but we are getting som… https://t.co/txIH9aao7y\n",
      "La nueva función de #Instagram podría ayudar a frenar el problema del spam por bots. \n",
      "\n",
      "Ahora puedes elegir a quién… https://t.co/cpsnqpIkw4\n",
      "Please, tell me you love it just as much as me and go support him. \n",
      "\n",
      "  @/pillter_ on Instagram. https://t.co/9vEDrbMxIC\n",
      "Muy buen díaaaaa ☕☕☕. Aquí desde muy tempranito deseándoles un venturoso jueves 🤲🏼 de #tbt . Este en particular no… https://t.co/VTOvpRLdWj\n",
      "RT @usfitsarah: She makes my day https://t.co/UI8fZgMUjO\n",
      "RT @TVXQ_INFO_: j_y_world ig 유노윤호 사진\n",
      "#동방신기 #東方神起 #TVXQ #유노윤호 \n",
      "\n",
      "열정덩어리 유노윤호 열정이 넘치더라 ㅠ 나도 더 열심히 살아야겠다 생각했숩니다\n",
      "\n",
      "➡️https://t.co/MSQgOR27F8 https…\n",
      "RT @Pinkpandafan1: 📸 hibikinidiet : Instagram​ update\n",
      "https://t.co/4qgICobCej https://t.co/xdT7BwJnXZ\n",
      "RT @kikutaroid: 御御御付け\n",
      "#茄子 #eggplant\n",
      "#大根 #japaneseradish\n",
      "#玉ねぎ #onion\n",
      "#舞茸 #maitakemushroom\n",
      "#顆粒鰹だし #granulebonitosoup\n",
      "#味噌 #miso\n",
      "#水 #water http…\n",
      "#latepost day 2.\n",
      ".shotengai\n",
      ".Hikawa Shinto shrine (tree hugging for spiritual power!)\n",
      ".Saitama train museum\n",
      ".cicada… https://t.co/qyobjkg9q3\n",
      "RT @Hariom_Chauhan: #incredebleindia #travel #clouds #hills #trekking #Nature #weather #himalayas \n",
      "#iphonexsmax #photography @ George Evere…\n"
     ]
    }
   ],
   "source": [
    "try:\n",
    "    for tweet in statuses:\n",
    "        print (tweet.text)\n",
    "\n",
    "    next_results = statuses.next_results\n",
    "\n",
    "    args = dict(parse.parse_qsl(next_results[1:]))\n",
    "\n",
    "    statuses = twitter_api.search(**args)\n",
    "except:\n",
    "    pass"
   ]
  },
  {
   "cell_type": "markdown",
   "metadata": {},
   "source": [
    "# Streaming"
   ]
  },
  {
   "cell_type": "markdown",
   "metadata": {},
   "source": [
    "If instead we are interested in real time results, we can use the *Streaming* API. We simply declare a Listener that overrides the on_data and on_error functions appropriately."
   ]
  },
  {
   "cell_type": "code",
   "execution_count": 20,
   "metadata": {},
   "outputs": [],
   "source": [
    "class StdOutListener(tweepy.StreamListener):\n",
    "    def on_status(self, status):\n",
    "        print(status.text)\n",
    "        return True\n",
    "\n",
    "    def on_error(self, status):\n",
    "        print(status)\n",
    "        \n",
    "    def on_timeout(self):\n",
    "        print('Timeout...', file=sys.stderr)\n",
    "        return True"
   ]
  },
  {
   "cell_type": "markdown",
   "metadata": {},
   "source": [
    "Instanciate the Listener"
   ]
  },
  {
   "cell_type": "code",
   "execution_count": 21,
   "metadata": {},
   "outputs": [],
   "source": [
    "listen = StdOutListener()"
   ]
  },
  {
   "cell_type": "markdown",
   "metadata": {},
   "source": [
    "And pass the listener and the OAuth object to the **Stream** module."
   ]
  },
  {
   "cell_type": "code",
   "execution_count": 22,
   "metadata": {},
   "outputs": [],
   "source": [
    "stream = tweepy.Stream(auth, listen)"
   ]
  },
  {
   "cell_type": "markdown",
   "metadata": {},
   "source": [
    "This will return a stream object that we can (finally) use to track the Twitter stream for specific results"
   ]
  },
  {
   "cell_type": "code",
   "execution_count": 23,
   "metadata": {
    "scrolled": false
   },
   "outputs": [
    {
     "name": "stdout",
     "output_type": "stream",
     "text": [
      "RT @Toey_Pongsk: Puppy love 🐾 \n",
      ".\n",
      ".\n",
      "#smhhoundexplorer \n",
      "#smileyhoundmybestbuddy\n",
      "#smileyhoundcrew https://t.co/DkgpFO6Fxo\n",
      "RT @BonfirePictures: The City of Haarlem\n",
      "Photos shot by Gabriel Guita (@gabrielguita_)\n",
      "IG: https://t.co/QXg3utVoEq\n",
      "#Netherlands https://t.c…\n",
      "Please come support this event organised by my Mother !!! https://t.co/RiXZnr9q3D\n",
      "RT @_brooklynsummer: Honor working under direction of Noah Dillon @noah__dillon and The Hellp https://t.co/tNslXwjW2G on their latest creat…\n",
      "RT @EXOXOXOID: [SUHOSTAGRAM] 190905 kimjuncotton Instagram.\n",
      "\n",
      "찬열아 선물 고맙다 사랑한다🥰\n",
      "https://t.co/ygnU3mj3HJ\n",
      "https://t.co/AvsiG2kTH8\n",
      "\n",
      "#EXO #엑소 #Su…\n",
      "RT @suhocompany522: ☁면스타스토리 UP☁ \n",
      "\n",
      "찬열이짱👍\n",
      "\n",
      "https://t.co/r9RpHYMGEx\n",
      "#김준면 #수호 #SUHO #준면 #金俊勉 #スホ #EXO @weareoneEXO https://t.co/h1HIgjvktw\n",
      "RT @special1004: #sj https://t.co/QVm3lhu7hN\n",
      "作ってます！！！！\n",
      "今作ってますから！！！！\n",
      "\n",
      "来週9日は草津までおじゃまンボ！！\n",
      "お初ですわよ💗びわ湖市^ -… https://t.co/OZPOkXPPRI\n",
      "Фикус Бенджамина Твилайт в ассортименте, 3 растения  в горшке,  цена 95  гривен! Бронь в лс автору фото #фикус… https://t.co/xdm0uuVJ9c\n",
      "💎 SEPTEMBER BIRTHSTONE 💎\n",
      ".\n",
      ".\n",
      "The traditional birthstone for September is the sapphire. Like the ruby, the birthston… https://t.co/oI4KjdZXIp\n",
      "【Translates】\n",
      "돌아왔당 \n",
      "回來了啊\n",
      "帰ってきたよ〜\n",
      "I’m backkkk\n",
      "En venta equipos Routers, pendrive de 32 GB, switches 5 y 8 puertos, dispositivo bluetooth miniaturas, Telefóno cel… https://t.co/KjieYFjRNu\n",
      "RT @kei120856: ほんとにあった怖い話　20周年スペシャル｜Instagram\n",
      "ほん怖のインスタが出来てるからフォローよろしくです٩(ˊᗜˋ*)و\n",
      "#ほんとにあった怖い話20周年スペシャル #ほん怖 #稲垣吾郎 \n",
      "https://t.co/OWBvS1gSCY\n",
      "⁧#نصائح_في_التربية⁩ نمي داخل أبنائك ثقتهم بنفسهم بتشجيعك لهم وتقديرك لمجهودهم الذي يبذلونه وليس فقط تقدير النتائج ك… https://t.co/1c2iFzleUl\n",
      "Contento y agradecido por todas las muestras de cariño hacia mi persona en este cumpleaños nro 46 , un abrazo grand… https://t.co/2EAgXzudge\n",
      "RT @Smallmoon222: طقم ادمر بياجيه\n",
      "ساعه وقلم وكبك درجك اولى🛑\n",
      "\n",
      "ب٣٨٠﷼ 🌹\n",
      "\n",
      "متوفر بالوان ويوجد اشكال لماركات اخرى في المتجر⬅️@Smallmoon222 \n",
      "\n",
      "متجر…\n",
      "RT @5REDVELVET: [OFFICIAL] 190905 #SEULGI Instagram update\n",
      "\n",
      "#REDVELVET @RVsmtown\n",
      "https://t.co/XrU3kr3ufI https://t.co/y2DCEUGuZY\n",
      "J'ai rédigé cette petite histoire de tout mon coeur ,et je veux l'offrir comme cadeau ,cadeau de soutien… https://t.co/xlEsnKsIie\n",
      "RT @LISANATIONS_: [IG] 190905 — lalalalisa_m IG update : \n",
      "\n",
      "🔗 https://t.co/0NhL3dPzlW\n",
      "🔗 https://t.co/f4o0taCwVb\n",
      "\n",
      "#LISA #리사 #BLACKPINK #블랙핑크…\n",
      "Acaba de publicar una foto https://t.co/X04cxNTNfc\n",
      "Happy Teacher's Day everyone. @ Tulsipur, Uttar Pradesh, India https://t.co/6Qtrk2gscO\n",
      "Who the fuck??????\n",
      "RT @lizasoberano_ph: .@lizasoberano endorsement shoot today\n",
      "\n",
      "https://t.co/HrUJNQUlju\n",
      "#ABSCBNBaIIFanFave Liza Soberano https://t.co/WGZbkRey…\n",
      "RT @LouistUpdateBR: 📲|| LTHQOfficial postou o mesmo notificado sobre o Louis na BBC rádio 1 no instagram e nos stories!! \n",
      "\n",
      "Certifique-se de…\n",
      "RT @alexdnz: &gt;invade someone's farm\n",
      "&gt;steal their shit\n",
      "&gt;\"creepy farmers\"\n",
      "\n",
      "Get owned https://t.co/zLpsoGle8V\n",
      "Catch me on the @thebeat1036fm every Friday until the 20th from 10am-1pm. You can listen live online at… https://t.co/ch0PM32Y9d\n",
      "#newkidontheblock, llego con cara de sueño.Buen día  para tod@s. , Ganaderia Tropical. #Sialalechenacional 🇩🇴🇩🇴🇩🇴, … https://t.co/TKD3YC2Z9X\n",
      "@AztechGold @michaelwsmith https://t.co/lI2a63KDvI\n",
      "RT @larassekark: Sebenernya yang toxic tuh M-Banking bukan Instagram\n",
      "RT @morning_247: พี่ซิน ก็มาช่วยโปรโมทเพลงพี่ต้นด้วย น่ารักมากความนิพพาน คือมีหน้าหวานๆของน้องจ๋า อยู่ในไอจีพี่ซินที่หน้าหวานเช่นกัน \n",
      "ฝากตา…\n",
      "Another order is on the way to client. This one is going to Austria🇦🇹.… https://t.co/VPqw2jEE3M\n",
      "RT @K547672: #مظلات_مواقف_سیارات #مظلات_قصور\n",
      "#مظلات_جلسات #مظلات_خشبية_مظلات_مھرجانت\n",
      "#مظلات_بلاستيكية #مظلات_مدارس_ #تغطية_مسابح_لكسان\n",
      "#مظل…\n",
      "La nueva función de #Instagram podría ayudar a frenar el problema del spam por bots. \n",
      "\n",
      "Ahora sólo recibirás mensaje… https://t.co/zU6HThl1t5\n",
      "Saturday September 14th 🛥 black &amp; gold yacht party we goin up live performance by @yonthadon All ladies free‼️ dude… https://t.co/y8CE8196z3\n",
      "ALL \"FAKE\" https://t.co/b4a4IckDn7\n",
      "RT @zamosings: Twisted minds 🙏🙏🇳🇬🇳🇬\n",
      "@teadyjazz ❤️ https://t.co/LWHN7GxXtb\n",
      "あやのん♡るーむ 配信中!\n",
      "中学1年生の13やのんです！\n",
      "たい焼きガチイベなう( ᐛ )و\n",
      "SHOWROOM、Twitter、Instagramの\n",
      "フォロワーさん大募集中❤\n",
      "https://t.co/XcLKcAxJ05\n",
      "RT @LISANATIONS_: [IG] 190905 — lalalalisa_m IG update : \n",
      "\n",
      "🔗 https://t.co/0NhL3dPzlW\n",
      "🔗 https://t.co/f4o0taCwVb\n",
      "\n",
      "#LISA #리사 #BLACKPINK #블랙핑크…\n",
      "RT @OneRuelBrasil: Ai garoto deixa eu ir dormir...\n",
      "\n",
      "Ruel via Instagram Stories. https://t.co/r4YkIbO3fY\n",
      "@yasoupn ご参加ありがとうございます！ \n",
      "当選結果は、動画をチェック👀\n",
      "当選された方には、後日DMが届きます。\n",
      "キャンペーンサイトではJTB旅行券💴10万円分💴など、８週連続で豪華プレゼントが当たる！\n",
      "Instagramキ… https://t.co/z3HdbzaCAc\n",
      "Me anda mal instagram? Como siempre\n",
      "RT @TVXQ_INFO_: smtown_idn ig 동방신기 자카르타 공연\n",
      "#동방신기 #東方神起 #TVXQ \n",
      "\n",
      "Momen pertemuan Cassiopeia Indonesia dengan TVXQ kemarin\n",
      "Share postingan ini…\n",
      "メイ社長とハレル\n",
      "\n",
      "#njpw\n",
      "#新日本プロレス \n",
      "#後楽園ホール https://t.co/wr6V9PqQ1w\n",
      "Do you wanna Luscious Lips!\n",
      "For Healthy and attractive Lips Dr.Romia Cosmeceuticals presents     \" Lip scrub &amp; Lip… https://t.co/EkNJgkfXfQ\n",
      "I’m being brave today! It’s the first day at school for Arthur. Go have fun little man. Mummy loves you. 😘 @ The Je… https://t.co/tgT4HeZX4U\n",
      "Wednesday Brimfield. #brimfieldantiqueshow https://t.co/ayG09BW5Do\n",
      "@Lehahahanat Beli sini. https://t.co/BCAnMAhfKO https://t.co/9XNRk1qhO5\n",
      "作品完成。\n",
      "PLAYTHEHOPE 作品No.5132\n",
      "https://t.co/raFyNFe3fc\n",
      "\n",
      "#art  #japan #drawing #originalart  #watercolor\n",
      "\n",
      "完成作品10000枚達成ま… https://t.co/xqnxq9sdD4\n",
      "RT @kento_iii: 銀座ダイヤモンドシライシは\n",
      "#劇場版おっさんずラブ \n",
      "特別協力をしております\n",
      "\n",
      "Bouquet(ブーケ)\n",
      "たくさんの言葉や想いをブーケに込めて、二人の気持ちを永遠に結んでほしいという願いが込められています\n",
      "\n",
      "https://t.co/xmAsnct…\n",
      "@naif_otaibi85 @Az_Aloudah https://t.co/UqG3jVhCTD هالاكاونت بيدلك على كل القهاوي\n",
      "@Ebuka There's a page on Instagram that posts videos of the housemates daily activities, useful and not useful, I t… https://t.co/N5wFNZRp2W\n",
      "RT @milkteu: baekhyun instagram update with jongin and sehun’s food truck 😭❣️\n",
      "\n",
      "caption: “thank you our maknae, sehun-ah! ❤️ #.loyalguy #.ka…\n",
      "RT @PARKJIHOON__TH: [IG] 190905 jtbcdrama Instagram update\n",
      "\n",
      "🔗https://t.co/4VaqUmrYxI\n",
      "\n",
      "#꽃파당 #고영수\n",
      "#PARKJIHOON #박지훈\n",
      "\n",
      " https://t.co/eJP9vU1QVM\n",
      "Ferragosto 🌌 #Ferragosto #moon #sea #TorreSgarrata #sky #beach #Wednesdaynight #Wednesday #night #MarinaDiLizzano… https://t.co/6X1A78sTgU\n",
      "SCHEFFLERA 'GOLD CAPELLA' 🌺\n",
      "\n",
      "#plantaddict #plantlover #plant #plantes  #garden #plants #plante #paysage #nature… https://t.co/AyqVX3gCms\n",
      "📆190905\n",
      "\n",
      "آی کیوتتتتاااااا😭😭😭\n",
      "آپدیت اینستاگرام سوهو لیدری با کامیون حمایتی که چانی براش فرستاده😭😭💗\n",
      "\n",
      "کپشن: چانیولا، ب… https://t.co/a0obUlZXnv\n",
      "RT @daystar_990529: JTBC 드라마 인스타 #꽃파당 이름점 궁합 이벤트\n",
      "https://t.co/z1Vl34wmF4\n",
      "\n",
      "쓰리 투 완! 고영수X꽃파당 궁합 86% 박지훈X꽃파당 궁합 7% ㅋㅋㅋㅋㅋㅋㅋㅋㅋ 분위기 넘 좋다 사랑둥잉 막내 #…\n",
      "RT @D4DJ_pj: 💿公式Instagramオープン💿\n",
      "昨日8月26日(月)より、D4DJ公式Instagramがスタート✨\n",
      "ぜひフォローしてライブ写真やキャラクターなどの画像をぜひインスタでもチェックしてみてください👇📸https://t.co/0cixXcMtp8\n",
      "さ…\n",
      "RT @BLINK_Billboard: [96.5 TDY RADIO]\n",
      "\n",
      "🗳 Vote every hour on their website:\n",
      "https://t.co/6YMBLrF0XH\n",
      "\n",
      "🗳 Vote on their IG: https://t.co/6VHC92…\n",
      "RT @ariadnakastelic: Pero le hablás a nenas por instagram, pedazo de violín. Eso es un papelón. https://t.co/Dzo0qvsArK\n",
      "Outfit by @Slimfit90\n",
      ".\n",
      "Call:08060098007\n",
      ".\n",
      ".\n",
      "#lookgoodfeelgood #bellanaija #mensfashion #fashionpreneur#proudlyniger… https://t.co/TkXvLXr3Tu\n",
      "Good Morning. What’s for breakfast? https://t.co/c3afYeu0HI\n",
      "RT @kento_iii: 銀座ダイヤモンドシライシは\n",
      "#劇場版おっさんずラブ \n",
      "特別協力をしております\n",
      "\n",
      "Bouquet(ブーケ)\n",
      "たくさんの言葉や想いをブーケに込めて、二人の気持ちを永遠に結んでほしいという願いが込められています\n",
      "\n",
      "https://t.co/xmAsnct…\n",
      "I would like to wish a happy birthday to one of the greatest men to every step foot on this planet, the man, the le… https://t.co/YO4d1JOLnt\n",
      "RT @mp4_pjh: JTBC 드라마 인스타그램 이름점 궁합 EVENT 🌺 #박지훈 #고영수 #꽃파당 \n",
      "\n",
      "https://t.co/RHL6Z3rN2S https://t.co/JajTWWfHoF\n",
      "Semoga kebagian pembangunan @KhofifahIP https://t.co/8m6wZg3kOr\n",
      "Now you need love from the people that have below 50k followers?\n",
      "RT @MrOdanz: EDIT: Tickets will NOT be sold to people with less than 50K followers. Have a lovely Thursday. https://t.co/0rd0NW0UW3\n",
      "RT @LISANATIONS_: [IG] 190905 — lalalalisa_m IG update : \n",
      "\n",
      "🔗 https://t.co/0NhL3dPzlW\n",
      "🔗 https://t.co/f4o0taCwVb\n",
      "\n",
      "#LISA #리사 #BLACKPINK #블랙핑크…\n",
      "DJ君はAirPodsのようにハイテクじゃないけど、素敵です。AirPodsは落とさないようにしましょう(^^;\n",
      "\n",
      "#airpods \n",
      "#落し物 \n",
      "#ロレックス \n",
      "#rolex\n",
      "#デイトジャスト\n",
      "#datejust https://t.co/ongBaNEJ24\n",
      "Министр образования и науки ЧР Исмаил Байханов и министр ЧР по туризму Муслим Байтазиев обсудили вопросы развития с… https://t.co/FxtA1Ba01V\n",
      "RT @GGstories: Un magnifique fan-art #FullMetalAlchemist x #Pokémon ! 😍\n",
      "\n",
      "Source : https://t.co/zxAza0bBmp https://t.co/LNEOobU64b\n",
      "Y aquí llega el estreno de #MIVENENO. Este viernes en ultrapopmadrid , os espero para que podáis probarlo, estaré j… https://t.co/gd4gAf9eXY\n",
      "https://t.co/DeJD1fwunB https://t.co/5NdJu0Miap\n",
      "相変わらず仲が良さそう😊 #蘇打綠\n",
      "https://t.co/3r2wb9oQwv…\n"
     ]
    },
    {
     "name": "stdout",
     "output_type": "stream",
     "text": [
      "Hola @radioenter Queremos escuchar a #CarlosRivera con su tema #TeEsperaba y dejar nuestro voto en el #RankingEnter… https://t.co/Wv3dfAIHUw\n",
      "RT @rickbonadio: As palavras do Samuel faz a nossa equipe se encher de alegria e orgulho do nosso menino Sol e faz a gente continuar motiva…\n",
      "RT @special1004: #newlogo https://t.co/XdxHRiikAj\n",
      "\"Life is not about who you once were, It's about who you are right now and the person you have the potential to be.… https://t.co/q0vob4DmKQ\n",
      "RT @araki_hiro0614: 大阪二日目！\n",
      "#幽遊白書\n",
      "#桑原和真\n",
      "#コエンマ https://t.co/O4pSmeMdQV\n",
      "@City_Wonders I’m interested \n",
      "https://t.co/sZ9TAW1yYP\n",
      "Evy@flourish-ious.com\n",
      "https://t.co/qpKywvMcwB\n",
      "RT @WWEXOL: [OFFICIAL] kimjuncotton Instagram Story Update #SUHO\n",
      "\n",
      "\"@.real__pcy Chanyeol-ie is the best 👍\"\n",
      "\n",
      "📸: https://t.co/CHL7AGBiWq\n",
      "\n",
      "#EXO…\n",
      "Manisa ovaları sergideki üzümlerle rengarenk oldu https://t.co/yCGfUVlqRv @habergundemim35 aracılığıyla https://t.co/XXjITYsAsx\n",
      "RT @EXOXiuminTurkey: #OurPreciousXIUMIN 🦋\n",
      "\n",
      "Super Junior Donghae'nin Minseok'u EXO konseri için kutladığı inanılmaz sevimli bu Instagram pay…\n",
      "Instagram naija we have this HP 17 Windows 10 64 Intel Core Quad-Core i5-8250U 1.6GHz 1TB HD 8GB DDR4 (1x8GB) DVD-W… https://t.co/uIW3fIhL5l\n",
      "Говоря про Рай, представляю так - \n",
      "это длинный путь, бесконечный шлях. \n",
      "Я бы шла и шла мимо старых дач, \n",
      "и цвела бы… https://t.co/8XLiU3lUSg\n",
      "#repost @fite_sd\n",
      "・・・\n",
      "Obra: “Juego de Navajas” ⚔️ Basada en Bodas de Sangre de Federico García Lorca, en esta versió… https://t.co/x8UAhg95GR\n",
      "RT @mikipon11: ズボラすぎて記念日忘れちゃうような\n",
      "女と付き合ってくれてありがとう。\n",
      "\n",
      "ご飯も私が食べて罪悪感で潰れないように\n",
      "低糖質、低脂質のお店を選んでくれました🐫\n",
      "\n",
      "感動。\n",
      "\n",
      "サプライズで薔薇を一輪🌹\n",
      "\n",
      "ありがとう前歯。\n",
      "エラの骨が好きです🦴 https:/…\n",
      "Good night \n",
      "https://t.co/2ydTbwmGd0 https://t.co/nh2YkGLGC9\n",
      "de donde siguen saliendo volandoo?\n",
      "ROSA'S KITCHEN WILL. E BACK AT NEPTUNE DAY! MARK YOUR CALENDERS FOR SATURDAY,  9/14/19.. BRING THE KIDS FOR RIDES,… https://t.co/qv79lPhonl\n",
      "Фото за 10 лет, 2019-2009...не самые лучшие, просто, из разного времени#ценимомент;#ловимомент;#простофото;#жизнь;… https://t.co/3oR3LNQAm8\n",
      "RT @_leavemealone_u: น้องแบมติดอันดับที่41 จากที่ instagram   จัดอันดับ top 500 ผู้มีอิทธิพลในด้านความงามและแฟชั่นค่ะ 👏❤ #Bambam @BamBam1A…\n",
      "https://t.co/LR5V6gk7fr\n",
      "RT @allaboutIU: [TRANS] 190905\n",
      "\n",
      "Joe Taslim shared his thought about tvN drama, My Mister (2018) in his instagram story\n",
      "\n",
      "\"No wonder they won…\n",
      "RT @Railway415: 京急の事故\n",
      "この辺生々しいな\n",
      "\n",
      "https://t.co/xZ4GVDUHfj\n",
      "https://t.co/SI6HN6c113\n",
      "RT @egt239: #Repost hustlersmovie\n",
      "・・・\n",
      "The wait is almost over. #HustlersMovie - in theaters September 13. Get tickets now by clicking the l…\n",
      "RT @segalink: Hi Distinguished, this will be looked into and these marauders in the system will be brought to book for thei crime against h…\n",
      "RT @patriciawellsfr: Good night! https://t.co/e8GqcikxiM\n",
      "RT @TimisPlace: Street STYLE VIBES IN ANKARA PRINT x JUMPSUIT. #stylepick #styleconnoisseur ... Always a Slayer.\n",
      "\n",
      "\" Everyday is a fashion S…\n",
      "Acaba de publicar una foto https://t.co/C23p34MrfB\n",
      "Cuando pienso que lo más popular es lo que te ponen primero, es como que \"IG Music es una basura\", es más, la mayor… https://t.co/Owp9bDp77T\n",
      "#instafollowersclub \n",
      "#godkrishna \n",
      "#follow4followback \n",
      "#followme👉 @deeprajsri https://t.co/E5a7zhL7vv\n",
      "RT @larassekark: Sebenernya yang toxic tuh M-Banking bukan Instagram\n",
      "RT @WJSN_Cosmic: [#우주소녀 #다원]\n",
      "오늘 운동 끝나고 잭스키친 맛있게 먹고 갑니다~~~~~👍👍👍\n",
      "진짜 맛있다....❤️ \n",
      "With 보리\n",
      "\n",
      "https://t.co/j0pdctJiOJ https://t.co/f640AZOhaN\n",
      "RT @doolsetbangtan: Namjoon went to Koo House, a contemporary art &amp; design museum located in Yangpyeong (https://t.co/5qySwW96Yw). A curato…\n",
      "RT @REDVELVET_TH: 190905 hi_sseulgi's instagram update -빼꼼👀\n",
      "\n",
      "🔗https://t.co/zsRNHgzWFN https://t.co/J74ZOfzBBd\n",
      "@ABE7TU9hiXkOtbQ 残念😥\n",
      "期間中(9/2～9/30)は毎日挑戦できるのでまた明日チャレンジしてね💦https://t.co/1Ds3Uayne8\n",
      "\n",
      "インスタグラムでもプレゼントキャンペーンをやってるよ\n",
      "📸https://t.co/BTeFM2Ae7Z\n",
      "中之島公園。\n",
      "淀屋橋の会議室(セミナー室)です。。 場所: 中之島公園 https://t.co/fZ1006Cxqu\n",
      "サマースクール19にGLとして参加してきました！\n",
      "みんなフレンドリーでこんなに色紙が埋まるとは思いませんでした笑\n",
      "最高のGLL班と26班でした👏\n",
      "\n",
      "#19サマスク https://t.co/60xZQ6IJjw\n",
      "RT @dasuwaikaa: 今日の髪型の裏テーマは「犬」でした(笑)\n",
      " #三つ編みアレンジ #犬の耳 https://t.co/J9Dn1WjRJg\n",
      "#instafollowersclub \n",
      "#godkrishna \n",
      "#follow4followback \n",
      "#followme👉 @deeprajsri https://t.co/E5a7zhL7vv\n",
      "Azul y Blanco somos todos.\n",
      "#TdNic https://t.co/ekuJCjCLjm\n",
      "RT @TVXQ_INFO_: smtown_idn ig 동방신기 자카르타 공연\n",
      "#동방신기 #東方神起 #TVXQ \n",
      "\n",
      "Momen pertemuan Cassiopeia Indonesia dengan TVXQ kemarin\n",
      "Share postingan ini…\n",
      "RT @WalgDP: Ah people using fake accounts with my photos again. I wish im confident enough to send dick picks hahaha, he'll be back with an…\n"
     ]
    },
    {
     "ename": "KeyboardInterrupt",
     "evalue": "",
     "output_type": "error",
     "traceback": [
      "\u001b[0;31m---------------------------------------------------------------------------\u001b[0m",
      "\u001b[0;31mWantReadError\u001b[0m                             Traceback (most recent call last)",
      "\u001b[0;32m~/anaconda3/lib/python3.7/site-packages/urllib3/contrib/pyopenssl.py\u001b[0m in \u001b[0;36mrecv_into\u001b[0;34m(self, *args, **kwargs)\u001b[0m\n\u001b[1;32m    293\u001b[0m         \u001b[0;32mtry\u001b[0m\u001b[0;34m:\u001b[0m\u001b[0;34m\u001b[0m\u001b[0;34m\u001b[0m\u001b[0m\n\u001b[0;32m--> 294\u001b[0;31m             \u001b[0;32mreturn\u001b[0m \u001b[0mself\u001b[0m\u001b[0;34m.\u001b[0m\u001b[0mconnection\u001b[0m\u001b[0;34m.\u001b[0m\u001b[0mrecv_into\u001b[0m\u001b[0;34m(\u001b[0m\u001b[0;34m*\u001b[0m\u001b[0margs\u001b[0m\u001b[0;34m,\u001b[0m \u001b[0;34m**\u001b[0m\u001b[0mkwargs\u001b[0m\u001b[0;34m)\u001b[0m\u001b[0;34m\u001b[0m\u001b[0;34m\u001b[0m\u001b[0m\n\u001b[0m\u001b[1;32m    295\u001b[0m         \u001b[0;32mexcept\u001b[0m \u001b[0mOpenSSL\u001b[0m\u001b[0;34m.\u001b[0m\u001b[0mSSL\u001b[0m\u001b[0;34m.\u001b[0m\u001b[0mSysCallError\u001b[0m \u001b[0;32mas\u001b[0m \u001b[0me\u001b[0m\u001b[0;34m:\u001b[0m\u001b[0;34m\u001b[0m\u001b[0;34m\u001b[0m\u001b[0m\n",
      "\u001b[0;32m~/anaconda3/lib/python3.7/site-packages/OpenSSL/SSL.py\u001b[0m in \u001b[0;36mrecv_into\u001b[0;34m(self, buffer, nbytes, flags)\u001b[0m\n\u001b[1;32m   1821\u001b[0m             \u001b[0mresult\u001b[0m \u001b[0;34m=\u001b[0m \u001b[0m_lib\u001b[0m\u001b[0;34m.\u001b[0m\u001b[0mSSL_read\u001b[0m\u001b[0;34m(\u001b[0m\u001b[0mself\u001b[0m\u001b[0;34m.\u001b[0m\u001b[0m_ssl\u001b[0m\u001b[0;34m,\u001b[0m \u001b[0mbuf\u001b[0m\u001b[0;34m,\u001b[0m \u001b[0mnbytes\u001b[0m\u001b[0;34m)\u001b[0m\u001b[0;34m\u001b[0m\u001b[0;34m\u001b[0m\u001b[0m\n\u001b[0;32m-> 1822\u001b[0;31m         \u001b[0mself\u001b[0m\u001b[0;34m.\u001b[0m\u001b[0m_raise_ssl_error\u001b[0m\u001b[0;34m(\u001b[0m\u001b[0mself\u001b[0m\u001b[0;34m.\u001b[0m\u001b[0m_ssl\u001b[0m\u001b[0;34m,\u001b[0m \u001b[0mresult\u001b[0m\u001b[0;34m)\u001b[0m\u001b[0;34m\u001b[0m\u001b[0;34m\u001b[0m\u001b[0m\n\u001b[0m\u001b[1;32m   1823\u001b[0m \u001b[0;34m\u001b[0m\u001b[0m\n",
      "\u001b[0;32m~/anaconda3/lib/python3.7/site-packages/OpenSSL/SSL.py\u001b[0m in \u001b[0;36m_raise_ssl_error\u001b[0;34m(self, ssl, result)\u001b[0m\n\u001b[1;32m   1621\u001b[0m         \u001b[0;32mif\u001b[0m \u001b[0merror\u001b[0m \u001b[0;34m==\u001b[0m \u001b[0m_lib\u001b[0m\u001b[0;34m.\u001b[0m\u001b[0mSSL_ERROR_WANT_READ\u001b[0m\u001b[0;34m:\u001b[0m\u001b[0;34m\u001b[0m\u001b[0;34m\u001b[0m\u001b[0m\n\u001b[0;32m-> 1622\u001b[0;31m             \u001b[0;32mraise\u001b[0m \u001b[0mWantReadError\u001b[0m\u001b[0;34m(\u001b[0m\u001b[0;34m)\u001b[0m\u001b[0;34m\u001b[0m\u001b[0;34m\u001b[0m\u001b[0m\n\u001b[0m\u001b[1;32m   1623\u001b[0m         \u001b[0;32melif\u001b[0m \u001b[0merror\u001b[0m \u001b[0;34m==\u001b[0m \u001b[0m_lib\u001b[0m\u001b[0;34m.\u001b[0m\u001b[0mSSL_ERROR_WANT_WRITE\u001b[0m\u001b[0;34m:\u001b[0m\u001b[0;34m\u001b[0m\u001b[0;34m\u001b[0m\u001b[0m\n",
      "\u001b[0;31mWantReadError\u001b[0m: ",
      "\nDuring handling of the above exception, another exception occurred:\n",
      "\u001b[0;31mKeyboardInterrupt\u001b[0m                         Traceback (most recent call last)",
      "\u001b[0;32m<ipython-input-23-e3873154f79b>\u001b[0m in \u001b[0;36m<module>\u001b[0;34m()\u001b[0m\n\u001b[0;32m----> 1\u001b[0;31m \u001b[0mstream\u001b[0m\u001b[0;34m.\u001b[0m\u001b[0mfilter\u001b[0m\u001b[0;34m(\u001b[0m\u001b[0mtrack\u001b[0m\u001b[0;34m=\u001b[0m\u001b[0;34m[\u001b[0m\u001b[0mquery\u001b[0m\u001b[0;34m]\u001b[0m\u001b[0;34m)\u001b[0m\u001b[0;34m\u001b[0m\u001b[0;34m\u001b[0m\u001b[0m\n\u001b[0m",
      "\u001b[0;32m~/anaconda3/lib/python3.7/site-packages/tweepy/streaming.py\u001b[0m in \u001b[0;36mfilter\u001b[0;34m(self, follow, track, is_async, locations, stall_warnings, languages, encoding, filter_level)\u001b[0m\n\u001b[1;32m    472\u001b[0m             \u001b[0mself\u001b[0m\u001b[0;34m.\u001b[0m\u001b[0mbody\u001b[0m\u001b[0;34m[\u001b[0m\u001b[0;34m'filter_level'\u001b[0m\u001b[0;34m]\u001b[0m \u001b[0;34m=\u001b[0m \u001b[0mfilter_level\u001b[0m\u001b[0;34m.\u001b[0m\u001b[0mencode\u001b[0m\u001b[0;34m(\u001b[0m\u001b[0mencoding\u001b[0m\u001b[0;34m)\u001b[0m\u001b[0;34m\u001b[0m\u001b[0;34m\u001b[0m\u001b[0m\n\u001b[1;32m    473\u001b[0m         \u001b[0mself\u001b[0m\u001b[0;34m.\u001b[0m\u001b[0msession\u001b[0m\u001b[0;34m.\u001b[0m\u001b[0mparams\u001b[0m \u001b[0;34m=\u001b[0m \u001b[0;34m{\u001b[0m\u001b[0;34m'delimited'\u001b[0m\u001b[0;34m:\u001b[0m \u001b[0;34m'length'\u001b[0m\u001b[0;34m}\u001b[0m\u001b[0;34m\u001b[0m\u001b[0;34m\u001b[0m\u001b[0m\n\u001b[0;32m--> 474\u001b[0;31m         \u001b[0mself\u001b[0m\u001b[0;34m.\u001b[0m\u001b[0m_start\u001b[0m\u001b[0;34m(\u001b[0m\u001b[0mis_async\u001b[0m\u001b[0;34m)\u001b[0m\u001b[0;34m\u001b[0m\u001b[0;34m\u001b[0m\u001b[0m\n\u001b[0m\u001b[1;32m    475\u001b[0m \u001b[0;34m\u001b[0m\u001b[0m\n\u001b[1;32m    476\u001b[0m     def sitestream(self, follow, stall_warnings=False,\n",
      "\u001b[0;32m~/anaconda3/lib/python3.7/site-packages/tweepy/streaming.py\u001b[0m in \u001b[0;36m_start\u001b[0;34m(self, is_async)\u001b[0m\n\u001b[1;32m    387\u001b[0m             \u001b[0mself\u001b[0m\u001b[0;34m.\u001b[0m\u001b[0m_thread\u001b[0m\u001b[0;34m.\u001b[0m\u001b[0mstart\u001b[0m\u001b[0;34m(\u001b[0m\u001b[0;34m)\u001b[0m\u001b[0;34m\u001b[0m\u001b[0;34m\u001b[0m\u001b[0m\n\u001b[1;32m    388\u001b[0m         \u001b[0;32melse\u001b[0m\u001b[0;34m:\u001b[0m\u001b[0;34m\u001b[0m\u001b[0;34m\u001b[0m\u001b[0m\n\u001b[0;32m--> 389\u001b[0;31m             \u001b[0mself\u001b[0m\u001b[0;34m.\u001b[0m\u001b[0m_run\u001b[0m\u001b[0;34m(\u001b[0m\u001b[0;34m)\u001b[0m\u001b[0;34m\u001b[0m\u001b[0;34m\u001b[0m\u001b[0m\n\u001b[0m\u001b[1;32m    390\u001b[0m \u001b[0;34m\u001b[0m\u001b[0m\n\u001b[1;32m    391\u001b[0m     \u001b[0;32mdef\u001b[0m \u001b[0mon_closed\u001b[0m\u001b[0;34m(\u001b[0m\u001b[0mself\u001b[0m\u001b[0;34m,\u001b[0m \u001b[0mresp\u001b[0m\u001b[0;34m)\u001b[0m\u001b[0;34m:\u001b[0m\u001b[0;34m\u001b[0m\u001b[0;34m\u001b[0m\u001b[0m\n",
      "\u001b[0;32m~/anaconda3/lib/python3.7/site-packages/tweepy/streaming.py\u001b[0m in \u001b[0;36m_run\u001b[0;34m(self)\u001b[0m\n\u001b[1;32m    287\u001b[0m                     \u001b[0mself\u001b[0m\u001b[0;34m.\u001b[0m\u001b[0msnooze_time\u001b[0m \u001b[0;34m=\u001b[0m \u001b[0mself\u001b[0m\u001b[0;34m.\u001b[0m\u001b[0msnooze_time_step\u001b[0m\u001b[0;34m\u001b[0m\u001b[0;34m\u001b[0m\u001b[0m\n\u001b[1;32m    288\u001b[0m                     \u001b[0mself\u001b[0m\u001b[0;34m.\u001b[0m\u001b[0mlistener\u001b[0m\u001b[0;34m.\u001b[0m\u001b[0mon_connect\u001b[0m\u001b[0;34m(\u001b[0m\u001b[0;34m)\u001b[0m\u001b[0;34m\u001b[0m\u001b[0;34m\u001b[0m\u001b[0m\n\u001b[0;32m--> 289\u001b[0;31m                     \u001b[0mself\u001b[0m\u001b[0;34m.\u001b[0m\u001b[0m_read_loop\u001b[0m\u001b[0;34m(\u001b[0m\u001b[0mresp\u001b[0m\u001b[0;34m)\u001b[0m\u001b[0;34m\u001b[0m\u001b[0;34m\u001b[0m\u001b[0m\n\u001b[0m\u001b[1;32m    290\u001b[0m             \u001b[0;32mexcept\u001b[0m \u001b[0;34m(\u001b[0m\u001b[0mTimeout\u001b[0m\u001b[0;34m,\u001b[0m \u001b[0mssl\u001b[0m\u001b[0;34m.\u001b[0m\u001b[0mSSLError\u001b[0m\u001b[0;34m)\u001b[0m \u001b[0;32mas\u001b[0m \u001b[0mexc\u001b[0m\u001b[0;34m:\u001b[0m\u001b[0;34m\u001b[0m\u001b[0;34m\u001b[0m\u001b[0m\n\u001b[1;32m    291\u001b[0m                 \u001b[0;31m# This is still necessary, as a SSLError can actually be\u001b[0m\u001b[0;34m\u001b[0m\u001b[0;34m\u001b[0m\u001b[0;34m\u001b[0m\u001b[0m\n",
      "\u001b[0;32m~/anaconda3/lib/python3.7/site-packages/tweepy/streaming.py\u001b[0m in \u001b[0;36m_read_loop\u001b[0;34m(self, resp)\u001b[0m\n\u001b[1;32m    337\u001b[0m             \u001b[0mlength\u001b[0m \u001b[0;34m=\u001b[0m \u001b[0;36m0\u001b[0m\u001b[0;34m\u001b[0m\u001b[0;34m\u001b[0m\u001b[0m\n\u001b[1;32m    338\u001b[0m             \u001b[0;32mwhile\u001b[0m \u001b[0;32mnot\u001b[0m \u001b[0mresp\u001b[0m\u001b[0;34m.\u001b[0m\u001b[0mraw\u001b[0m\u001b[0;34m.\u001b[0m\u001b[0mclosed\u001b[0m\u001b[0;34m:\u001b[0m\u001b[0;34m\u001b[0m\u001b[0;34m\u001b[0m\u001b[0m\n\u001b[0;32m--> 339\u001b[0;31m                 \u001b[0mline\u001b[0m \u001b[0;34m=\u001b[0m \u001b[0mbuf\u001b[0m\u001b[0;34m.\u001b[0m\u001b[0mread_line\u001b[0m\u001b[0;34m(\u001b[0m\u001b[0;34m)\u001b[0m\u001b[0;34m\u001b[0m\u001b[0;34m\u001b[0m\u001b[0m\n\u001b[0m\u001b[1;32m    340\u001b[0m                 \u001b[0mstripped_line\u001b[0m \u001b[0;34m=\u001b[0m \u001b[0mline\u001b[0m\u001b[0;34m.\u001b[0m\u001b[0mstrip\u001b[0m\u001b[0;34m(\u001b[0m\u001b[0;34m)\u001b[0m \u001b[0;32mif\u001b[0m \u001b[0mline\u001b[0m \u001b[0;32melse\u001b[0m \u001b[0mline\u001b[0m \u001b[0;31m# line is sometimes None so we need to check here\u001b[0m\u001b[0;34m\u001b[0m\u001b[0;34m\u001b[0m\u001b[0m\n\u001b[1;32m    341\u001b[0m                 \u001b[0;32mif\u001b[0m \u001b[0;32mnot\u001b[0m \u001b[0mstripped_line\u001b[0m\u001b[0;34m:\u001b[0m\u001b[0;34m\u001b[0m\u001b[0;34m\u001b[0m\u001b[0m\n",
      "\u001b[0;32m~/anaconda3/lib/python3.7/site-packages/tweepy/streaming.py\u001b[0m in \u001b[0;36mread_line\u001b[0;34m(self, sep)\u001b[0m\n\u001b[1;32m    198\u001b[0m             \u001b[0;32melse\u001b[0m\u001b[0;34m:\u001b[0m\u001b[0;34m\u001b[0m\u001b[0;34m\u001b[0m\u001b[0m\n\u001b[1;32m    199\u001b[0m                 \u001b[0mstart\u001b[0m \u001b[0;34m=\u001b[0m \u001b[0mlen\u001b[0m\u001b[0;34m(\u001b[0m\u001b[0mself\u001b[0m\u001b[0;34m.\u001b[0m\u001b[0m_buffer\u001b[0m\u001b[0;34m)\u001b[0m\u001b[0;34m\u001b[0m\u001b[0;34m\u001b[0m\u001b[0m\n\u001b[0;32m--> 200\u001b[0;31m             \u001b[0mself\u001b[0m\u001b[0;34m.\u001b[0m\u001b[0m_buffer\u001b[0m \u001b[0;34m+=\u001b[0m \u001b[0mself\u001b[0m\u001b[0;34m.\u001b[0m\u001b[0m_stream\u001b[0m\u001b[0;34m.\u001b[0m\u001b[0mread\u001b[0m\u001b[0;34m(\u001b[0m\u001b[0mself\u001b[0m\u001b[0;34m.\u001b[0m\u001b[0m_chunk_size\u001b[0m\u001b[0;34m)\u001b[0m\u001b[0;34m\u001b[0m\u001b[0;34m\u001b[0m\u001b[0m\n\u001b[0m\u001b[1;32m    201\u001b[0m         \u001b[0;32mreturn\u001b[0m \u001b[0msix\u001b[0m\u001b[0;34m.\u001b[0m\u001b[0mb\u001b[0m\u001b[0;34m(\u001b[0m\u001b[0;34m''\u001b[0m\u001b[0;34m)\u001b[0m\u001b[0;34m\u001b[0m\u001b[0;34m\u001b[0m\u001b[0m\n\u001b[1;32m    202\u001b[0m \u001b[0;34m\u001b[0m\u001b[0m\n",
      "\u001b[0;32m~/anaconda3/lib/python3.7/site-packages/urllib3/response.py\u001b[0m in \u001b[0;36mread\u001b[0;34m(self, amt, decode_content, cache_content)\u001b[0m\n\u001b[1;32m    440\u001b[0m             \u001b[0;32melse\u001b[0m\u001b[0;34m:\u001b[0m\u001b[0;34m\u001b[0m\u001b[0;34m\u001b[0m\u001b[0m\n\u001b[1;32m    441\u001b[0m                 \u001b[0mcache_content\u001b[0m \u001b[0;34m=\u001b[0m \u001b[0;32mFalse\u001b[0m\u001b[0;34m\u001b[0m\u001b[0;34m\u001b[0m\u001b[0m\n\u001b[0;32m--> 442\u001b[0;31m                 \u001b[0mdata\u001b[0m \u001b[0;34m=\u001b[0m \u001b[0mself\u001b[0m\u001b[0;34m.\u001b[0m\u001b[0m_fp\u001b[0m\u001b[0;34m.\u001b[0m\u001b[0mread\u001b[0m\u001b[0;34m(\u001b[0m\u001b[0mamt\u001b[0m\u001b[0;34m)\u001b[0m\u001b[0;34m\u001b[0m\u001b[0;34m\u001b[0m\u001b[0m\n\u001b[0m\u001b[1;32m    443\u001b[0m                 \u001b[0;32mif\u001b[0m \u001b[0mamt\u001b[0m \u001b[0;34m!=\u001b[0m \u001b[0;36m0\u001b[0m \u001b[0;32mand\u001b[0m \u001b[0;32mnot\u001b[0m \u001b[0mdata\u001b[0m\u001b[0;34m:\u001b[0m  \u001b[0;31m# Platform-specific: Buggy versions of Python.\u001b[0m\u001b[0;34m\u001b[0m\u001b[0;34m\u001b[0m\u001b[0m\n\u001b[1;32m    444\u001b[0m                     \u001b[0;31m# Close the connection when no data is returned\u001b[0m\u001b[0;34m\u001b[0m\u001b[0;34m\u001b[0m\u001b[0;34m\u001b[0m\u001b[0m\n",
      "\u001b[0;32m~/anaconda3/lib/python3.7/http/client.py\u001b[0m in \u001b[0;36mread\u001b[0;34m(self, amt)\u001b[0m\n\u001b[1;32m    445\u001b[0m             \u001b[0;31m# Amount is given, implement using readinto\u001b[0m\u001b[0;34m\u001b[0m\u001b[0;34m\u001b[0m\u001b[0;34m\u001b[0m\u001b[0m\n\u001b[1;32m    446\u001b[0m             \u001b[0mb\u001b[0m \u001b[0;34m=\u001b[0m \u001b[0mbytearray\u001b[0m\u001b[0;34m(\u001b[0m\u001b[0mamt\u001b[0m\u001b[0;34m)\u001b[0m\u001b[0;34m\u001b[0m\u001b[0;34m\u001b[0m\u001b[0m\n\u001b[0;32m--> 447\u001b[0;31m             \u001b[0mn\u001b[0m \u001b[0;34m=\u001b[0m \u001b[0mself\u001b[0m\u001b[0;34m.\u001b[0m\u001b[0mreadinto\u001b[0m\u001b[0;34m(\u001b[0m\u001b[0mb\u001b[0m\u001b[0;34m)\u001b[0m\u001b[0;34m\u001b[0m\u001b[0;34m\u001b[0m\u001b[0m\n\u001b[0m\u001b[1;32m    448\u001b[0m             \u001b[0;32mreturn\u001b[0m \u001b[0mmemoryview\u001b[0m\u001b[0;34m(\u001b[0m\u001b[0mb\u001b[0m\u001b[0;34m)\u001b[0m\u001b[0;34m[\u001b[0m\u001b[0;34m:\u001b[0m\u001b[0mn\u001b[0m\u001b[0;34m]\u001b[0m\u001b[0;34m.\u001b[0m\u001b[0mtobytes\u001b[0m\u001b[0;34m(\u001b[0m\u001b[0;34m)\u001b[0m\u001b[0;34m\u001b[0m\u001b[0;34m\u001b[0m\u001b[0m\n\u001b[1;32m    449\u001b[0m         \u001b[0;32melse\u001b[0m\u001b[0;34m:\u001b[0m\u001b[0;34m\u001b[0m\u001b[0;34m\u001b[0m\u001b[0m\n",
      "\u001b[0;32m~/anaconda3/lib/python3.7/http/client.py\u001b[0m in \u001b[0;36mreadinto\u001b[0;34m(self, b)\u001b[0m\n\u001b[1;32m    479\u001b[0m \u001b[0;34m\u001b[0m\u001b[0m\n\u001b[1;32m    480\u001b[0m         \u001b[0;32mif\u001b[0m \u001b[0mself\u001b[0m\u001b[0;34m.\u001b[0m\u001b[0mchunked\u001b[0m\u001b[0;34m:\u001b[0m\u001b[0;34m\u001b[0m\u001b[0;34m\u001b[0m\u001b[0m\n\u001b[0;32m--> 481\u001b[0;31m             \u001b[0;32mreturn\u001b[0m \u001b[0mself\u001b[0m\u001b[0;34m.\u001b[0m\u001b[0m_readinto_chunked\u001b[0m\u001b[0;34m(\u001b[0m\u001b[0mb\u001b[0m\u001b[0;34m)\u001b[0m\u001b[0;34m\u001b[0m\u001b[0;34m\u001b[0m\u001b[0m\n\u001b[0m\u001b[1;32m    482\u001b[0m \u001b[0;34m\u001b[0m\u001b[0m\n\u001b[1;32m    483\u001b[0m         \u001b[0;32mif\u001b[0m \u001b[0mself\u001b[0m\u001b[0;34m.\u001b[0m\u001b[0mlength\u001b[0m \u001b[0;32mis\u001b[0m \u001b[0;32mnot\u001b[0m \u001b[0;32mNone\u001b[0m\u001b[0;34m:\u001b[0m\u001b[0;34m\u001b[0m\u001b[0;34m\u001b[0m\u001b[0m\n",
      "\u001b[0;32m~/anaconda3/lib/python3.7/http/client.py\u001b[0m in \u001b[0;36m_readinto_chunked\u001b[0;34m(self, b)\u001b[0m\n\u001b[1;32m    574\u001b[0m         \u001b[0;32mtry\u001b[0m\u001b[0;34m:\u001b[0m\u001b[0;34m\u001b[0m\u001b[0;34m\u001b[0m\u001b[0m\n\u001b[1;32m    575\u001b[0m             \u001b[0;32mwhile\u001b[0m \u001b[0;32mTrue\u001b[0m\u001b[0;34m:\u001b[0m\u001b[0;34m\u001b[0m\u001b[0;34m\u001b[0m\u001b[0m\n\u001b[0;32m--> 576\u001b[0;31m                 \u001b[0mchunk_left\u001b[0m \u001b[0;34m=\u001b[0m \u001b[0mself\u001b[0m\u001b[0;34m.\u001b[0m\u001b[0m_get_chunk_left\u001b[0m\u001b[0;34m(\u001b[0m\u001b[0;34m)\u001b[0m\u001b[0;34m\u001b[0m\u001b[0;34m\u001b[0m\u001b[0m\n\u001b[0m\u001b[1;32m    577\u001b[0m                 \u001b[0;32mif\u001b[0m \u001b[0mchunk_left\u001b[0m \u001b[0;32mis\u001b[0m \u001b[0;32mNone\u001b[0m\u001b[0;34m:\u001b[0m\u001b[0;34m\u001b[0m\u001b[0;34m\u001b[0m\u001b[0m\n\u001b[1;32m    578\u001b[0m                     \u001b[0;32mreturn\u001b[0m \u001b[0mtotal_bytes\u001b[0m\u001b[0;34m\u001b[0m\u001b[0;34m\u001b[0m\u001b[0m\n",
      "\u001b[0;32m~/anaconda3/lib/python3.7/http/client.py\u001b[0m in \u001b[0;36m_get_chunk_left\u001b[0;34m(self)\u001b[0m\n\u001b[1;32m    542\u001b[0m                 \u001b[0mself\u001b[0m\u001b[0;34m.\u001b[0m\u001b[0m_safe_read\u001b[0m\u001b[0;34m(\u001b[0m\u001b[0;36m2\u001b[0m\u001b[0;34m)\u001b[0m  \u001b[0;31m# toss the CRLF at the end of the chunk\u001b[0m\u001b[0;34m\u001b[0m\u001b[0;34m\u001b[0m\u001b[0m\n\u001b[1;32m    543\u001b[0m             \u001b[0;32mtry\u001b[0m\u001b[0;34m:\u001b[0m\u001b[0;34m\u001b[0m\u001b[0;34m\u001b[0m\u001b[0m\n\u001b[0;32m--> 544\u001b[0;31m                 \u001b[0mchunk_left\u001b[0m \u001b[0;34m=\u001b[0m \u001b[0mself\u001b[0m\u001b[0;34m.\u001b[0m\u001b[0m_read_next_chunk_size\u001b[0m\u001b[0;34m(\u001b[0m\u001b[0;34m)\u001b[0m\u001b[0;34m\u001b[0m\u001b[0;34m\u001b[0m\u001b[0m\n\u001b[0m\u001b[1;32m    545\u001b[0m             \u001b[0;32mexcept\u001b[0m \u001b[0mValueError\u001b[0m\u001b[0;34m:\u001b[0m\u001b[0;34m\u001b[0m\u001b[0;34m\u001b[0m\u001b[0m\n\u001b[1;32m    546\u001b[0m                 \u001b[0;32mraise\u001b[0m \u001b[0mIncompleteRead\u001b[0m\u001b[0;34m(\u001b[0m\u001b[0;34mb''\u001b[0m\u001b[0;34m)\u001b[0m\u001b[0;34m\u001b[0m\u001b[0;34m\u001b[0m\u001b[0m\n",
      "\u001b[0;32m~/anaconda3/lib/python3.7/http/client.py\u001b[0m in \u001b[0;36m_read_next_chunk_size\u001b[0;34m(self)\u001b[0m\n\u001b[1;32m    502\u001b[0m     \u001b[0;32mdef\u001b[0m \u001b[0m_read_next_chunk_size\u001b[0m\u001b[0;34m(\u001b[0m\u001b[0mself\u001b[0m\u001b[0;34m)\u001b[0m\u001b[0;34m:\u001b[0m\u001b[0;34m\u001b[0m\u001b[0;34m\u001b[0m\u001b[0m\n\u001b[1;32m    503\u001b[0m         \u001b[0;31m# Read the next chunk size from the file\u001b[0m\u001b[0;34m\u001b[0m\u001b[0;34m\u001b[0m\u001b[0;34m\u001b[0m\u001b[0m\n\u001b[0;32m--> 504\u001b[0;31m         \u001b[0mline\u001b[0m \u001b[0;34m=\u001b[0m \u001b[0mself\u001b[0m\u001b[0;34m.\u001b[0m\u001b[0mfp\u001b[0m\u001b[0;34m.\u001b[0m\u001b[0mreadline\u001b[0m\u001b[0;34m(\u001b[0m\u001b[0m_MAXLINE\u001b[0m \u001b[0;34m+\u001b[0m \u001b[0;36m1\u001b[0m\u001b[0;34m)\u001b[0m\u001b[0;34m\u001b[0m\u001b[0;34m\u001b[0m\u001b[0m\n\u001b[0m\u001b[1;32m    505\u001b[0m         \u001b[0;32mif\u001b[0m \u001b[0mlen\u001b[0m\u001b[0;34m(\u001b[0m\u001b[0mline\u001b[0m\u001b[0;34m)\u001b[0m \u001b[0;34m>\u001b[0m \u001b[0m_MAXLINE\u001b[0m\u001b[0;34m:\u001b[0m\u001b[0;34m\u001b[0m\u001b[0;34m\u001b[0m\u001b[0m\n\u001b[1;32m    506\u001b[0m             \u001b[0;32mraise\u001b[0m \u001b[0mLineTooLong\u001b[0m\u001b[0;34m(\u001b[0m\u001b[0;34m\"chunk size\"\u001b[0m\u001b[0;34m)\u001b[0m\u001b[0;34m\u001b[0m\u001b[0;34m\u001b[0m\u001b[0m\n",
      "\u001b[0;32m~/anaconda3/lib/python3.7/socket.py\u001b[0m in \u001b[0;36mreadinto\u001b[0;34m(self, b)\u001b[0m\n\u001b[1;32m    587\u001b[0m         \u001b[0;32mwhile\u001b[0m \u001b[0;32mTrue\u001b[0m\u001b[0;34m:\u001b[0m\u001b[0;34m\u001b[0m\u001b[0;34m\u001b[0m\u001b[0m\n\u001b[1;32m    588\u001b[0m             \u001b[0;32mtry\u001b[0m\u001b[0;34m:\u001b[0m\u001b[0;34m\u001b[0m\u001b[0;34m\u001b[0m\u001b[0m\n\u001b[0;32m--> 589\u001b[0;31m                 \u001b[0;32mreturn\u001b[0m \u001b[0mself\u001b[0m\u001b[0;34m.\u001b[0m\u001b[0m_sock\u001b[0m\u001b[0;34m.\u001b[0m\u001b[0mrecv_into\u001b[0m\u001b[0;34m(\u001b[0m\u001b[0mb\u001b[0m\u001b[0;34m)\u001b[0m\u001b[0;34m\u001b[0m\u001b[0;34m\u001b[0m\u001b[0m\n\u001b[0m\u001b[1;32m    590\u001b[0m             \u001b[0;32mexcept\u001b[0m \u001b[0mtimeout\u001b[0m\u001b[0;34m:\u001b[0m\u001b[0;34m\u001b[0m\u001b[0;34m\u001b[0m\u001b[0m\n\u001b[1;32m    591\u001b[0m                 \u001b[0mself\u001b[0m\u001b[0;34m.\u001b[0m\u001b[0m_timeout_occurred\u001b[0m \u001b[0;34m=\u001b[0m \u001b[0;32mTrue\u001b[0m\u001b[0;34m\u001b[0m\u001b[0;34m\u001b[0m\u001b[0m\n",
      "\u001b[0;32m~/anaconda3/lib/python3.7/site-packages/urllib3/contrib/pyopenssl.py\u001b[0m in \u001b[0;36mrecv_into\u001b[0;34m(self, *args, **kwargs)\u001b[0m\n\u001b[1;32m    304\u001b[0m                 \u001b[0;32mraise\u001b[0m\u001b[0;34m\u001b[0m\u001b[0;34m\u001b[0m\u001b[0m\n\u001b[1;32m    305\u001b[0m         \u001b[0;32mexcept\u001b[0m \u001b[0mOpenSSL\u001b[0m\u001b[0;34m.\u001b[0m\u001b[0mSSL\u001b[0m\u001b[0;34m.\u001b[0m\u001b[0mWantReadError\u001b[0m\u001b[0;34m:\u001b[0m\u001b[0;34m\u001b[0m\u001b[0;34m\u001b[0m\u001b[0m\n\u001b[0;32m--> 306\u001b[0;31m             \u001b[0;32mif\u001b[0m \u001b[0;32mnot\u001b[0m \u001b[0mutil\u001b[0m\u001b[0;34m.\u001b[0m\u001b[0mwait_for_read\u001b[0m\u001b[0;34m(\u001b[0m\u001b[0mself\u001b[0m\u001b[0;34m.\u001b[0m\u001b[0msocket\u001b[0m\u001b[0;34m,\u001b[0m \u001b[0mself\u001b[0m\u001b[0;34m.\u001b[0m\u001b[0msocket\u001b[0m\u001b[0;34m.\u001b[0m\u001b[0mgettimeout\u001b[0m\u001b[0;34m(\u001b[0m\u001b[0;34m)\u001b[0m\u001b[0;34m)\u001b[0m\u001b[0;34m:\u001b[0m\u001b[0;34m\u001b[0m\u001b[0;34m\u001b[0m\u001b[0m\n\u001b[0m\u001b[1;32m    307\u001b[0m                 \u001b[0;32mraise\u001b[0m \u001b[0mtimeout\u001b[0m\u001b[0;34m(\u001b[0m\u001b[0;34m'The read operation timed out'\u001b[0m\u001b[0;34m)\u001b[0m\u001b[0;34m\u001b[0m\u001b[0;34m\u001b[0m\u001b[0m\n\u001b[1;32m    308\u001b[0m             \u001b[0;32melse\u001b[0m\u001b[0;34m:\u001b[0m\u001b[0;34m\u001b[0m\u001b[0;34m\u001b[0m\u001b[0m\n",
      "\u001b[0;32m~/anaconda3/lib/python3.7/site-packages/urllib3/util/wait.py\u001b[0m in \u001b[0;36mwait_for_read\u001b[0;34m(sock, timeout)\u001b[0m\n\u001b[1;32m    141\u001b[0m     \u001b[0mReturns\u001b[0m \u001b[0;32mTrue\u001b[0m \u001b[0;32mif\u001b[0m \u001b[0mthe\u001b[0m \u001b[0msocket\u001b[0m \u001b[0;32mis\u001b[0m \u001b[0mreadable\u001b[0m\u001b[0;34m,\u001b[0m \u001b[0;32mor\u001b[0m \u001b[0;32mFalse\u001b[0m \u001b[0;32mif\u001b[0m \u001b[0mthe\u001b[0m \u001b[0mtimeout\u001b[0m \u001b[0mexpired\u001b[0m\u001b[0;34m.\u001b[0m\u001b[0;34m\u001b[0m\u001b[0;34m\u001b[0m\u001b[0m\n\u001b[1;32m    142\u001b[0m     \"\"\"\n\u001b[0;32m--> 143\u001b[0;31m     \u001b[0;32mreturn\u001b[0m \u001b[0mwait_for_socket\u001b[0m\u001b[0;34m(\u001b[0m\u001b[0msock\u001b[0m\u001b[0;34m,\u001b[0m \u001b[0mread\u001b[0m\u001b[0;34m=\u001b[0m\u001b[0;32mTrue\u001b[0m\u001b[0;34m,\u001b[0m \u001b[0mtimeout\u001b[0m\u001b[0;34m=\u001b[0m\u001b[0mtimeout\u001b[0m\u001b[0;34m)\u001b[0m\u001b[0;34m\u001b[0m\u001b[0;34m\u001b[0m\u001b[0m\n\u001b[0m\u001b[1;32m    144\u001b[0m \u001b[0;34m\u001b[0m\u001b[0m\n\u001b[1;32m    145\u001b[0m \u001b[0;34m\u001b[0m\u001b[0m\n",
      "\u001b[0;32m~/anaconda3/lib/python3.7/site-packages/urllib3/util/wait.py\u001b[0m in \u001b[0;36mpoll_wait_for_socket\u001b[0;34m(sock, read, write, timeout)\u001b[0m\n\u001b[1;32m    102\u001b[0m         \u001b[0;32mreturn\u001b[0m \u001b[0mpoll_obj\u001b[0m\u001b[0;34m.\u001b[0m\u001b[0mpoll\u001b[0m\u001b[0;34m(\u001b[0m\u001b[0mt\u001b[0m\u001b[0;34m)\u001b[0m\u001b[0;34m\u001b[0m\u001b[0;34m\u001b[0m\u001b[0m\n\u001b[1;32m    103\u001b[0m \u001b[0;34m\u001b[0m\u001b[0m\n\u001b[0;32m--> 104\u001b[0;31m     \u001b[0;32mreturn\u001b[0m \u001b[0mbool\u001b[0m\u001b[0;34m(\u001b[0m\u001b[0m_retry_on_intr\u001b[0m\u001b[0;34m(\u001b[0m\u001b[0mdo_poll\u001b[0m\u001b[0;34m,\u001b[0m \u001b[0mtimeout\u001b[0m\u001b[0;34m)\u001b[0m\u001b[0;34m)\u001b[0m\u001b[0;34m\u001b[0m\u001b[0;34m\u001b[0m\u001b[0m\n\u001b[0m\u001b[1;32m    105\u001b[0m \u001b[0;34m\u001b[0m\u001b[0m\n\u001b[1;32m    106\u001b[0m \u001b[0;34m\u001b[0m\u001b[0m\n",
      "\u001b[0;32m~/anaconda3/lib/python3.7/site-packages/urllib3/util/wait.py\u001b[0m in \u001b[0;36m_retry_on_intr\u001b[0;34m(fn, timeout)\u001b[0m\n\u001b[1;32m     40\u001b[0m     \u001b[0;31m# Modern Python, that retries syscalls by default\u001b[0m\u001b[0;34m\u001b[0m\u001b[0;34m\u001b[0m\u001b[0;34m\u001b[0m\u001b[0m\n\u001b[1;32m     41\u001b[0m     \u001b[0;32mdef\u001b[0m \u001b[0m_retry_on_intr\u001b[0m\u001b[0;34m(\u001b[0m\u001b[0mfn\u001b[0m\u001b[0;34m,\u001b[0m \u001b[0mtimeout\u001b[0m\u001b[0;34m)\u001b[0m\u001b[0;34m:\u001b[0m\u001b[0;34m\u001b[0m\u001b[0;34m\u001b[0m\u001b[0m\n\u001b[0;32m---> 42\u001b[0;31m         \u001b[0;32mreturn\u001b[0m \u001b[0mfn\u001b[0m\u001b[0;34m(\u001b[0m\u001b[0mtimeout\u001b[0m\u001b[0;34m)\u001b[0m\u001b[0;34m\u001b[0m\u001b[0;34m\u001b[0m\u001b[0m\n\u001b[0m\u001b[1;32m     43\u001b[0m \u001b[0;32melse\u001b[0m\u001b[0;34m:\u001b[0m\u001b[0;34m\u001b[0m\u001b[0;34m\u001b[0m\u001b[0m\n\u001b[1;32m     44\u001b[0m     \u001b[0;31m# Old and broken Pythons.\u001b[0m\u001b[0;34m\u001b[0m\u001b[0;34m\u001b[0m\u001b[0;34m\u001b[0m\u001b[0m\n",
      "\u001b[0;32m~/anaconda3/lib/python3.7/site-packages/urllib3/util/wait.py\u001b[0m in \u001b[0;36mdo_poll\u001b[0;34m(t)\u001b[0m\n\u001b[1;32m    100\u001b[0m         \u001b[0;32mif\u001b[0m \u001b[0mt\u001b[0m \u001b[0;32mis\u001b[0m \u001b[0;32mnot\u001b[0m \u001b[0;32mNone\u001b[0m\u001b[0;34m:\u001b[0m\u001b[0;34m\u001b[0m\u001b[0;34m\u001b[0m\u001b[0m\n\u001b[1;32m    101\u001b[0m             \u001b[0mt\u001b[0m \u001b[0;34m*=\u001b[0m \u001b[0;36m1000\u001b[0m\u001b[0;34m\u001b[0m\u001b[0;34m\u001b[0m\u001b[0m\n\u001b[0;32m--> 102\u001b[0;31m         \u001b[0;32mreturn\u001b[0m \u001b[0mpoll_obj\u001b[0m\u001b[0;34m.\u001b[0m\u001b[0mpoll\u001b[0m\u001b[0;34m(\u001b[0m\u001b[0mt\u001b[0m\u001b[0;34m)\u001b[0m\u001b[0;34m\u001b[0m\u001b[0;34m\u001b[0m\u001b[0m\n\u001b[0m\u001b[1;32m    103\u001b[0m \u001b[0;34m\u001b[0m\u001b[0m\n\u001b[1;32m    104\u001b[0m     \u001b[0;32mreturn\u001b[0m \u001b[0mbool\u001b[0m\u001b[0;34m(\u001b[0m\u001b[0m_retry_on_intr\u001b[0m\u001b[0;34m(\u001b[0m\u001b[0mdo_poll\u001b[0m\u001b[0;34m,\u001b[0m \u001b[0mtimeout\u001b[0m\u001b[0;34m)\u001b[0m\u001b[0;34m)\u001b[0m\u001b[0;34m\u001b[0m\u001b[0;34m\u001b[0m\u001b[0m\n",
      "\u001b[0;31mKeyboardInterrupt\u001b[0m: "
     ]
    }
   ],
   "source": [
    "stream.filter(track=[query])"
   ]
  },
  {
   "cell_type": "markdown",
   "metadata": {},
   "source": [
    "# User information"
   ]
  },
  {
   "cell_type": "markdown",
   "metadata": {},
   "source": [
    "### Profile"
   ]
  },
  {
   "cell_type": "markdown",
   "metadata": {},
   "source": [
    "Profile information is just a API call away"
   ]
  },
  {
   "cell_type": "code",
   "execution_count": 29,
   "metadata": {},
   "outputs": [],
   "source": [
    "screen_name = 'neiltyson'"
   ]
  },
  {
   "cell_type": "code",
   "execution_count": 24,
   "metadata": {},
   "outputs": [],
   "source": [
    "user = twitter_api.get_user(screen_name=screen_name)"
   ]
  },
  {
   "cell_type": "code",
   "execution_count": 25,
   "metadata": {},
   "outputs": [
    {
     "name": "stdout",
     "output_type": "stream",
     "text": [
      "neiltyson has 13446342 followers and follows 39 other users\n"
     ]
    }
   ],
   "source": [
    "print(user.screen_name, \"has\", user.followers_count, \"followers and follows\", user.friends_count, \"other users\")"
   ]
  },
  {
   "cell_type": "markdown",
   "metadata": {},
   "source": [
    "### Friends"
   ]
  },
  {
   "cell_type": "markdown",
   "metadata": {},
   "source": [
    "Requesting information on a users friends is also simple"
   ]
  },
  {
   "cell_type": "code",
   "execution_count": 30,
   "metadata": {},
   "outputs": [],
   "source": [
    "friends = twitter_api.friends(screen_name=screen_name, count=200)"
   ]
  },
  {
   "cell_type": "markdown",
   "metadata": {},
   "source": [
    "And we can see that we retrieved all the friends"
   ]
  },
  {
   "cell_type": "code",
   "execution_count": 31,
   "metadata": {},
   "outputs": [
    {
     "data": {
      "text/plain": [
       "39"
      ]
     },
     "execution_count": 31,
     "metadata": {},
     "output_type": "execute_result"
    }
   ],
   "source": [
    "len(friends)"
   ]
  },
  {
   "cell_type": "markdown",
   "metadata": {},
   "source": [
    "And their screen names are:"
   ]
  },
  {
   "cell_type": "code",
   "execution_count": 32,
   "metadata": {},
   "outputs": [
    {
     "name": "stdout",
     "output_type": "stream",
     "text": [
      "0 PlayingwScience\n",
      "1 peeweeherman\n",
      "2 StarTalkRadio\n",
      "3 DefenseIntel\n",
      "4 DeptofDefense\n",
      "5 USNavy\n",
      "6 DARPA\n",
      "7 republicofmath\n",
      "8 Snowden\n",
      "9 TheTweetOfGod\n",
      "10 levarburton\n",
      "11 BrannonBraga\n",
      "12 GirlsAreGeeks\n",
      "13 bug_gwen\n",
      "14 billmaher\n",
      "15 JimGaffigan\n",
      "16 SarahKSilverman\n",
      "17 WhoopiGoldberg\n",
      "18 Burghound\n",
      "19 algore\n",
      "20 rickygervais\n",
      "21 Pogue\n",
      "22 SamHarrisOrg\n",
      "23 chucknicecomic\n",
      "24 JohnAllenPaulos\n",
      "25 sciencecomedian\n",
      "26 SethMacFarlane\n",
      "27 JRichardGott\n",
      "28 michaelshermer\n",
      "29 ProfBrianCox\n",
      "30 pzmyers\n",
      "31 milesobrien\n",
      "32 kevinmitnick\n",
      "33 billprady\n",
      "34 RichardDawkins\n",
      "35 StephenAtHome\n",
      "36 BillNye\n",
      "37 BadAstronomer\n",
      "38 elakdawalla\n"
     ]
    }
   ],
   "source": [
    "for i, friend in enumerate(friends):\n",
    "    print(i, friend.screen_name)"
   ]
  },
  {
   "cell_type": "markdown",
   "metadata": {},
   "source": [
    "### Followers"
   ]
  },
  {
   "cell_type": "markdown",
   "metadata": {},
   "source": [
    "Since we already saw that the number of followers is significantly larger, we use a **Cursor** to seamlessly paginate through all the results. For expediency, here we only request the first 100 results."
   ]
  },
  {
   "cell_type": "code",
   "execution_count": 33,
   "metadata": {},
   "outputs": [
    {
     "name": "stdout",
     "output_type": "stream",
     "text": [
      "0 mia_liv_lloyd\n",
      "1 GeraldKutney\n",
      "2 a62460415\n",
      "3 AndreiRdulescu1\n",
      "4 jennydiem\n",
      "5 leonidasfourlis\n",
      "6 Karl28301338\n",
      "7 Ah78705537\n",
      "8 minnesotaah\n",
      "9 ColinHamsher\n",
      "10 jediknightbren\n",
      "11 AlvinAra5\n",
      "12 pedurietz\n",
      "13 shamit0\n",
      "14 JezzBrown3\n",
      "15 marklaaron\n",
      "16 7_egal\n",
      "17 XennialRevolut1\n",
      "18 ___hades_\n",
      "19 experts_editing\n",
      "20 thesssguy\n",
      "21 GogoiAnubhov\n",
      "22 LouisMougoue\n",
      "23 sew5726\n",
      "24 FormigaLarrossa\n",
      "25 VanTayl20559739\n",
      "26 mikesamcali\n",
      "27 studyinIndia6\n",
      "28 sahas_bhatia\n",
      "29 DjBlessGh4\n",
      "30 Mienie_jaco\n",
      "31 TFG57983868\n",
      "32 Agathiyan_R\n",
      "33 SpataroSofia\n",
      "34 XaferZaki\n",
      "35 Murda_B76\n",
      "36 TotoWipeout\n",
      "37 Raahul01415208\n",
      "38 ChristianBabi11\n",
      "39 akaki454\n",
      "40 NeoTristan3\n",
      "41 sizzlenewy\n",
      "42 Caliber9icloud1\n",
      "43 maguazzer\n",
      "44 Companion_dev\n",
      "45 StacyPa61356962\n",
      "46 ypqLoDSz2ryLU1v\n",
      "47 uclmaps\n",
      "48 cammmmeee\n",
      "49 Sealove54631190\n",
      "50 Draeh17\n",
      "51 ml3584\n",
      "52 Yvette9754\n",
      "53 19kasra97\n",
      "54 Pratik9k\n",
      "55 ChaunceyJared\n",
      "56 ErinlynneK\n",
      "57 Michael39484540\n",
      "58 VictorWWPK\n",
      "59 AdelinaLipsa\n",
      "60 chris_costner\n",
      "61 krssly\n",
      "62 Jonathan_Land\n",
      "63 Jess71856117\n",
      "64 hfmpinto\n",
      "65 Mries13\n",
      "66 OussamaRimouche\n",
      "67 RemoanerR\n",
      "68 zphkl_komadori\n",
      "69 Cazza54269537\n",
      "70 gotomhamid\n",
      "71 JasonHe72333902\n",
      "72 JakeBristow99\n",
      "73 ClarkCh96160381\n",
      "74 jackee_pee\n",
      "75 GergoOrha\n",
      "76 TilvaAnand\n",
      "77 artworkanonymo1\n",
      "78 BerglindLukas\n",
      "79 moptop996611\n",
      "80 BrinkeyMina\n",
      "81 LostSignalBeam\n",
      "82 SaiSund52154354\n",
      "83 tijani_jibril\n",
      "84 RLetschka\n",
      "85 SchweigerGinny\n",
      "86 energyproltd\n",
      "87 the_man_gerald\n",
      "88 Gabuzhu\n",
      "89 mcalister_alex\n",
      "90 AdamSheldon16\n",
      "91 MELGARLANGUIDE3\n",
      "92 smita24636340\n",
      "93 Sharada_naik\n",
      "94 aperez423\n",
      "95 Wh1teDanny\n",
      "96 Jay_kitewheel\n",
      "97 oranshabatcohen\n",
      "98 MasterInJamBenM\n",
      "99 klanovoi\n"
     ]
    }
   ],
   "source": [
    "for i, follower in enumerate(tweepy.Cursor(twitter_api.followers, screen_name=screen_name).items(100)):\n",
    "    print(i, follower.screen_name)"
   ]
  },
  {
   "cell_type": "markdown",
   "metadata": {},
   "source": [
    "### User timeline"
   ]
  },
  {
   "cell_type": "markdown",
   "metadata": {},
   "source": [
    "The *user_timeline* method returns the tweets of a given user. As before, we can use a Cursor to iterate over all teh tweets, but do keep in mind that Twitter limits our access to only the 3200 most recent tweets"
   ]
  },
  {
   "cell_type": "code",
   "execution_count": 34,
   "metadata": {},
   "outputs": [
    {
     "name": "stdout",
     "output_type": "stream",
     "text": [
      "Found 3220 tweets\n"
     ]
    }
   ],
   "source": [
    "screen_name = \"BarackObama\"\n",
    "\n",
    "tweets = []\n",
    "\n",
    "for status in tweepy.Cursor(twitter_api.user_timeline, screen_name=screen_name).items():\n",
    "    tweets.append(status.text)\n",
    "\n",
    "print(\"Found\", len(tweets), \"tweets\")"
   ]
  },
  {
   "cell_type": "markdown",
   "metadata": {},
   "source": [
    "# Social Interactions"
   ]
  },
  {
   "cell_type": "markdown",
   "metadata": {},
   "source": [
    "By following the timeline of the a user, we can see who s/he interacts with to generate a social interaction graph. We define the edge direction to be the direction of information flow, so: \n",
    "   - **retweet** - information flows from the author of the original tweet to the retweeter\n",
    "   - **mention** - information flows from the author of the tweet to the one being mentioned"
   ]
  },
  {
   "cell_type": "code",
   "execution_count": 35,
   "metadata": {},
   "outputs": [
    {
     "name": "stdout",
     "output_type": "stream",
     "text": [
      "BarackObama -> BarackObama\n",
      "ObamaFoundation -> BarackObama\n",
      "BarackObama -> BarackObama\n",
      "MichelleObama -> BarackObama\n",
      "MichelleObama -> BarackObama\n",
      "BarackObama -> BarackObama\n",
      "ObamaFoundation -> BarackObama\n",
      "ObamaFoundation -> BarackObama\n",
      "ObamaFoundation -> BarackObama\n",
      "MichelleObama -> BarackObama\n",
      "BarackObama -> BarackObama\n",
      "BarackObama -> BarackObama\n",
      "BarackObama -> BarackObama\n",
      "BarackObama -> BarackObama\n",
      "BarackObama -> BarackObama\n",
      "BarackObama -> BarackObama\n",
      "BarackObama -> BarackObama\n",
      "BarackObama -> BarackObama\n",
      "BarackObama -> BarackObama\n",
      "ObamaFoundation -> BarackObama\n",
      "MichelleObama -> BarackObama\n",
      "MBK_Alliance -> BarackObama\n",
      "BarackObama -> BarackObama\n",
      "BarackObama -> BarackObama\n",
      "BarackObama -> BarackObama\n",
      "BarackObama -> BarackObama\n",
      "BarackObama -> BarackObama\n",
      "ObamaFoundation -> BarackObama\n",
      "GetUSCovered -> BarackObama\n",
      "ObamaFoundation -> BarackObama\n",
      "BarackObama -> BarackObama\n",
      "BarackObama -> BarackObama\n",
      "BarackObama -> BarackObama\n",
      "BarackObama -> BarackObama\n",
      "BarackObama -> BarackObama\n",
      "nowthisnews -> BarackObama\n",
      "BarackObama -> BarackObama\n",
      "MichelleObama -> BarackObama\n",
      "MichelleObama -> BarackObama\n",
      "ObamaFoundation -> BarackObama\n",
      "ObamaFoundation -> BarackObama\n",
      "MichelleObama -> BarackObama\n",
      "BarackObama -> BarackObama\n",
      "BarackObama -> BarackObama\n",
      "BarackObama -> BarackObama\n",
      "BarackObama -> BarackObama\n"
     ]
    }
   ],
   "source": [
    "for status in tweepy.Cursor(twitter_api.user_timeline, screen_name=screen_name).items(200):\n",
    "    if hasattr(status, 'retweeted_status'):\n",
    "        print(status.retweeted_status.author.screen_name, '->', screen_name)\n",
    "    elif status.in_reply_to_screen_name is not None:\n",
    "        print(screen_name, '->', status.in_reply_to_screen_name)"
   ]
  },
  {
   "cell_type": "markdown",
   "metadata": {},
   "source": [
    "For convenience, here we chose to just list out all the edges in the order in which they appear. This information could naturally have been used to define a *NetworkX* graph for further analysis."
   ]
  },
  {
   "cell_type": "markdown",
   "metadata": {},
   "source": [
    "# Geolocated data"
   ]
  },
  {
   "cell_type": "markdown",
   "metadata": {},
   "source": [
    "Here we demonstrate how to search for tweets containing geolocation information. We also take the opportunity to illustrate a more sophisticated StreamListener implementation"
   ]
  },
  {
   "cell_type": "code",
   "execution_count": 40,
   "metadata": {},
   "outputs": [],
   "source": [
    "class FileOutListener(tweepy.StreamListener):\n",
    "    def __init__(self, fp = None):\n",
    "        super().__init__()\n",
    "        self.tweet_count = 0\n",
    "        if fp is not None:\n",
    "            self.fp = fp\n",
    "        else:\n",
    "            self.fp = open(\"tweets.json\", \"wt\")\n",
    "\n",
    "    def on_data(self, data):\n",
    "        # Using on_data (instead of on_status) Tweets are return as json strings. \n",
    "        # We can parse them to extract the information we require\n",
    "        status = json.loads(data)\n",
    "\n",
    "        self.tweet_count += 1\n",
    "        print (self.tweet_count, status[\"id\"])\n",
    "        print(data.strip(), file=self.fp)\n",
    "        return True\n",
    "\n",
    "    def on_error(self, status):\n",
    "        print(status)\n",
    "    \n",
    "    def on_timeout(self):\n",
    "        print('Timeout...', file=sys.stderr)\n",
    "        return True"
   ]
  },
  {
   "cell_type": "markdown",
   "metadata": {},
   "source": [
    "Our bounding box will be NYC"
   ]
  },
  {
   "cell_type": "code",
   "execution_count": 41,
   "metadata": {},
   "outputs": [],
   "source": [
    "bb = [-74,40,-73,41]  # NYC"
   ]
  },
  {
   "cell_type": "markdown",
   "metadata": {},
   "source": [
    "And we will save the raw json from the tweets we obtain in a text file"
   ]
  },
  {
   "cell_type": "code",
   "execution_count": 42,
   "metadata": {},
   "outputs": [
    {
     "name": "stdout",
     "output_type": "stream",
     "text": [
      "1 1169565200242106373\n",
      "2 1169565201986985984\n",
      "3 1169565202788077569\n",
      "4 1169565203660492800\n",
      "5 1169565217833050112\n",
      "6 1169565220869722112\n",
      "7 1169565232563441664\n",
      "8 1169565238305460224\n",
      "9 1169565254126362624\n",
      "10 1169565256139624448\n",
      "11 1169565257964150784\n",
      "12 1169565264003903488\n",
      "13 1169565268223373313\n",
      "14 1169565271251664896\n",
      "15 1169565278084173825\n",
      "16 1169565286187569152\n",
      "17 1169565302365065216\n",
      "18 1169565356777713664\n",
      "19 1169565357910253570\n",
      "20 1169565361001381889\n",
      "21 1169565387110981632\n",
      "22 1169565394576781312\n",
      "23 1169565399635111938\n",
      "24 1169565404416622592\n",
      "25 1169565423366529025\n",
      "26 1169565438000476160\n",
      "27 1169565441397796864\n",
      "28 1169565441448038400\n",
      "29 1169565457382330368\n",
      "30 1169565466009985024\n",
      "31 1169565473735921664\n",
      "32 1169565491045838849\n",
      "33 1169565494157987840\n",
      "34 1169565494598389760\n",
      "35 1169565498083872774\n",
      "36 1169565499199541249\n",
      "37 1169565498411036673\n",
      "38 1169565506464079872\n",
      "39 1169565507768508416\n",
      "40 1169565514840064000\n",
      "41 1169565519109873665\n",
      "42 1169565538361720832\n",
      "43 1169565541603917825\n",
      "44 1169565558263746561\n",
      "45 1169565588034936832\n",
      "46 1169565589687492608\n"
     ]
    },
    {
     "ename": "KeyboardInterrupt",
     "evalue": "",
     "output_type": "error",
     "traceback": [
      "\u001b[0;31m---------------------------------------------------------------------------\u001b[0m",
      "\u001b[0;31mWantReadError\u001b[0m                             Traceback (most recent call last)",
      "\u001b[0;32m~/anaconda3/lib/python3.7/site-packages/urllib3/contrib/pyopenssl.py\u001b[0m in \u001b[0;36mrecv_into\u001b[0;34m(self, *args, **kwargs)\u001b[0m\n\u001b[1;32m    293\u001b[0m         \u001b[0;32mtry\u001b[0m\u001b[0;34m:\u001b[0m\u001b[0;34m\u001b[0m\u001b[0;34m\u001b[0m\u001b[0m\n\u001b[0;32m--> 294\u001b[0;31m             \u001b[0;32mreturn\u001b[0m \u001b[0mself\u001b[0m\u001b[0;34m.\u001b[0m\u001b[0mconnection\u001b[0m\u001b[0;34m.\u001b[0m\u001b[0mrecv_into\u001b[0m\u001b[0;34m(\u001b[0m\u001b[0;34m*\u001b[0m\u001b[0margs\u001b[0m\u001b[0;34m,\u001b[0m \u001b[0;34m**\u001b[0m\u001b[0mkwargs\u001b[0m\u001b[0;34m)\u001b[0m\u001b[0;34m\u001b[0m\u001b[0;34m\u001b[0m\u001b[0m\n\u001b[0m\u001b[1;32m    295\u001b[0m         \u001b[0;32mexcept\u001b[0m \u001b[0mOpenSSL\u001b[0m\u001b[0;34m.\u001b[0m\u001b[0mSSL\u001b[0m\u001b[0;34m.\u001b[0m\u001b[0mSysCallError\u001b[0m \u001b[0;32mas\u001b[0m \u001b[0me\u001b[0m\u001b[0;34m:\u001b[0m\u001b[0;34m\u001b[0m\u001b[0;34m\u001b[0m\u001b[0m\n",
      "\u001b[0;32m~/anaconda3/lib/python3.7/site-packages/OpenSSL/SSL.py\u001b[0m in \u001b[0;36mrecv_into\u001b[0;34m(self, buffer, nbytes, flags)\u001b[0m\n\u001b[1;32m   1821\u001b[0m             \u001b[0mresult\u001b[0m \u001b[0;34m=\u001b[0m \u001b[0m_lib\u001b[0m\u001b[0;34m.\u001b[0m\u001b[0mSSL_read\u001b[0m\u001b[0;34m(\u001b[0m\u001b[0mself\u001b[0m\u001b[0;34m.\u001b[0m\u001b[0m_ssl\u001b[0m\u001b[0;34m,\u001b[0m \u001b[0mbuf\u001b[0m\u001b[0;34m,\u001b[0m \u001b[0mnbytes\u001b[0m\u001b[0;34m)\u001b[0m\u001b[0;34m\u001b[0m\u001b[0;34m\u001b[0m\u001b[0m\n\u001b[0;32m-> 1822\u001b[0;31m         \u001b[0mself\u001b[0m\u001b[0;34m.\u001b[0m\u001b[0m_raise_ssl_error\u001b[0m\u001b[0;34m(\u001b[0m\u001b[0mself\u001b[0m\u001b[0;34m.\u001b[0m\u001b[0m_ssl\u001b[0m\u001b[0;34m,\u001b[0m \u001b[0mresult\u001b[0m\u001b[0;34m)\u001b[0m\u001b[0;34m\u001b[0m\u001b[0;34m\u001b[0m\u001b[0m\n\u001b[0m\u001b[1;32m   1823\u001b[0m \u001b[0;34m\u001b[0m\u001b[0m\n",
      "\u001b[0;32m~/anaconda3/lib/python3.7/site-packages/OpenSSL/SSL.py\u001b[0m in \u001b[0;36m_raise_ssl_error\u001b[0;34m(self, ssl, result)\u001b[0m\n\u001b[1;32m   1621\u001b[0m         \u001b[0;32mif\u001b[0m \u001b[0merror\u001b[0m \u001b[0;34m==\u001b[0m \u001b[0m_lib\u001b[0m\u001b[0;34m.\u001b[0m\u001b[0mSSL_ERROR_WANT_READ\u001b[0m\u001b[0;34m:\u001b[0m\u001b[0;34m\u001b[0m\u001b[0;34m\u001b[0m\u001b[0m\n\u001b[0;32m-> 1622\u001b[0;31m             \u001b[0;32mraise\u001b[0m \u001b[0mWantReadError\u001b[0m\u001b[0;34m(\u001b[0m\u001b[0;34m)\u001b[0m\u001b[0;34m\u001b[0m\u001b[0;34m\u001b[0m\u001b[0m\n\u001b[0m\u001b[1;32m   1623\u001b[0m         \u001b[0;32melif\u001b[0m \u001b[0merror\u001b[0m \u001b[0;34m==\u001b[0m \u001b[0m_lib\u001b[0m\u001b[0;34m.\u001b[0m\u001b[0mSSL_ERROR_WANT_WRITE\u001b[0m\u001b[0;34m:\u001b[0m\u001b[0;34m\u001b[0m\u001b[0;34m\u001b[0m\u001b[0m\n",
      "\u001b[0;31mWantReadError\u001b[0m: ",
      "\nDuring handling of the above exception, another exception occurred:\n",
      "\u001b[0;31mKeyboardInterrupt\u001b[0m                         Traceback (most recent call last)",
      "\u001b[0;32m<ipython-input-42-0af3c4725815>\u001b[0m in \u001b[0;36m<module>\u001b[0;34m()\u001b[0m\n\u001b[1;32m      3\u001b[0m \u001b[0;34m\u001b[0m\u001b[0m\n\u001b[1;32m      4\u001b[0m     \u001b[0mstream\u001b[0m \u001b[0;34m=\u001b[0m \u001b[0mtweepy\u001b[0m\u001b[0;34m.\u001b[0m\u001b[0mStream\u001b[0m\u001b[0;34m(\u001b[0m\u001b[0mauth\u001b[0m\u001b[0;34m,\u001b[0m \u001b[0mlistener\u001b[0m\u001b[0;34m)\u001b[0m\u001b[0;34m\u001b[0m\u001b[0;34m\u001b[0m\u001b[0m\n\u001b[0;32m----> 5\u001b[0;31m     \u001b[0mstream\u001b[0m\u001b[0;34m.\u001b[0m\u001b[0mfilter\u001b[0m\u001b[0;34m(\u001b[0m\u001b[0mlocations\u001b[0m\u001b[0;34m=\u001b[0m\u001b[0mbb\u001b[0m\u001b[0;34m)\u001b[0m\u001b[0;34m\u001b[0m\u001b[0;34m\u001b[0m\u001b[0m\n\u001b[0m",
      "\u001b[0;32m~/anaconda3/lib/python3.7/site-packages/tweepy/streaming.py\u001b[0m in \u001b[0;36mfilter\u001b[0;34m(self, follow, track, is_async, locations, stall_warnings, languages, encoding, filter_level)\u001b[0m\n\u001b[1;32m    472\u001b[0m             \u001b[0mself\u001b[0m\u001b[0;34m.\u001b[0m\u001b[0mbody\u001b[0m\u001b[0;34m[\u001b[0m\u001b[0;34m'filter_level'\u001b[0m\u001b[0;34m]\u001b[0m \u001b[0;34m=\u001b[0m \u001b[0mfilter_level\u001b[0m\u001b[0;34m.\u001b[0m\u001b[0mencode\u001b[0m\u001b[0;34m(\u001b[0m\u001b[0mencoding\u001b[0m\u001b[0;34m)\u001b[0m\u001b[0;34m\u001b[0m\u001b[0;34m\u001b[0m\u001b[0m\n\u001b[1;32m    473\u001b[0m         \u001b[0mself\u001b[0m\u001b[0;34m.\u001b[0m\u001b[0msession\u001b[0m\u001b[0;34m.\u001b[0m\u001b[0mparams\u001b[0m \u001b[0;34m=\u001b[0m \u001b[0;34m{\u001b[0m\u001b[0;34m'delimited'\u001b[0m\u001b[0;34m:\u001b[0m \u001b[0;34m'length'\u001b[0m\u001b[0;34m}\u001b[0m\u001b[0;34m\u001b[0m\u001b[0;34m\u001b[0m\u001b[0m\n\u001b[0;32m--> 474\u001b[0;31m         \u001b[0mself\u001b[0m\u001b[0;34m.\u001b[0m\u001b[0m_start\u001b[0m\u001b[0;34m(\u001b[0m\u001b[0mis_async\u001b[0m\u001b[0;34m)\u001b[0m\u001b[0;34m\u001b[0m\u001b[0;34m\u001b[0m\u001b[0m\n\u001b[0m\u001b[1;32m    475\u001b[0m \u001b[0;34m\u001b[0m\u001b[0m\n\u001b[1;32m    476\u001b[0m     def sitestream(self, follow, stall_warnings=False,\n",
      "\u001b[0;32m~/anaconda3/lib/python3.7/site-packages/tweepy/streaming.py\u001b[0m in \u001b[0;36m_start\u001b[0;34m(self, is_async)\u001b[0m\n\u001b[1;32m    387\u001b[0m             \u001b[0mself\u001b[0m\u001b[0;34m.\u001b[0m\u001b[0m_thread\u001b[0m\u001b[0;34m.\u001b[0m\u001b[0mstart\u001b[0m\u001b[0;34m(\u001b[0m\u001b[0;34m)\u001b[0m\u001b[0;34m\u001b[0m\u001b[0;34m\u001b[0m\u001b[0m\n\u001b[1;32m    388\u001b[0m         \u001b[0;32melse\u001b[0m\u001b[0;34m:\u001b[0m\u001b[0;34m\u001b[0m\u001b[0;34m\u001b[0m\u001b[0m\n\u001b[0;32m--> 389\u001b[0;31m             \u001b[0mself\u001b[0m\u001b[0;34m.\u001b[0m\u001b[0m_run\u001b[0m\u001b[0;34m(\u001b[0m\u001b[0;34m)\u001b[0m\u001b[0;34m\u001b[0m\u001b[0;34m\u001b[0m\u001b[0m\n\u001b[0m\u001b[1;32m    390\u001b[0m \u001b[0;34m\u001b[0m\u001b[0m\n\u001b[1;32m    391\u001b[0m     \u001b[0;32mdef\u001b[0m \u001b[0mon_closed\u001b[0m\u001b[0;34m(\u001b[0m\u001b[0mself\u001b[0m\u001b[0;34m,\u001b[0m \u001b[0mresp\u001b[0m\u001b[0;34m)\u001b[0m\u001b[0;34m:\u001b[0m\u001b[0;34m\u001b[0m\u001b[0;34m\u001b[0m\u001b[0m\n",
      "\u001b[0;32m~/anaconda3/lib/python3.7/site-packages/tweepy/streaming.py\u001b[0m in \u001b[0;36m_run\u001b[0;34m(self)\u001b[0m\n\u001b[1;32m    287\u001b[0m                     \u001b[0mself\u001b[0m\u001b[0;34m.\u001b[0m\u001b[0msnooze_time\u001b[0m \u001b[0;34m=\u001b[0m \u001b[0mself\u001b[0m\u001b[0;34m.\u001b[0m\u001b[0msnooze_time_step\u001b[0m\u001b[0;34m\u001b[0m\u001b[0;34m\u001b[0m\u001b[0m\n\u001b[1;32m    288\u001b[0m                     \u001b[0mself\u001b[0m\u001b[0;34m.\u001b[0m\u001b[0mlistener\u001b[0m\u001b[0;34m.\u001b[0m\u001b[0mon_connect\u001b[0m\u001b[0;34m(\u001b[0m\u001b[0;34m)\u001b[0m\u001b[0;34m\u001b[0m\u001b[0;34m\u001b[0m\u001b[0m\n\u001b[0;32m--> 289\u001b[0;31m                     \u001b[0mself\u001b[0m\u001b[0;34m.\u001b[0m\u001b[0m_read_loop\u001b[0m\u001b[0;34m(\u001b[0m\u001b[0mresp\u001b[0m\u001b[0;34m)\u001b[0m\u001b[0;34m\u001b[0m\u001b[0;34m\u001b[0m\u001b[0m\n\u001b[0m\u001b[1;32m    290\u001b[0m             \u001b[0;32mexcept\u001b[0m \u001b[0;34m(\u001b[0m\u001b[0mTimeout\u001b[0m\u001b[0;34m,\u001b[0m \u001b[0mssl\u001b[0m\u001b[0;34m.\u001b[0m\u001b[0mSSLError\u001b[0m\u001b[0;34m)\u001b[0m \u001b[0;32mas\u001b[0m \u001b[0mexc\u001b[0m\u001b[0;34m:\u001b[0m\u001b[0;34m\u001b[0m\u001b[0;34m\u001b[0m\u001b[0m\n\u001b[1;32m    291\u001b[0m                 \u001b[0;31m# This is still necessary, as a SSLError can actually be\u001b[0m\u001b[0;34m\u001b[0m\u001b[0;34m\u001b[0m\u001b[0;34m\u001b[0m\u001b[0m\n",
      "\u001b[0;32m~/anaconda3/lib/python3.7/site-packages/tweepy/streaming.py\u001b[0m in \u001b[0;36m_read_loop\u001b[0;34m(self, resp)\u001b[0m\n\u001b[1;32m    337\u001b[0m             \u001b[0mlength\u001b[0m \u001b[0;34m=\u001b[0m \u001b[0;36m0\u001b[0m\u001b[0;34m\u001b[0m\u001b[0;34m\u001b[0m\u001b[0m\n\u001b[1;32m    338\u001b[0m             \u001b[0;32mwhile\u001b[0m \u001b[0;32mnot\u001b[0m \u001b[0mresp\u001b[0m\u001b[0;34m.\u001b[0m\u001b[0mraw\u001b[0m\u001b[0;34m.\u001b[0m\u001b[0mclosed\u001b[0m\u001b[0;34m:\u001b[0m\u001b[0;34m\u001b[0m\u001b[0;34m\u001b[0m\u001b[0m\n\u001b[0;32m--> 339\u001b[0;31m                 \u001b[0mline\u001b[0m \u001b[0;34m=\u001b[0m \u001b[0mbuf\u001b[0m\u001b[0;34m.\u001b[0m\u001b[0mread_line\u001b[0m\u001b[0;34m(\u001b[0m\u001b[0;34m)\u001b[0m\u001b[0;34m\u001b[0m\u001b[0;34m\u001b[0m\u001b[0m\n\u001b[0m\u001b[1;32m    340\u001b[0m                 \u001b[0mstripped_line\u001b[0m \u001b[0;34m=\u001b[0m \u001b[0mline\u001b[0m\u001b[0;34m.\u001b[0m\u001b[0mstrip\u001b[0m\u001b[0;34m(\u001b[0m\u001b[0;34m)\u001b[0m \u001b[0;32mif\u001b[0m \u001b[0mline\u001b[0m \u001b[0;32melse\u001b[0m \u001b[0mline\u001b[0m \u001b[0;31m# line is sometimes None so we need to check here\u001b[0m\u001b[0;34m\u001b[0m\u001b[0;34m\u001b[0m\u001b[0m\n\u001b[1;32m    341\u001b[0m                 \u001b[0;32mif\u001b[0m \u001b[0;32mnot\u001b[0m \u001b[0mstripped_line\u001b[0m\u001b[0;34m:\u001b[0m\u001b[0;34m\u001b[0m\u001b[0;34m\u001b[0m\u001b[0m\n",
      "\u001b[0;32m~/anaconda3/lib/python3.7/site-packages/tweepy/streaming.py\u001b[0m in \u001b[0;36mread_line\u001b[0;34m(self, sep)\u001b[0m\n\u001b[1;32m    198\u001b[0m             \u001b[0;32melse\u001b[0m\u001b[0;34m:\u001b[0m\u001b[0;34m\u001b[0m\u001b[0;34m\u001b[0m\u001b[0m\n\u001b[1;32m    199\u001b[0m                 \u001b[0mstart\u001b[0m \u001b[0;34m=\u001b[0m \u001b[0mlen\u001b[0m\u001b[0;34m(\u001b[0m\u001b[0mself\u001b[0m\u001b[0;34m.\u001b[0m\u001b[0m_buffer\u001b[0m\u001b[0;34m)\u001b[0m\u001b[0;34m\u001b[0m\u001b[0;34m\u001b[0m\u001b[0m\n\u001b[0;32m--> 200\u001b[0;31m             \u001b[0mself\u001b[0m\u001b[0;34m.\u001b[0m\u001b[0m_buffer\u001b[0m \u001b[0;34m+=\u001b[0m \u001b[0mself\u001b[0m\u001b[0;34m.\u001b[0m\u001b[0m_stream\u001b[0m\u001b[0;34m.\u001b[0m\u001b[0mread\u001b[0m\u001b[0;34m(\u001b[0m\u001b[0mself\u001b[0m\u001b[0;34m.\u001b[0m\u001b[0m_chunk_size\u001b[0m\u001b[0;34m)\u001b[0m\u001b[0;34m\u001b[0m\u001b[0;34m\u001b[0m\u001b[0m\n\u001b[0m\u001b[1;32m    201\u001b[0m         \u001b[0;32mreturn\u001b[0m \u001b[0msix\u001b[0m\u001b[0;34m.\u001b[0m\u001b[0mb\u001b[0m\u001b[0;34m(\u001b[0m\u001b[0;34m''\u001b[0m\u001b[0;34m)\u001b[0m\u001b[0;34m\u001b[0m\u001b[0;34m\u001b[0m\u001b[0m\n\u001b[1;32m    202\u001b[0m \u001b[0;34m\u001b[0m\u001b[0m\n",
      "\u001b[0;32m~/anaconda3/lib/python3.7/site-packages/urllib3/response.py\u001b[0m in \u001b[0;36mread\u001b[0;34m(self, amt, decode_content, cache_content)\u001b[0m\n\u001b[1;32m    440\u001b[0m             \u001b[0;32melse\u001b[0m\u001b[0;34m:\u001b[0m\u001b[0;34m\u001b[0m\u001b[0;34m\u001b[0m\u001b[0m\n\u001b[1;32m    441\u001b[0m                 \u001b[0mcache_content\u001b[0m \u001b[0;34m=\u001b[0m \u001b[0;32mFalse\u001b[0m\u001b[0;34m\u001b[0m\u001b[0;34m\u001b[0m\u001b[0m\n\u001b[0;32m--> 442\u001b[0;31m                 \u001b[0mdata\u001b[0m \u001b[0;34m=\u001b[0m \u001b[0mself\u001b[0m\u001b[0;34m.\u001b[0m\u001b[0m_fp\u001b[0m\u001b[0;34m.\u001b[0m\u001b[0mread\u001b[0m\u001b[0;34m(\u001b[0m\u001b[0mamt\u001b[0m\u001b[0;34m)\u001b[0m\u001b[0;34m\u001b[0m\u001b[0;34m\u001b[0m\u001b[0m\n\u001b[0m\u001b[1;32m    443\u001b[0m                 \u001b[0;32mif\u001b[0m \u001b[0mamt\u001b[0m \u001b[0;34m!=\u001b[0m \u001b[0;36m0\u001b[0m \u001b[0;32mand\u001b[0m \u001b[0;32mnot\u001b[0m \u001b[0mdata\u001b[0m\u001b[0;34m:\u001b[0m  \u001b[0;31m# Platform-specific: Buggy versions of Python.\u001b[0m\u001b[0;34m\u001b[0m\u001b[0;34m\u001b[0m\u001b[0m\n\u001b[1;32m    444\u001b[0m                     \u001b[0;31m# Close the connection when no data is returned\u001b[0m\u001b[0;34m\u001b[0m\u001b[0;34m\u001b[0m\u001b[0;34m\u001b[0m\u001b[0m\n",
      "\u001b[0;32m~/anaconda3/lib/python3.7/http/client.py\u001b[0m in \u001b[0;36mread\u001b[0;34m(self, amt)\u001b[0m\n\u001b[1;32m    445\u001b[0m             \u001b[0;31m# Amount is given, implement using readinto\u001b[0m\u001b[0;34m\u001b[0m\u001b[0;34m\u001b[0m\u001b[0;34m\u001b[0m\u001b[0m\n\u001b[1;32m    446\u001b[0m             \u001b[0mb\u001b[0m \u001b[0;34m=\u001b[0m \u001b[0mbytearray\u001b[0m\u001b[0;34m(\u001b[0m\u001b[0mamt\u001b[0m\u001b[0;34m)\u001b[0m\u001b[0;34m\u001b[0m\u001b[0;34m\u001b[0m\u001b[0m\n\u001b[0;32m--> 447\u001b[0;31m             \u001b[0mn\u001b[0m \u001b[0;34m=\u001b[0m \u001b[0mself\u001b[0m\u001b[0;34m.\u001b[0m\u001b[0mreadinto\u001b[0m\u001b[0;34m(\u001b[0m\u001b[0mb\u001b[0m\u001b[0;34m)\u001b[0m\u001b[0;34m\u001b[0m\u001b[0;34m\u001b[0m\u001b[0m\n\u001b[0m\u001b[1;32m    448\u001b[0m             \u001b[0;32mreturn\u001b[0m \u001b[0mmemoryview\u001b[0m\u001b[0;34m(\u001b[0m\u001b[0mb\u001b[0m\u001b[0;34m)\u001b[0m\u001b[0;34m[\u001b[0m\u001b[0;34m:\u001b[0m\u001b[0mn\u001b[0m\u001b[0;34m]\u001b[0m\u001b[0;34m.\u001b[0m\u001b[0mtobytes\u001b[0m\u001b[0;34m(\u001b[0m\u001b[0;34m)\u001b[0m\u001b[0;34m\u001b[0m\u001b[0;34m\u001b[0m\u001b[0m\n\u001b[1;32m    449\u001b[0m         \u001b[0;32melse\u001b[0m\u001b[0;34m:\u001b[0m\u001b[0;34m\u001b[0m\u001b[0;34m\u001b[0m\u001b[0m\n",
      "\u001b[0;32m~/anaconda3/lib/python3.7/http/client.py\u001b[0m in \u001b[0;36mreadinto\u001b[0;34m(self, b)\u001b[0m\n\u001b[1;32m    479\u001b[0m \u001b[0;34m\u001b[0m\u001b[0m\n\u001b[1;32m    480\u001b[0m         \u001b[0;32mif\u001b[0m \u001b[0mself\u001b[0m\u001b[0;34m.\u001b[0m\u001b[0mchunked\u001b[0m\u001b[0;34m:\u001b[0m\u001b[0;34m\u001b[0m\u001b[0;34m\u001b[0m\u001b[0m\n\u001b[0;32m--> 481\u001b[0;31m             \u001b[0;32mreturn\u001b[0m \u001b[0mself\u001b[0m\u001b[0;34m.\u001b[0m\u001b[0m_readinto_chunked\u001b[0m\u001b[0;34m(\u001b[0m\u001b[0mb\u001b[0m\u001b[0;34m)\u001b[0m\u001b[0;34m\u001b[0m\u001b[0;34m\u001b[0m\u001b[0m\n\u001b[0m\u001b[1;32m    482\u001b[0m \u001b[0;34m\u001b[0m\u001b[0m\n\u001b[1;32m    483\u001b[0m         \u001b[0;32mif\u001b[0m \u001b[0mself\u001b[0m\u001b[0;34m.\u001b[0m\u001b[0mlength\u001b[0m \u001b[0;32mis\u001b[0m \u001b[0;32mnot\u001b[0m \u001b[0;32mNone\u001b[0m\u001b[0;34m:\u001b[0m\u001b[0;34m\u001b[0m\u001b[0;34m\u001b[0m\u001b[0m\n",
      "\u001b[0;32m~/anaconda3/lib/python3.7/http/client.py\u001b[0m in \u001b[0;36m_readinto_chunked\u001b[0;34m(self, b)\u001b[0m\n\u001b[1;32m    574\u001b[0m         \u001b[0;32mtry\u001b[0m\u001b[0;34m:\u001b[0m\u001b[0;34m\u001b[0m\u001b[0;34m\u001b[0m\u001b[0m\n\u001b[1;32m    575\u001b[0m             \u001b[0;32mwhile\u001b[0m \u001b[0;32mTrue\u001b[0m\u001b[0;34m:\u001b[0m\u001b[0;34m\u001b[0m\u001b[0;34m\u001b[0m\u001b[0m\n\u001b[0;32m--> 576\u001b[0;31m                 \u001b[0mchunk_left\u001b[0m \u001b[0;34m=\u001b[0m \u001b[0mself\u001b[0m\u001b[0;34m.\u001b[0m\u001b[0m_get_chunk_left\u001b[0m\u001b[0;34m(\u001b[0m\u001b[0;34m)\u001b[0m\u001b[0;34m\u001b[0m\u001b[0;34m\u001b[0m\u001b[0m\n\u001b[0m\u001b[1;32m    577\u001b[0m                 \u001b[0;32mif\u001b[0m \u001b[0mchunk_left\u001b[0m \u001b[0;32mis\u001b[0m \u001b[0;32mNone\u001b[0m\u001b[0;34m:\u001b[0m\u001b[0;34m\u001b[0m\u001b[0;34m\u001b[0m\u001b[0m\n\u001b[1;32m    578\u001b[0m                     \u001b[0;32mreturn\u001b[0m \u001b[0mtotal_bytes\u001b[0m\u001b[0;34m\u001b[0m\u001b[0;34m\u001b[0m\u001b[0m\n",
      "\u001b[0;32m~/anaconda3/lib/python3.7/http/client.py\u001b[0m in \u001b[0;36m_get_chunk_left\u001b[0;34m(self)\u001b[0m\n\u001b[1;32m    542\u001b[0m                 \u001b[0mself\u001b[0m\u001b[0;34m.\u001b[0m\u001b[0m_safe_read\u001b[0m\u001b[0;34m(\u001b[0m\u001b[0;36m2\u001b[0m\u001b[0;34m)\u001b[0m  \u001b[0;31m# toss the CRLF at the end of the chunk\u001b[0m\u001b[0;34m\u001b[0m\u001b[0;34m\u001b[0m\u001b[0m\n\u001b[1;32m    543\u001b[0m             \u001b[0;32mtry\u001b[0m\u001b[0;34m:\u001b[0m\u001b[0;34m\u001b[0m\u001b[0;34m\u001b[0m\u001b[0m\n\u001b[0;32m--> 544\u001b[0;31m                 \u001b[0mchunk_left\u001b[0m \u001b[0;34m=\u001b[0m \u001b[0mself\u001b[0m\u001b[0;34m.\u001b[0m\u001b[0m_read_next_chunk_size\u001b[0m\u001b[0;34m(\u001b[0m\u001b[0;34m)\u001b[0m\u001b[0;34m\u001b[0m\u001b[0;34m\u001b[0m\u001b[0m\n\u001b[0m\u001b[1;32m    545\u001b[0m             \u001b[0;32mexcept\u001b[0m \u001b[0mValueError\u001b[0m\u001b[0;34m:\u001b[0m\u001b[0;34m\u001b[0m\u001b[0;34m\u001b[0m\u001b[0m\n\u001b[1;32m    546\u001b[0m                 \u001b[0;32mraise\u001b[0m \u001b[0mIncompleteRead\u001b[0m\u001b[0;34m(\u001b[0m\u001b[0;34mb''\u001b[0m\u001b[0;34m)\u001b[0m\u001b[0;34m\u001b[0m\u001b[0;34m\u001b[0m\u001b[0m\n",
      "\u001b[0;32m~/anaconda3/lib/python3.7/http/client.py\u001b[0m in \u001b[0;36m_read_next_chunk_size\u001b[0;34m(self)\u001b[0m\n\u001b[1;32m    502\u001b[0m     \u001b[0;32mdef\u001b[0m \u001b[0m_read_next_chunk_size\u001b[0m\u001b[0;34m(\u001b[0m\u001b[0mself\u001b[0m\u001b[0;34m)\u001b[0m\u001b[0;34m:\u001b[0m\u001b[0;34m\u001b[0m\u001b[0;34m\u001b[0m\u001b[0m\n\u001b[1;32m    503\u001b[0m         \u001b[0;31m# Read the next chunk size from the file\u001b[0m\u001b[0;34m\u001b[0m\u001b[0;34m\u001b[0m\u001b[0;34m\u001b[0m\u001b[0m\n\u001b[0;32m--> 504\u001b[0;31m         \u001b[0mline\u001b[0m \u001b[0;34m=\u001b[0m \u001b[0mself\u001b[0m\u001b[0;34m.\u001b[0m\u001b[0mfp\u001b[0m\u001b[0;34m.\u001b[0m\u001b[0mreadline\u001b[0m\u001b[0;34m(\u001b[0m\u001b[0m_MAXLINE\u001b[0m \u001b[0;34m+\u001b[0m \u001b[0;36m1\u001b[0m\u001b[0;34m)\u001b[0m\u001b[0;34m\u001b[0m\u001b[0;34m\u001b[0m\u001b[0m\n\u001b[0m\u001b[1;32m    505\u001b[0m         \u001b[0;32mif\u001b[0m \u001b[0mlen\u001b[0m\u001b[0;34m(\u001b[0m\u001b[0mline\u001b[0m\u001b[0;34m)\u001b[0m \u001b[0;34m>\u001b[0m \u001b[0m_MAXLINE\u001b[0m\u001b[0;34m:\u001b[0m\u001b[0;34m\u001b[0m\u001b[0;34m\u001b[0m\u001b[0m\n\u001b[1;32m    506\u001b[0m             \u001b[0;32mraise\u001b[0m \u001b[0mLineTooLong\u001b[0m\u001b[0;34m(\u001b[0m\u001b[0;34m\"chunk size\"\u001b[0m\u001b[0;34m)\u001b[0m\u001b[0;34m\u001b[0m\u001b[0;34m\u001b[0m\u001b[0m\n",
      "\u001b[0;32m~/anaconda3/lib/python3.7/socket.py\u001b[0m in \u001b[0;36mreadinto\u001b[0;34m(self, b)\u001b[0m\n\u001b[1;32m    587\u001b[0m         \u001b[0;32mwhile\u001b[0m \u001b[0;32mTrue\u001b[0m\u001b[0;34m:\u001b[0m\u001b[0;34m\u001b[0m\u001b[0;34m\u001b[0m\u001b[0m\n\u001b[1;32m    588\u001b[0m             \u001b[0;32mtry\u001b[0m\u001b[0;34m:\u001b[0m\u001b[0;34m\u001b[0m\u001b[0;34m\u001b[0m\u001b[0m\n\u001b[0;32m--> 589\u001b[0;31m                 \u001b[0;32mreturn\u001b[0m \u001b[0mself\u001b[0m\u001b[0;34m.\u001b[0m\u001b[0m_sock\u001b[0m\u001b[0;34m.\u001b[0m\u001b[0mrecv_into\u001b[0m\u001b[0;34m(\u001b[0m\u001b[0mb\u001b[0m\u001b[0;34m)\u001b[0m\u001b[0;34m\u001b[0m\u001b[0;34m\u001b[0m\u001b[0m\n\u001b[0m\u001b[1;32m    590\u001b[0m             \u001b[0;32mexcept\u001b[0m \u001b[0mtimeout\u001b[0m\u001b[0;34m:\u001b[0m\u001b[0;34m\u001b[0m\u001b[0;34m\u001b[0m\u001b[0m\n\u001b[1;32m    591\u001b[0m                 \u001b[0mself\u001b[0m\u001b[0;34m.\u001b[0m\u001b[0m_timeout_occurred\u001b[0m \u001b[0;34m=\u001b[0m \u001b[0;32mTrue\u001b[0m\u001b[0;34m\u001b[0m\u001b[0;34m\u001b[0m\u001b[0m\n",
      "\u001b[0;32m~/anaconda3/lib/python3.7/site-packages/urllib3/contrib/pyopenssl.py\u001b[0m in \u001b[0;36mrecv_into\u001b[0;34m(self, *args, **kwargs)\u001b[0m\n\u001b[1;32m    304\u001b[0m                 \u001b[0;32mraise\u001b[0m\u001b[0;34m\u001b[0m\u001b[0;34m\u001b[0m\u001b[0m\n\u001b[1;32m    305\u001b[0m         \u001b[0;32mexcept\u001b[0m \u001b[0mOpenSSL\u001b[0m\u001b[0;34m.\u001b[0m\u001b[0mSSL\u001b[0m\u001b[0;34m.\u001b[0m\u001b[0mWantReadError\u001b[0m\u001b[0;34m:\u001b[0m\u001b[0;34m\u001b[0m\u001b[0;34m\u001b[0m\u001b[0m\n\u001b[0;32m--> 306\u001b[0;31m             \u001b[0;32mif\u001b[0m \u001b[0;32mnot\u001b[0m \u001b[0mutil\u001b[0m\u001b[0;34m.\u001b[0m\u001b[0mwait_for_read\u001b[0m\u001b[0;34m(\u001b[0m\u001b[0mself\u001b[0m\u001b[0;34m.\u001b[0m\u001b[0msocket\u001b[0m\u001b[0;34m,\u001b[0m \u001b[0mself\u001b[0m\u001b[0;34m.\u001b[0m\u001b[0msocket\u001b[0m\u001b[0;34m.\u001b[0m\u001b[0mgettimeout\u001b[0m\u001b[0;34m(\u001b[0m\u001b[0;34m)\u001b[0m\u001b[0;34m)\u001b[0m\u001b[0;34m:\u001b[0m\u001b[0;34m\u001b[0m\u001b[0;34m\u001b[0m\u001b[0m\n\u001b[0m\u001b[1;32m    307\u001b[0m                 \u001b[0;32mraise\u001b[0m \u001b[0mtimeout\u001b[0m\u001b[0;34m(\u001b[0m\u001b[0;34m'The read operation timed out'\u001b[0m\u001b[0;34m)\u001b[0m\u001b[0;34m\u001b[0m\u001b[0;34m\u001b[0m\u001b[0m\n\u001b[1;32m    308\u001b[0m             \u001b[0;32melse\u001b[0m\u001b[0;34m:\u001b[0m\u001b[0;34m\u001b[0m\u001b[0;34m\u001b[0m\u001b[0m\n",
      "\u001b[0;32m~/anaconda3/lib/python3.7/site-packages/urllib3/util/wait.py\u001b[0m in \u001b[0;36mwait_for_read\u001b[0;34m(sock, timeout)\u001b[0m\n\u001b[1;32m    141\u001b[0m     \u001b[0mReturns\u001b[0m \u001b[0;32mTrue\u001b[0m \u001b[0;32mif\u001b[0m \u001b[0mthe\u001b[0m \u001b[0msocket\u001b[0m \u001b[0;32mis\u001b[0m \u001b[0mreadable\u001b[0m\u001b[0;34m,\u001b[0m \u001b[0;32mor\u001b[0m \u001b[0;32mFalse\u001b[0m \u001b[0;32mif\u001b[0m \u001b[0mthe\u001b[0m \u001b[0mtimeout\u001b[0m \u001b[0mexpired\u001b[0m\u001b[0;34m.\u001b[0m\u001b[0;34m\u001b[0m\u001b[0;34m\u001b[0m\u001b[0m\n\u001b[1;32m    142\u001b[0m     \"\"\"\n\u001b[0;32m--> 143\u001b[0;31m     \u001b[0;32mreturn\u001b[0m \u001b[0mwait_for_socket\u001b[0m\u001b[0;34m(\u001b[0m\u001b[0msock\u001b[0m\u001b[0;34m,\u001b[0m \u001b[0mread\u001b[0m\u001b[0;34m=\u001b[0m\u001b[0;32mTrue\u001b[0m\u001b[0;34m,\u001b[0m \u001b[0mtimeout\u001b[0m\u001b[0;34m=\u001b[0m\u001b[0mtimeout\u001b[0m\u001b[0;34m)\u001b[0m\u001b[0;34m\u001b[0m\u001b[0;34m\u001b[0m\u001b[0m\n\u001b[0m\u001b[1;32m    144\u001b[0m \u001b[0;34m\u001b[0m\u001b[0m\n\u001b[1;32m    145\u001b[0m \u001b[0;34m\u001b[0m\u001b[0m\n",
      "\u001b[0;32m~/anaconda3/lib/python3.7/site-packages/urllib3/util/wait.py\u001b[0m in \u001b[0;36mpoll_wait_for_socket\u001b[0;34m(sock, read, write, timeout)\u001b[0m\n\u001b[1;32m    102\u001b[0m         \u001b[0;32mreturn\u001b[0m \u001b[0mpoll_obj\u001b[0m\u001b[0;34m.\u001b[0m\u001b[0mpoll\u001b[0m\u001b[0;34m(\u001b[0m\u001b[0mt\u001b[0m\u001b[0;34m)\u001b[0m\u001b[0;34m\u001b[0m\u001b[0;34m\u001b[0m\u001b[0m\n\u001b[1;32m    103\u001b[0m \u001b[0;34m\u001b[0m\u001b[0m\n\u001b[0;32m--> 104\u001b[0;31m     \u001b[0;32mreturn\u001b[0m \u001b[0mbool\u001b[0m\u001b[0;34m(\u001b[0m\u001b[0m_retry_on_intr\u001b[0m\u001b[0;34m(\u001b[0m\u001b[0mdo_poll\u001b[0m\u001b[0;34m,\u001b[0m \u001b[0mtimeout\u001b[0m\u001b[0;34m)\u001b[0m\u001b[0;34m)\u001b[0m\u001b[0;34m\u001b[0m\u001b[0;34m\u001b[0m\u001b[0m\n\u001b[0m\u001b[1;32m    105\u001b[0m \u001b[0;34m\u001b[0m\u001b[0m\n\u001b[1;32m    106\u001b[0m \u001b[0;34m\u001b[0m\u001b[0m\n",
      "\u001b[0;32m~/anaconda3/lib/python3.7/site-packages/urllib3/util/wait.py\u001b[0m in \u001b[0;36m_retry_on_intr\u001b[0;34m(fn, timeout)\u001b[0m\n\u001b[1;32m     40\u001b[0m     \u001b[0;31m# Modern Python, that retries syscalls by default\u001b[0m\u001b[0;34m\u001b[0m\u001b[0;34m\u001b[0m\u001b[0;34m\u001b[0m\u001b[0m\n\u001b[1;32m     41\u001b[0m     \u001b[0;32mdef\u001b[0m \u001b[0m_retry_on_intr\u001b[0m\u001b[0;34m(\u001b[0m\u001b[0mfn\u001b[0m\u001b[0;34m,\u001b[0m \u001b[0mtimeout\u001b[0m\u001b[0;34m)\u001b[0m\u001b[0;34m:\u001b[0m\u001b[0;34m\u001b[0m\u001b[0;34m\u001b[0m\u001b[0m\n\u001b[0;32m---> 42\u001b[0;31m         \u001b[0;32mreturn\u001b[0m \u001b[0mfn\u001b[0m\u001b[0;34m(\u001b[0m\u001b[0mtimeout\u001b[0m\u001b[0;34m)\u001b[0m\u001b[0;34m\u001b[0m\u001b[0;34m\u001b[0m\u001b[0m\n\u001b[0m\u001b[1;32m     43\u001b[0m \u001b[0;32melse\u001b[0m\u001b[0;34m:\u001b[0m\u001b[0;34m\u001b[0m\u001b[0;34m\u001b[0m\u001b[0m\n\u001b[1;32m     44\u001b[0m     \u001b[0;31m# Old and broken Pythons.\u001b[0m\u001b[0;34m\u001b[0m\u001b[0;34m\u001b[0m\u001b[0;34m\u001b[0m\u001b[0m\n",
      "\u001b[0;32m~/anaconda3/lib/python3.7/site-packages/urllib3/util/wait.py\u001b[0m in \u001b[0;36mdo_poll\u001b[0;34m(t)\u001b[0m\n\u001b[1;32m    100\u001b[0m         \u001b[0;32mif\u001b[0m \u001b[0mt\u001b[0m \u001b[0;32mis\u001b[0m \u001b[0;32mnot\u001b[0m \u001b[0;32mNone\u001b[0m\u001b[0;34m:\u001b[0m\u001b[0;34m\u001b[0m\u001b[0;34m\u001b[0m\u001b[0m\n\u001b[1;32m    101\u001b[0m             \u001b[0mt\u001b[0m \u001b[0;34m*=\u001b[0m \u001b[0;36m1000\u001b[0m\u001b[0;34m\u001b[0m\u001b[0;34m\u001b[0m\u001b[0m\n\u001b[0;32m--> 102\u001b[0;31m         \u001b[0;32mreturn\u001b[0m \u001b[0mpoll_obj\u001b[0m\u001b[0;34m.\u001b[0m\u001b[0mpoll\u001b[0m\u001b[0;34m(\u001b[0m\u001b[0mt\u001b[0m\u001b[0;34m)\u001b[0m\u001b[0;34m\u001b[0m\u001b[0;34m\u001b[0m\u001b[0m\n\u001b[0m\u001b[1;32m    103\u001b[0m \u001b[0;34m\u001b[0m\u001b[0m\n\u001b[1;32m    104\u001b[0m     \u001b[0;32mreturn\u001b[0m \u001b[0mbool\u001b[0m\u001b[0;34m(\u001b[0m\u001b[0m_retry_on_intr\u001b[0m\u001b[0;34m(\u001b[0m\u001b[0mdo_poll\u001b[0m\u001b[0;34m,\u001b[0m \u001b[0mtimeout\u001b[0m\u001b[0;34m)\u001b[0m\u001b[0;34m)\u001b[0m\u001b[0;34m\u001b[0m\u001b[0;34m\u001b[0m\u001b[0m\n",
      "\u001b[0;31mKeyboardInterrupt\u001b[0m: "
     ]
    }
   ],
   "source": [
    "with open(\"NYC.json\", \"wt\") as fp:\n",
    "    listener = FileOutListener(fp)\n",
    "\n",
    "    stream = tweepy.Stream(auth, listener)\n",
    "    stream.filter(locations=bb)"
   ]
  },
  {
   "cell_type": "code",
   "execution_count": null,
   "metadata": {},
   "outputs": [],
   "source": []
  }
 ],
 "metadata": {
  "kernelspec": {
   "display_name": "Python 3",
   "language": "python",
   "name": "python3"
  },
  "language_info": {
   "codemirror_mode": {
    "name": "ipython",
    "version": 3
   },
   "file_extension": ".py",
   "mimetype": "text/x-python",
   "name": "python",
   "nbconvert_exporter": "python",
   "pygments_lexer": "ipython3",
   "version": "3.7.3"
  }
 },
 "nbformat": 4,
 "nbformat_minor": 2
}
